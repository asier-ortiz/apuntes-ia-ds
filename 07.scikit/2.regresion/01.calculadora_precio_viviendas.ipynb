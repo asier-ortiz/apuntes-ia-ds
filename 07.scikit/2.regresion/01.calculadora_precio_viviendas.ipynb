{
 "cells": [
  {
   "cell_type": "markdown",
   "id": "8aa598d3",
   "metadata": {
    "tags": []
   },
   "source": [
    "## Ejercicio - Regresión Viviendas Barcelona\n",
    "\n",
    "- Utilizando el dataset de publicaciones de venta de viviendas en Barcelona _**viviendas_barcelona.parquet**_, entrena un modelo de regresión lineal múltiple que sea capaz de calcular el precio de venta:\n",
    "\n",
    "    - Antes de crear el modelo y entrenarlo, haz un **EDA** de los datos.\n",
    "        - ¿Qué columnas pueden ser las más importantes?\n",
    "        - ¿Como se distribuyen los precios?\n",
    "        - ¿Qué columnas sería factible limpiar?\n",
    "        - ¿Qué significan los **np.nan**?\n",
    "     \n",
    "    - Cuando entiendas bien los datos con los que estás tratando, puedes proceder a realizar un preprocesamiento:\n",
    "        - Elimina duplicados.\n",
    "        - Elimina columnas innecesarias\n",
    "        - Trata los valores perdidos **np.nan**.\n",
    "        - Maneja los outliers como consideres.\n",
    "        - Realiza transformaciones a los datos que consideres necesarias.\n",
    "        - Codifica los datos categóricos para que el modelo los entienda (pásalos a números).\n",
    "        - Considera normalizar los datos antes de utilizarlos para el entreno.\n",
    "        \n",
    "    - Entrena el modelo con un subconjunto de 70-80% del dataset.\n",
    "      \n",
    "    - Utiliza los datos restantes para comprobar cómo de bueno es el modelo:\n",
    "        - Calcula **R2**, **MAE** y **MSE**.\n",
    "        \n",
    "- Importa las librerías que vayas a necesitar."
   ]
  },
  {
   "cell_type": "code",
   "execution_count": 140,
   "id": "9b372f35",
   "metadata": {},
   "outputs": [],
   "source": [
    "import pandas as pd\n",
    "import numpy as np\n",
    "import seaborn as sns\n",
    "import matplotlib.pyplot as plt\n",
    "\n",
    "# Modelo\n",
    "from sklearn.linear_model import LinearRegression\n",
    "\n",
    "# Herramientas de preprocesamiento\n",
    "from sklearn.preprocessing import MinMaxScaler, LabelEncoder, TargetEncoder, OneHotEncoder\n",
    "\n",
    "# Split\n",
    "from sklearn.model_selection import train_test_split\n",
    "\n",
    "# Métricas\n",
    "from sklearn.metrics import r2_score, mean_absolute_error, mean_squared_error\n",
    "\n",
    "# pip install pyarrow\n",
    "df = pd.read_parquet(\"../Data/viviendas_barcelona.parquet\")"
   ]
  },
  {
   "cell_type": "code",
   "execution_count": 141,
   "id": "b73c876e",
   "metadata": {},
   "outputs": [],
   "source": [
    "df.drop(['id_1', 'id_2', 'updated', 'timestamp', 'province', 'location', 'Referencia', 'Consumo', 'Se aceptan mascotas'], axis=1, inplace=True)"
   ]
  },
  {
   "cell_type": "code",
   "execution_count": 142,
   "id": "23b2edc5",
   "metadata": {},
   "outputs": [
    {
     "name": "stdout",
     "output_type": "stream",
     "text": [
      "      price                                              title        lat  \\\n",
      "0   52000.0            Piso en venta en Avenida Casetes, nº 33  41.348350   \n",
      "1  315000.0    Casa adosada en venta en Vilafranca del Penedes  41.276503   \n",
      "2  650000.0  Casa unifamiliar en venta en Sant Sadurní d'Anoia  41.426682   \n",
      "3  315000.0       Casa en venta en Carrer de Sant Pere Molanta  41.318658   \n",
      "4  209900.0  Chalet en venta en Calle Carrer Serral Llarg, ...  41.369700   \n",
      "\n",
      "        lng                                  agency Superficie construida  \\\n",
      "0  1.701970       Inmuebles de Aliseda Inmobiliaria                 88 m²   \n",
      "1  1.652229  Inmuebles de Engel & Völkers Barcelona                179 m²   \n",
      "2  1.792630               Inmuebles de SAFTI ESPAÑA                253 m²   \n",
      "3  1.754891        Inmuebles de ALARCON PROPIEDADES                198 m²   \n",
      "4  1.876770              Inmuebles de FINCAS MARINA                494 m²   \n",
      "\n",
      "                           Emisiones             Clasificación Baños  \\\n",
      "0                      A B C D E F G    Pendiente de completar     1   \n",
      "1                               None               No indicado     2   \n",
      "2    63 Kg CO2/m2 año  A B C D E F G                Disponible     2   \n",
      "3    72 Kg CO2/m2 año  A B C D E F G                Disponible     2   \n",
      "4                      A B C D E F G                Disponible     2   \n",
      "\n",
      "  Habitaciones           Antigüedad Garaje  Terraza Ascensor  Tipo de casa  \\\n",
      "0            3                 None   None     None     None          None   \n",
      "1            4                 None      1  Terraza     None       Adosada   \n",
      "2            5                 None      2  Terraza     None   Unifamiliar   \n",
      "3            3   Entre 30 y 50 años      1  Terraza     None          None   \n",
      "4            3                 None   None  Terraza     None          None   \n",
      "\n",
      "  Superficie útil  \n",
      "0            None  \n",
      "1            None  \n",
      "2          220 m²  \n",
      "3          100 m²  \n",
      "4          398 m²  \n"
     ]
    }
   ],
   "source": [
    "print(df.head())"
   ]
  },
  {
   "cell_type": "code",
   "execution_count": 143,
   "id": "14364120",
   "metadata": {},
   "outputs": [],
   "source": [
    "# Superficie '1.250 m2' --> 1250\n",
    "def extraer_superficie_num(superficie):\n",
    "    try:\n",
    "        return int(superficie.split()[0].replace('.',''))\n",
    "    except:\n",
    "        return np.nan\n",
    "\n",
    "df['Superficie construida'] = df['Superficie construida'].apply(extraer_superficie_num)\n",
    "median = df['Superficie construida'].median()\n",
    "df['Superficie construida'] = df['Superficie construida'].fillna(median).round(0).astype(int)"
   ]
  },
  {
   "cell_type": "code",
   "execution_count": 144,
   "id": "81db9e85",
   "metadata": {},
   "outputs": [],
   "source": [
    "# Convertir a numérico la columna Superficie útil y rellenar sus nulos\n",
    "df['Superficie útil'] = df['Superficie útil'].apply(extraer_superficie_num)\n",
    "\n",
    "def fill_superficie_util(fila):\n",
    "    if pd.isnull(fila['Superficie útil']):\n",
    "        return fila['Superficie construida'] * 0.85 # Asumimos que la superficie útil es un 15 % menos que la superficie total\n",
    "    else:\n",
    "        return fila['Superficie útil']\n",
    "\n",
    "df['Superficie útil'] = df.apply(fill_superficie_util, axis=1)"
   ]
  },
  {
   "cell_type": "code",
   "execution_count": 145,
   "id": "f51820a0",
   "metadata": {},
   "outputs": [],
   "source": [
    "# Emisiones (se podría eliminar si sabemos que no afecta a precio en la realidad)\n",
    "def extraer_emisiones_num(emision):\n",
    "    try:\n",
    "        return float(emision.strip().split()[0].replace(',','.'))\n",
    "    except:\n",
    "        return np.nan\n",
    "\n",
    "df['Emisiones'] = df['Emisiones'].apply(extraer_emisiones_num)\n",
    "median = df['Emisiones'].median()\n",
    "df['Emisiones'] = df['Emisiones'].fillna(median).round(2).astype(float)"
   ]
  },
  {
   "cell_type": "code",
   "execution_count": 146,
   "id": "8c856a54",
   "metadata": {},
   "outputs": [],
   "source": [
    "# Estrategia 1: crer una columna agency_size que represente en número de propiedades en venta para esa agency\n",
    "# Estrategia 2: crear una columna el percentil de tamaño de agencia en base al número de propiedades en venta\n",
    "# Estrategia 3: discretizarla en grupos: propietario individual, agencia pequeña, agencia mediana, agencia grande\n",
    "# Estrategia 4: precio medio de las casas de la agencia\n",
    "\n",
    "# pd.set_option('display.max_rows', None)\n",
    "# print(df['agency'].value_counts())\n",
    "# df['agency'].isna().sum()\n",
    "df['agency'] = df['agency'].fillna('Other') # Rellena los nulos con la palabra 'Other' o 0\n",
    "df['agency_size'] = df['agency'].map(df['agency'].value_counts()) # Estrategia 1"
   ]
  },
  {
   "cell_type": "code",
   "execution_count": 147,
   "id": "161f9f9f",
   "metadata": {},
   "outputs": [
    {
     "data": {
      "text/html": [
       "<div>\n",
       "<style scoped>\n",
       "    .dataframe tbody tr th:only-of-type {\n",
       "        vertical-align: middle;\n",
       "    }\n",
       "\n",
       "    .dataframe tbody tr th {\n",
       "        vertical-align: top;\n",
       "    }\n",
       "\n",
       "    .dataframe thead th {\n",
       "        text-align: right;\n",
       "    }\n",
       "</style>\n",
       "<table border=\"1\" class=\"dataframe\">\n",
       "  <thead>\n",
       "    <tr style=\"text-align: right;\">\n",
       "      <th></th>\n",
       "      <th>agency</th>\n",
       "      <th>agency_size</th>\n",
       "    </tr>\n",
       "  </thead>\n",
       "  <tbody>\n",
       "    <tr>\n",
       "      <th>0</th>\n",
       "      <td>Inmuebles de Aliseda Inmobiliaria</td>\n",
       "      <td>493</td>\n",
       "    </tr>\n",
       "    <tr>\n",
       "      <th>1</th>\n",
       "      <td>Inmuebles de Engel &amp; Völkers Barcelona</td>\n",
       "      <td>2187</td>\n",
       "    </tr>\n",
       "    <tr>\n",
       "      <th>2</th>\n",
       "      <td>Inmuebles de SAFTI ESPAÑA</td>\n",
       "      <td>95</td>\n",
       "    </tr>\n",
       "    <tr>\n",
       "      <th>3</th>\n",
       "      <td>Inmuebles de ALARCON PROPIEDADES</td>\n",
       "      <td>30</td>\n",
       "    </tr>\n",
       "    <tr>\n",
       "      <th>4</th>\n",
       "      <td>Inmuebles de FINCAS MARINA</td>\n",
       "      <td>31</td>\n",
       "    </tr>\n",
       "    <tr>\n",
       "      <th>...</th>\n",
       "      <td>...</td>\n",
       "      <td>...</td>\n",
       "    </tr>\n",
       "    <tr>\n",
       "      <th>27474</th>\n",
       "      <td>Inmuebles de Engel &amp; Völkers Barcelona</td>\n",
       "      <td>2187</td>\n",
       "    </tr>\n",
       "    <tr>\n",
       "      <th>27475</th>\n",
       "      <td>Inmuebles de ESPAI HABITAT</td>\n",
       "      <td>28</td>\n",
       "    </tr>\n",
       "    <tr>\n",
       "      <th>27476</th>\n",
       "      <td>Inmuebles de Engel &amp; Völkers Barcelona</td>\n",
       "      <td>2187</td>\n",
       "    </tr>\n",
       "    <tr>\n",
       "      <th>27477</th>\n",
       "      <td>Inmuebles de AGC FINQUES</td>\n",
       "      <td>17</td>\n",
       "    </tr>\n",
       "    <tr>\n",
       "      <th>27478</th>\n",
       "      <td>Inmuebles de IMMOATIC.</td>\n",
       "      <td>13</td>\n",
       "    </tr>\n",
       "  </tbody>\n",
       "</table>\n",
       "<p>27479 rows × 2 columns</p>\n",
       "</div>"
      ],
      "text/plain": [
       "                                       agency  agency_size\n",
       "0           Inmuebles de Aliseda Inmobiliaria          493\n",
       "1      Inmuebles de Engel & Völkers Barcelona         2187\n",
       "2                   Inmuebles de SAFTI ESPAÑA           95\n",
       "3            Inmuebles de ALARCON PROPIEDADES           30\n",
       "4                  Inmuebles de FINCAS MARINA           31\n",
       "...                                       ...          ...\n",
       "27474  Inmuebles de Engel & Völkers Barcelona         2187\n",
       "27475              Inmuebles de ESPAI HABITAT           28\n",
       "27476  Inmuebles de Engel & Völkers Barcelona         2187\n",
       "27477                Inmuebles de AGC FINQUES           17\n",
       "27478                  Inmuebles de IMMOATIC.           13\n",
       "\n",
       "[27479 rows x 2 columns]"
      ]
     },
     "execution_count": 147,
     "metadata": {},
     "output_type": "execute_result"
    }
   ],
   "source": [
    "pd.reset_option('display.max_rows')\n",
    "df[['agency', 'agency_size']]"
   ]
  },
  {
   "cell_type": "code",
   "execution_count": 148,
   "id": "d4ddbc49",
   "metadata": {},
   "outputs": [],
   "source": [
    "# Baños, Habitaciones , Garaje ,  , Tipo de casa, Clasificación"
   ]
  },
  {
   "cell_type": "code",
   "execution_count": 149,
   "id": "150f9f1b",
   "metadata": {},
   "outputs": [],
   "source": [
    "def binarizar_ascensor(valor):\n",
    "    if pd.isnull(valor):\n",
    "        return 0\n",
    "    \n",
    "    valor = valor.strip().lower()\n",
    "    mapa_ascensor = {\n",
    "        None: 0,\n",
    "        'ascensor': 1,\n",
    "        'con ascensor': 1,\n",
    "        'del pis al pk': 1,\n",
    "        '2': 1,\n",
    "        'comedor y habitación': 1,\n",
    "        '2 ascensores en finca': 1,\n",
    "        'en proceso': 1,\n",
    "        'no': 0,\n",
    "        'ascensor disponible para acceder al terrado a tend': 1,\n",
    "        '2 ascensores': 1,\n",
    "        '4 personas 300kgs': 1,\n",
    "        'comunica con el parking': 1,\n",
    "        'en perfecto estado': 1,\n",
    "        'solo para los que viven en la 3 planta.': 1,\n",
    "        '1 o 2 personas': 1,\n",
    "        'amplio para silla de ruedas': 1,\n",
    "        'entre rellano': 1,\n",
    "        '4 personas 320kgs': 1,\n",
    "        '3 ( hay 3 escaleras)': 1,\n",
    "        'si amplio': 1,\n",
    "        'si, escalera b': 1,\n",
    "        '2 ascensores ( escalera a)': 1,\n",
    "        '3 personas 300kgs': 1,\n",
    "        '4 ascensores': 1,\n",
    "        '4': 1,\n",
    "        'dos ascensores': 1,\n",
    "        '3 ascensores en la finca': 1,\n",
    "        'en proyecto': 1,\n",
    "        'la caja de gero termo-acustico para reducir ruidos': 1,\n",
    "        'emplio': 1,\n",
    "        'pre-instalación': 1,\n",
    "        'si': 1,\n",
    "        'privado sólo para los áticos.': 0,\n",
    "        'conecta parking, viviendas y trasteros': 1,\n",
    "        'por uno cada siete vecinos': 1,\n",
    "        'de uso exclusivo para los áticos': 0,\n",
    "        'finca con ascensor': 1,\n",
    "        'interior': 1,\n",
    "        'no, solo es un primero': 0,\n",
    "        'no hay ascensor': 0,\n",
    "        'dos': 1,\n",
    "        '4 por rellano': 1,\n",
    "        'dos por planta': 1,\n",
    "        'de 4 por planta': 1,\n",
    "        'proyecto de ascensor aprobado': 1,\n",
    "        'true': 1,\n",
    "        'hasta el parquing': 1,\n",
    "        'ascensor renovado moderno': 1,\n",
    "        'nuevo': 1,\n",
    "        'al ser planta baja, no hace uso de él.': 0,\n",
    "        'solo 3 vecinos': 0,\n",
    "        'directo a la vivienda': 1,\n",
    "        '2 ascensores en la finca': 1,\n",
    "        'reformado': 1\n",
    "    }\n",
    "    return mapa_ascensor.get(valor, 0)\n",
    "    \n",
    "    \n",
    "df['Ascensor'] = df['Ascensor'].apply(binarizar_ascensor).astype(np.bool)"
   ]
  },
  {
   "cell_type": "code",
   "execution_count": 150,
   "id": "ac9a7036",
   "metadata": {},
   "outputs": [
    {
     "data": {
      "text/plain": [
       "Ascensor\n",
       "False    15639\n",
       "True     11840\n",
       "Name: count, dtype: int64"
      ]
     },
     "execution_count": 150,
     "metadata": {},
     "output_type": "execute_result"
    }
   ],
   "source": [
    "df['Ascensor'].value_counts()"
   ]
  },
  {
   "cell_type": "code",
   "execution_count": 151,
   "id": "6050b420",
   "metadata": {},
   "outputs": [],
   "source": [
    "def binarizar_terraza(valor):\n",
    "    try:\n",
    "        if pd.isnull(valor) or len(valor) == 0 or 'no' in valor.strip().lower():\n",
    "            return False\n",
    "        else:\n",
    "            return True\n",
    "    except:\n",
    "        return False\n",
    "\n",
    "df['Terraza'] = df['Terraza'].apply(binarizar_terraza)"
   ]
  },
  {
   "cell_type": "code",
   "execution_count": 152,
   "id": "471b3c5d",
   "metadata": {},
   "outputs": [
    {
     "data": {
      "text/plain": [
       "Terraza\n",
       "False    14886\n",
       "True     12593\n",
       "Name: count, dtype: int64"
      ]
     },
     "execution_count": 152,
     "metadata": {},
     "output_type": "execute_result"
    }
   ],
   "source": [
    "df['Terraza'].value_counts()"
   ]
  },
  {
   "cell_type": "code",
   "execution_count": 153,
   "id": "97fafb1a",
   "metadata": {},
   "outputs": [],
   "source": [
    "def categorizar_bathroom(valor):\n",
    "    if pd.isnull(valor):\n",
    "        return 0\n",
    "    \n",
    "    valor = int(valor)\n",
    "    \n",
    "    if valor <= 0:\n",
    "        return 0\n",
    "    elif valor >= 9:\n",
    "        return 9\n",
    "    else: \n",
    "        return valor\n",
    "    \n",
    "df['Baños'] = df['Baños'].apply(categorizar_bathroom)"
   ]
  },
  {
   "cell_type": "code",
   "execution_count": 154,
   "id": "91728857",
   "metadata": {},
   "outputs": [],
   "source": [
    "def categorizar_habitaciones(valor):\n",
    "    if pd.isnull(valor):\n",
    "        return 0\n",
    "    \n",
    "    valor = int(valor)\n",
    "    \n",
    "    if valor <= 0:\n",
    "        return 0\n",
    "    elif valor >= 11:\n",
    "        return 11\n",
    "    else: \n",
    "        return valor\n",
    "\n",
    "df['Habitaciones'] = df['Habitaciones'].apply(categorizar_habitaciones).astype(np.int8)"
   ]
  },
  {
   "cell_type": "code",
   "execution_count": 155,
   "id": "fb514633",
   "metadata": {},
   "outputs": [],
   "source": [
    "# quitamos los que tienen precio null\n",
    "df_to_pred = df[df['price'].isna()] # guardar filas con price nan por si se quieren predecir a futuro\n",
    "df = df[~df['price'].isna()]"
   ]
  },
  {
   "cell_type": "code",
   "execution_count": 156,
   "id": "6b6fd4ac",
   "metadata": {},
   "outputs": [
    {
     "data": {
      "text/plain": [
       "Index(['price', 'title', 'lat', 'lng', 'agency', 'Superficie construida',\n",
       "       'Emisiones', 'Clasificación', 'Baños', 'Habitaciones', 'Antigüedad',\n",
       "       'Garaje', 'Terraza', 'Ascensor', 'Tipo de casa', 'Superficie útil',\n",
       "       'agency_size'],\n",
       "      dtype='object')"
      ]
     },
     "execution_count": 156,
     "metadata": {},
     "output_type": "execute_result"
    }
   ],
   "source": [
    "df.columns"
   ]
  },
  {
   "cell_type": "code",
   "execution_count": 165,
   "id": "a8b0200a",
   "metadata": {},
   "outputs": [],
   "source": [
    "df_to_eda = df[[\n",
    "    'Habitaciones', 'Baños', 'Terraza', 'Ascensor', 'lat', 'lng',\n",
    "    'agency_size', 'Superficie construida', 'Superficie útil',\n",
    "    'Emisiones', 'price'\n",
    "]]"
   ]
  },
  {
   "cell_type": "code",
   "execution_count": 166,
   "id": "d6ace846",
   "metadata": {},
   "outputs": [],
   "source": [
    "df_to_eda = df_to_eda.dropna()"
   ]
  },
  {
   "cell_type": "code",
   "execution_count": 158,
   "id": "8f510e10",
   "metadata": {},
   "outputs": [],
   "source": [
    "# openstreemaps\n",
    "# nominatim\n",
    "# utilizar APIs para recuperar las coordenadas faltantes\n",
    "# Google Maps API de Google Cloud Platform\n",
    "# Obtener código postal podría ayudar\n",
    "# requests"
   ]
  },
  {
   "cell_type": "code",
   "execution_count": 167,
   "id": "7f44b468",
   "metadata": {},
   "outputs": [
    {
     "data": {
      "text/plain": [
       "Habitaciones                int8\n",
       "Baños                      int64\n",
       "Terraza                     bool\n",
       "Ascensor                    bool\n",
       "lat                      float64\n",
       "lng                      float64\n",
       "agency_size                int64\n",
       "Superficie construida      int64\n",
       "Superficie útil          float64\n",
       "Emisiones                float64\n",
       "price                    float64\n",
       "dtype: object"
      ]
     },
     "execution_count": 167,
     "metadata": {},
     "output_type": "execute_result"
    }
   ],
   "source": [
    "df_to_eda.dtypes"
   ]
  },
  {
   "cell_type": "code",
   "execution_count": 168,
   "id": "f803baa4",
   "metadata": {},
   "outputs": [
    {
     "data": {
      "text/plain": [
       "<Axes: >"
      ]
     },
     "execution_count": 168,
     "metadata": {},
     "output_type": "execute_result"
    },
    {
     "data": {
      "image/png": "[encoded data removed]",
      "text/plain": [
       "<Figure size 1000x800 with 2 Axes>"
      ]
     },
     "metadata": {},
     "output_type": "display_data"
    }
   ],
   "source": [
    "# heatmap de corr\n",
    "plt.figure(figsize=(10, 8))\n",
    "sns.heatmap(df_to_eda.corr().round(2), annot=True, cmap='viridis')"
   ]
  },
  {
   "cell_type": "code",
   "execution_count": 170,
   "id": "07e6e709",
   "metadata": {},
   "outputs": [],
   "source": [
    "df_to_model = df[[\n",
    "    'Habitaciones', 'Baños', 'Terraza',\n",
    "    'agency_size', 'price'\n",
    "]]"
   ]
  },
  {
   "cell_type": "code",
   "execution_count": 171,
   "id": "f3bdc866",
   "metadata": {},
   "outputs": [],
   "source": [
    "X = df_to_model.drop('price', axis=1)\n",
    "y = df_to_model['price']"
   ]
  },
  {
   "cell_type": "code",
   "execution_count": 172,
   "id": "1d4e7872",
   "metadata": {},
   "outputs": [],
   "source": [
    "X_train, X_test, y_train, y_test = train_test_split(X, y, test_size=0.20, random_state=42)"
   ]
  },
  {
   "cell_type": "code",
   "execution_count": 177,
   "id": "2adfe6af",
   "metadata": {},
   "outputs": [],
   "source": [
    "df_resultados = pd.DataFrame(columns=['Modelo', 'R2', 'MAE', 'RMSE', 'MAPE'])"
   ]
  },
  {
   "cell_type": "code",
   "execution_count": null,
   "id": "2c18cfba",
   "metadata": {},
   "outputs": [],
   "source": [
    "from sklearn.ensemble import RandomForestRegressor\n",
    "from sklearn.metrics import mean_absolute_percentage_error, root_mean_squared_error\n",
    "from sklearn.neighbors import KNeighborsRegressor\n",
    "from sklearn.svm import SVR\n",
    "from sklearn.tree import DecisionTreeRegressor\n",
    "\n",
    "\n",
    "models = {\n",
    "    'RLM': LinearRegression(),\n",
    "    'KNN k = 3': KNeighborsRegressor(n_neighbors=3),\n",
    "    'KNN k = 5': KNeighborsRegressor(n_neighbors=5),\n",
    "    'KNN k = 7': KNeighborsRegressor(n_neighbors=7),\n",
    "    'KNN k = 9': KNeighborsRegressor(n_neighbors=9),\n",
    "    'DT depth = 5': DecisionTreeRegressor(max_depth=5),\n",
    "    'DT depth = no': DecisionTreeRegressor(),\n",
    "    'RF 100': RandomForestRegressor(),\n",
    "    'RF 150': RandomForestRegressor(n_estimators=150),\n",
    "    'SVR 1': SVR(C=1),\n",
    "    'SVR 10': SVR(C=10),\n",
    "    'SVR 1_000_000': SVR(C=1_000_000)\n",
    "}\n",
    "\n",
    "for name, model in models.items():\n",
    "    model.fit(X_train, y_train)\n",
    "    \n",
    "    y_pred = model.predict(X_test)\n",
    "\n",
    "    r2 = r2_score(y_test, y_pred)\n",
    "    mae = mean_absolute_error(y_test, y_pred)\n",
    "    rmse = root_mean_squared_error(y_test, y_pred)\n",
    "    mape = mean_absolute_percentage_error(y_test, y_pred) # (multiplicar mentalmente por 100)\n",
    "\n",
    "    df_resultados.loc[len(df_resultados)] = [name, r2, mae, rmse, mape]"
   ]
  },
  {
   "cell_type": "code",
   "execution_count": 176,
   "id": "fc15f4ec",
   "metadata": {},
   "outputs": [
    {
     "data": {
      "text/html": [
       "<div>\n",
       "<style scoped>\n",
       "    .dataframe tbody tr th:only-of-type {\n",
       "        vertical-align: middle;\n",
       "    }\n",
       "\n",
       "    .dataframe tbody tr th {\n",
       "        vertical-align: top;\n",
       "    }\n",
       "\n",
       "    .dataframe thead th {\n",
       "        text-align: right;\n",
       "    }\n",
       "</style>\n",
       "<table border=\"1\" class=\"dataframe\">\n",
       "  <thead>\n",
       "    <tr style=\"text-align: right;\">\n",
       "      <th></th>\n",
       "      <th>Modelo</th>\n",
       "      <th>R2</th>\n",
       "      <th>MAE</th>\n",
       "      <th>RMSE</th>\n",
       "      <th>MAPE</th>\n",
       "    </tr>\n",
       "  </thead>\n",
       "  <tbody>\n",
       "    <tr>\n",
       "      <th>3</th>\n",
       "      <td>KNN k = 7</td>\n",
       "      <td>0.453544</td>\n",
       "      <td>177997.033882</td>\n",
       "      <td>399613.075172</td>\n",
       "      <td>0.460183</td>\n",
       "    </tr>\n",
       "    <tr>\n",
       "      <th>2</th>\n",
       "      <td>KNN k = 5</td>\n",
       "      <td>0.440558</td>\n",
       "      <td>182642.380002</td>\n",
       "      <td>404333.398854</td>\n",
       "      <td>0.477722</td>\n",
       "    </tr>\n",
       "    <tr>\n",
       "      <th>4</th>\n",
       "      <td>DT depth = 5</td>\n",
       "      <td>0.438411</td>\n",
       "      <td>192512.273333</td>\n",
       "      <td>405108.513015</td>\n",
       "      <td>0.533485</td>\n",
       "    </tr>\n",
       "    <tr>\n",
       "      <th>0</th>\n",
       "      <td>RLM</td>\n",
       "      <td>0.385515</td>\n",
       "      <td>216417.303020</td>\n",
       "      <td>423757.849745</td>\n",
       "      <td>0.625065</td>\n",
       "    </tr>\n",
       "    <tr>\n",
       "      <th>1</th>\n",
       "      <td>KNN k = 3</td>\n",
       "      <td>0.368901</td>\n",
       "      <td>192688.352202</td>\n",
       "      <td>429448.204671</td>\n",
       "      <td>0.494235</td>\n",
       "    </tr>\n",
       "    <tr>\n",
       "      <th>5</th>\n",
       "      <td>DT depth = no</td>\n",
       "      <td>-0.061601</td>\n",
       "      <td>205721.179907</td>\n",
       "      <td>556984.023479</td>\n",
       "      <td>0.510717</td>\n",
       "    </tr>\n",
       "  </tbody>\n",
       "</table>\n",
       "</div>"
      ],
      "text/plain": [
       "          Modelo        R2            MAE           RMSE      MAPE\n",
       "3      KNN k = 7  0.453544  177997.033882  399613.075172  0.460183\n",
       "2      KNN k = 5  0.440558  182642.380002  404333.398854  0.477722\n",
       "4   DT depth = 5  0.438411  192512.273333  405108.513015  0.533485\n",
       "0            RLM  0.385515  216417.303020  423757.849745  0.625065\n",
       "1      KNN k = 3  0.368901  192688.352202  429448.204671  0.494235\n",
       "5  DT depth = no -0.061601  205721.179907  556984.023479  0.510717"
      ]
     },
     "execution_count": 176,
     "metadata": {},
     "output_type": "execute_result"
    }
   ],
   "source": [
    "df_resultados.sort_values('R2', ascending=False)"
   ]
  },
  {
   "cell_type": "markdown",
   "id": "c680c875",
   "metadata": {},
   "source": [
    "Necesitaríamos mejorar los datos para poder mejorar el modelado. Actualmente hay pocas correlaciones con el price."
   ]
  },
  {
   "cell_type": "code",
   "execution_count": null,
   "id": "c22ce8af",
   "metadata": {},
   "outputs": [],
   "source": []
  }
 ],
 "metadata": {
  "kernelspec": {
   "display_name": ".venv",
   "language": "python",
   "name": "python3"
  },
  "language_info": {
   "codemirror_mode": {
    "name": "ipython",
    "version": 3
   },
   "file_extension": ".py",
   "mimetype": "text/x-python",
   "name": "python",
   "nbconvert_exporter": "python",
   "pygments_lexer": "ipython3",
   "version": "3.12.6"
  }
 },
 "nbformat": 4,
 "nbformat_minor": 5
}
