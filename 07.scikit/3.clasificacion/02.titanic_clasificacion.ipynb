{
 "cells": [
  {
   "cell_type": "code",
   "execution_count": 1,
   "metadata": {},
   "outputs": [],
   "source": [
    "import pandas as pd\n",
    "import seaborn as sns\n",
    "import matplotlib.pyplot as plt \n",
    "import numpy as np\n",
    "from sklearn.linear_model import LogisticRegression"
   ]
  },
  {
   "cell_type": "code",
   "execution_count": 2,
   "metadata": {},
   "outputs": [
    {
     "data": {
      "text/html": [
       "<div>\n",
       "<style scoped>\n",
       "    .dataframe tbody tr th:only-of-type {\n",
       "        vertical-align: middle;\n",
       "    }\n",
       "\n",
       "    .dataframe tbody tr th {\n",
       "        vertical-align: top;\n",
       "    }\n",
       "\n",
       "    .dataframe thead th {\n",
       "        text-align: right;\n",
       "    }\n",
       "</style>\n",
       "<table border=\"1\" class=\"dataframe\">\n",
       "  <thead>\n",
       "    <tr style=\"text-align: right;\">\n",
       "      <th></th>\n",
       "      <th>Age</th>\n",
       "      <th>Pclass</th>\n",
       "      <th>Ticket</th>\n",
       "      <th>Sibsp</th>\n",
       "      <th>Parch</th>\n",
       "      <th>Sex_female</th>\n",
       "      <th>Sex_male</th>\n",
       "      <th>Log_Fare</th>\n",
       "      <th>Embark_Town_Cherbourg</th>\n",
       "      <th>Embark_Town_Queenstown</th>\n",
       "      <th>Embark_Town_Southampton</th>\n",
       "      <th>Survived</th>\n",
       "    </tr>\n",
       "  </thead>\n",
       "  <tbody>\n",
       "    <tr>\n",
       "      <th>0</th>\n",
       "      <td>22.0</td>\n",
       "      <td>3.0</td>\n",
       "      <td>1.0</td>\n",
       "      <td>1.0</td>\n",
       "      <td>0.0</td>\n",
       "      <td>0.0</td>\n",
       "      <td>1.0</td>\n",
       "      <td>2.110213</td>\n",
       "      <td>1.0</td>\n",
       "      <td>0.0</td>\n",
       "      <td>0.0</td>\n",
       "      <td>0.0</td>\n",
       "    </tr>\n",
       "    <tr>\n",
       "      <th>1</th>\n",
       "      <td>38.0</td>\n",
       "      <td>1.0</td>\n",
       "      <td>1.0</td>\n",
       "      <td>0.0</td>\n",
       "      <td>0.0</td>\n",
       "      <td>1.0</td>\n",
       "      <td>0.0</td>\n",
       "      <td>4.280593</td>\n",
       "      <td>0.0</td>\n",
       "      <td>0.0</td>\n",
       "      <td>1.0</td>\n",
       "      <td>1.0</td>\n",
       "    </tr>\n",
       "    <tr>\n",
       "      <th>2</th>\n",
       "      <td>26.0</td>\n",
       "      <td>3.0</td>\n",
       "      <td>1.0</td>\n",
       "      <td>1.0</td>\n",
       "      <td>0.0</td>\n",
       "      <td>1.0</td>\n",
       "      <td>0.0</td>\n",
       "      <td>2.188856</td>\n",
       "      <td>0.0</td>\n",
       "      <td>0.0</td>\n",
       "      <td>1.0</td>\n",
       "      <td>1.0</td>\n",
       "    </tr>\n",
       "    <tr>\n",
       "      <th>3</th>\n",
       "      <td>35.0</td>\n",
       "      <td>1.0</td>\n",
       "      <td>2.0</td>\n",
       "      <td>0.0</td>\n",
       "      <td>0.0</td>\n",
       "      <td>1.0</td>\n",
       "      <td>0.0</td>\n",
       "      <td>3.990834</td>\n",
       "      <td>0.0</td>\n",
       "      <td>0.0</td>\n",
       "      <td>1.0</td>\n",
       "      <td>1.0</td>\n",
       "    </tr>\n",
       "    <tr>\n",
       "      <th>4</th>\n",
       "      <td>35.0</td>\n",
       "      <td>3.0</td>\n",
       "      <td>1.0</td>\n",
       "      <td>0.0</td>\n",
       "      <td>0.0</td>\n",
       "      <td>0.0</td>\n",
       "      <td>1.0</td>\n",
       "      <td>2.202765</td>\n",
       "      <td>0.0</td>\n",
       "      <td>1.0</td>\n",
       "      <td>0.0</td>\n",
       "      <td>0.0</td>\n",
       "    </tr>\n",
       "  </tbody>\n",
       "</table>\n",
       "</div>"
      ],
      "text/plain": [
       "    Age  Pclass  Ticket  Sibsp  Parch  Sex_female  Sex_male  Log_Fare  \\\n",
       "0  22.0     3.0     1.0    1.0    0.0         0.0       1.0  2.110213   \n",
       "1  38.0     1.0     1.0    0.0    0.0         1.0       0.0  4.280593   \n",
       "2  26.0     3.0     1.0    1.0    0.0         1.0       0.0  2.188856   \n",
       "3  35.0     1.0     2.0    0.0    0.0         1.0       0.0  3.990834   \n",
       "4  35.0     3.0     1.0    0.0    0.0         0.0       1.0  2.202765   \n",
       "\n",
       "   Embark_Town_Cherbourg  Embark_Town_Queenstown  Embark_Town_Southampton  \\\n",
       "0                    1.0                     0.0                      0.0   \n",
       "1                    0.0                     0.0                      1.0   \n",
       "2                    0.0                     0.0                      1.0   \n",
       "3                    0.0                     0.0                      1.0   \n",
       "4                    0.0                     1.0                      0.0   \n",
       "\n",
       "   Survived  \n",
       "0       0.0  \n",
       "1       1.0  \n",
       "2       1.0  \n",
       "3       1.0  \n",
       "4       0.0  "
      ]
     },
     "execution_count": 2,
     "metadata": {},
     "output_type": "execute_result"
    }
   ],
   "source": [
    "df = pd.read_csv('../Data/titanic_preprocesamiento.csv')\n",
    "df.head()"
   ]
  },
  {
   "cell_type": "code",
   "execution_count": 3,
   "metadata": {},
   "outputs": [
    {
     "data": {
      "text/html": [
       "<div>\n",
       "<style scoped>\n",
       "    .dataframe tbody tr th:only-of-type {\n",
       "        vertical-align: middle;\n",
       "    }\n",
       "\n",
       "    .dataframe tbody tr th {\n",
       "        vertical-align: top;\n",
       "    }\n",
       "\n",
       "    .dataframe thead th {\n",
       "        text-align: right;\n",
       "    }\n",
       "</style>\n",
       "<table border=\"1\" class=\"dataframe\">\n",
       "  <thead>\n",
       "    <tr style=\"text-align: right;\">\n",
       "      <th></th>\n",
       "      <th>Age</th>\n",
       "      <th>Pclass</th>\n",
       "      <th>Ticket</th>\n",
       "      <th>Sibsp</th>\n",
       "      <th>Parch</th>\n",
       "      <th>Sex_female</th>\n",
       "      <th>Sex_male</th>\n",
       "      <th>Log_Fare</th>\n",
       "      <th>Embark_Town_Cherbourg</th>\n",
       "      <th>Embark_Town_Queenstown</th>\n",
       "      <th>Embark_Town_Southampton</th>\n",
       "    </tr>\n",
       "  </thead>\n",
       "  <tbody>\n",
       "    <tr>\n",
       "      <th>0</th>\n",
       "      <td>22.0</td>\n",
       "      <td>3.0</td>\n",
       "      <td>1.0</td>\n",
       "      <td>1.0</td>\n",
       "      <td>0.0</td>\n",
       "      <td>0.0</td>\n",
       "      <td>1.0</td>\n",
       "      <td>2.110213</td>\n",
       "      <td>1.0</td>\n",
       "      <td>0.0</td>\n",
       "      <td>0.0</td>\n",
       "    </tr>\n",
       "    <tr>\n",
       "      <th>1</th>\n",
       "      <td>38.0</td>\n",
       "      <td>1.0</td>\n",
       "      <td>1.0</td>\n",
       "      <td>0.0</td>\n",
       "      <td>0.0</td>\n",
       "      <td>1.0</td>\n",
       "      <td>0.0</td>\n",
       "      <td>4.280593</td>\n",
       "      <td>0.0</td>\n",
       "      <td>0.0</td>\n",
       "      <td>1.0</td>\n",
       "    </tr>\n",
       "    <tr>\n",
       "      <th>2</th>\n",
       "      <td>26.0</td>\n",
       "      <td>3.0</td>\n",
       "      <td>1.0</td>\n",
       "      <td>1.0</td>\n",
       "      <td>0.0</td>\n",
       "      <td>1.0</td>\n",
       "      <td>0.0</td>\n",
       "      <td>2.188856</td>\n",
       "      <td>0.0</td>\n",
       "      <td>0.0</td>\n",
       "      <td>1.0</td>\n",
       "    </tr>\n",
       "    <tr>\n",
       "      <th>3</th>\n",
       "      <td>35.0</td>\n",
       "      <td>1.0</td>\n",
       "      <td>2.0</td>\n",
       "      <td>0.0</td>\n",
       "      <td>0.0</td>\n",
       "      <td>1.0</td>\n",
       "      <td>0.0</td>\n",
       "      <td>3.990834</td>\n",
       "      <td>0.0</td>\n",
       "      <td>0.0</td>\n",
       "      <td>1.0</td>\n",
       "    </tr>\n",
       "    <tr>\n",
       "      <th>4</th>\n",
       "      <td>35.0</td>\n",
       "      <td>3.0</td>\n",
       "      <td>1.0</td>\n",
       "      <td>0.0</td>\n",
       "      <td>0.0</td>\n",
       "      <td>0.0</td>\n",
       "      <td>1.0</td>\n",
       "      <td>2.202765</td>\n",
       "      <td>0.0</td>\n",
       "      <td>1.0</td>\n",
       "      <td>0.0</td>\n",
       "    </tr>\n",
       "  </tbody>\n",
       "</table>\n",
       "</div>"
      ],
      "text/plain": [
       "    Age  Pclass  Ticket  Sibsp  Parch  Sex_female  Sex_male  Log_Fare  \\\n",
       "0  22.0     3.0     1.0    1.0    0.0         0.0       1.0  2.110213   \n",
       "1  38.0     1.0     1.0    0.0    0.0         1.0       0.0  4.280593   \n",
       "2  26.0     3.0     1.0    1.0    0.0         1.0       0.0  2.188856   \n",
       "3  35.0     1.0     2.0    0.0    0.0         1.0       0.0  3.990834   \n",
       "4  35.0     3.0     1.0    0.0    0.0         0.0       1.0  2.202765   \n",
       "\n",
       "   Embark_Town_Cherbourg  Embark_Town_Queenstown  Embark_Town_Southampton  \n",
       "0                    1.0                     0.0                      0.0  \n",
       "1                    0.0                     0.0                      1.0  \n",
       "2                    0.0                     0.0                      1.0  \n",
       "3                    0.0                     0.0                      1.0  \n",
       "4                    0.0                     1.0                      0.0  "
      ]
     },
     "execution_count": 3,
     "metadata": {},
     "output_type": "execute_result"
    }
   ],
   "source": [
    "# Clasificación binaria\n",
    "# 0 - No sobrevivió\n",
    "# 1 - Sí sobrevivió\n",
    "X = df.drop('Survived', axis=1)\n",
    "X.head()"
   ]
  },
  {
   "cell_type": "code",
   "execution_count": 4,
   "metadata": {},
   "outputs": [],
   "source": [
    "y = df['Survived']"
   ]
  },
  {
   "cell_type": "code",
   "execution_count": 5,
   "metadata": {},
   "outputs": [
    {
     "data": {
      "text/plain": [
       "Survived\n",
       "0.0    535\n",
       "1.0    341\n",
       "Name: count, dtype: int64"
      ]
     },
     "execution_count": 5,
     "metadata": {},
     "output_type": "execute_result"
    }
   ],
   "source": [
    "df['Survived'].value_counts()"
   ]
  },
  {
   "cell_type": "markdown",
   "metadata": {},
   "source": [
    "## Regresión logística\n",
    "\n",
    "* Parte lineal: similar a regresión lineal. Combina linealmente las columnas del dataframe:\n",
    "\n",
    "z = w0 + w1 * x1 + w2 * x2 + wn * xn\n",
    "\n",
    "* w0: intercept\n",
    "* wi: pesos que el modelo aprende\n",
    "\n",
    "Parte logística (función sigmoide)\n",
    "\n",
    "sigmoide(z) = 1 / (1 + e ^ -z)\n",
    "\n",
    "Esto nos da un número entre 0 y 1 que sería la probabilidad de pertecener a la clase 0 o 1. \n",
    "\n",
    "P ( clase = 1 | X)\n",
    "\n",
    "* Si la probabilidad es mayor a 0.5 entonces se clasifica como clase 1. \n",
    "* Si la probabilidad es mayor a 0.5 entonces se clasifica como clase 0. "
   ]
  },
  {
   "cell_type": "code",
   "execution_count": 6,
   "metadata": {},
   "outputs": [
    {
     "name": "stdout",
     "output_type": "stream",
     "text": [
      "[[99 16]\n",
      " [13 48]]\n"
     ]
    }
   ],
   "source": [
    "from sklearn.model_selection import train_test_split\n",
    "from sklearn.metrics import accuracy_score, confusion_matrix, ConfusionMatrixDisplay\n",
    "\n",
    "# LogisticRegression es un algoritmo de clasificación\n",
    "# https://the-algorithms.com/es/algorithm/logistic-regression\n",
    "\n",
    "X_train, X_test, y_train, y_test = train_test_split(X, y, test_size=0.2, random_state=42)\n",
    "\n",
    "model = LogisticRegression(max_iter=2000, C=0.2)\n",
    "\n",
    "model.fit(X_train, y_train)\n",
    "\n",
    "y_pred = model.predict(X_test)\n",
    "\n",
    "print(confusion_matrix(y_test, y_pred))"
   ]
  },
  {
   "cell_type": "code",
   "execution_count": 7,
   "metadata": {},
   "outputs": [
    {
     "data": {
      "text/plain": [
       "array([0., 1.])"
      ]
     },
     "execution_count": 7,
     "metadata": {},
     "output_type": "execute_result"
    }
   ],
   "source": [
    "model.classes_"
   ]
  },
  {
   "cell_type": "markdown",
   "metadata": {},
   "source": [
    "## Matriz de confusión\n",
    "\n",
    "Convención práctica (scikit learn)\n",
    "\n",
    "|                   | **Predicho: 0** | **Predicho: 1** |\n",
    "|-------------------|-----------------|-----------------|\n",
    "| **Real: 0**       | 98 (TN)         | 17 (FP)         |\n",
    "| **Real: 1**       | 13 (FN)          | 48 (TP)         |\n",
    "\n",
    "Convención teórica\n",
    "\n",
    "|                   | **Predicho: 1** | **Predicho: 0** |\n",
    "|-------------------|-----------------|-----------------|\n",
    "| **Real: 1**       | **True Positive (TP)** | **False Negative (FN)** |\n",
    "| **Real: 0**       | **False Positive (FP)** | **True Negative (TN)** |\n",
    "\n",
    "Cuidado porque scikit no lo hace tal cuál la convención teórica, primero pone la clase negativa 0, mientras que la convención teórica pone primera la clase positiva 1."
   ]
  },
  {
   "cell_type": "code",
   "execution_count": 8,
   "metadata": {},
   "outputs": [
    {
     "data": {
      "image/png": "[encoded data removed]",
      "text/plain": [
       "<Figure size 640x480 with 2 Axes>"
      ]
     },
     "metadata": {},
     "output_type": "display_data"
    }
   ],
   "source": [
    "cm = confusion_matrix(y_test, y_pred)\n",
    "# cmd = ConfusionMatrixDisplay(cm)\n",
    "cmd = ConfusionMatrixDisplay(cm, display_labels=['Not survived', 'Survived'])\n",
    "cmd.plot();"
   ]
  },
  {
   "cell_type": "code",
   "execution_count": 9,
   "metadata": {},
   "outputs": [
    {
     "name": "stdout",
     "output_type": "stream",
     "text": [
      "TN, FP, FN, TP:   99 16 13 48\n"
     ]
    }
   ],
   "source": [
    "TN, FP, FN, TP = confusion_matrix(y_test, y_pred).ravel()\n",
    "print('TN, FP, FN, TP:  ', TN, FP, FN, TP)"
   ]
  },
  {
   "cell_type": "code",
   "execution_count": 10,
   "metadata": {},
   "outputs": [
    {
     "name": "stdout",
     "output_type": "stream",
     "text": [
      "              precision    recall  f1-score   support\n",
      "\n",
      "         0.0       0.88      0.86      0.87       115\n",
      "         1.0       0.75      0.79      0.77        61\n",
      "\n",
      "    accuracy                           0.84       176\n",
      "   macro avg       0.82      0.82      0.82       176\n",
      "weighted avg       0.84      0.84      0.84       176\n",
      "\n"
     ]
    }
   ],
   "source": [
    "from sklearn.metrics import classification_report\n",
    "\n",
    "# Para la clase 1 (survived) el modelo tiene peores puntuaciones\n",
    "# support indica el número de registros filas, HAY QUE TENER EN CUENTA QUE HEMOS HECHO PARTICIONAMIENTO 20 %\n",
    "print(classification_report(y_test, y_pred))"
   ]
  },
  {
   "cell_type": "markdown",
   "metadata": {},
   "source": [
    "### Accuracy: \n",
    "\n",
    "Exactitud: porcentaje de muestras que el modelo clasifica correctamente (TN + TP).\n",
    "\n",
    "$$\n",
    "\\text{Accuracy} = \\frac{TP + TN}{TP + TN + FP + FN}\n",
    "$$"
   ]
  },
  {
   "cell_type": "code",
   "execution_count": 11,
   "metadata": {},
   "outputs": [
    {
     "name": "stdout",
     "output_type": "stream",
     "text": [
      "accuracy: 0.8352272727272727\n"
     ]
    }
   ],
   "source": [
    "# exactitud, ratio de acierto\n",
    "print(f'accuracy: {accuracy_score(y_test, y_pred)}')"
   ]
  },
  {
   "cell_type": "markdown",
   "metadata": {},
   "source": [
    "### Precision\n",
    "\n",
    "Precisión: De todas las observaciones que el modelo predijo como positivos, ¿cuántos son realmente positivos?\n",
    "\n",
    "Enfocada en evitar falsos positivos (FP).\n",
    "\n",
    "Responde: \"De los casos que predije como positivos, ¿qué proporción eran realmente positivos?\"\n",
    "\n",
    "Útil cuando los falsos positivos son costosos, como en detección de spam (es preferible no marcar un correo legítimo como spam).\n",
    "\n",
    "$$\n",
    "\\text{Precision} = \\frac{TP}{TP + FP}\n",
    "$$"
   ]
  },
  {
   "cell_type": "code",
   "execution_count": 12,
   "metadata": {},
   "outputs": [
    {
     "data": {
      "text/plain": [
       "0.75"
      ]
     },
     "execution_count": 12,
     "metadata": {},
     "output_type": "execute_result"
    }
   ],
   "source": [
    "from sklearn.metrics import precision_score\n",
    "\n",
    "precision_score(y_test, y_pred)"
   ]
  },
  {
   "cell_type": "markdown",
   "metadata": {},
   "source": [
    "### Recall\n",
    "\n",
    "Enfocada en evitar falsos negativos (FN).\n",
    "\n",
    "Responde: \"De los casos positivos reales, ¿qué proporción detecté correctamente?\"\n",
    "\n",
    "Útil cuando los falsos negativos son costosos, como en detección de enfermedades (es mejor detectar todos los enfermos, incluso si algunos falsos positivos ocurren).\n",
    "\n",
    "$$\n",
    "\\text{Recall} = \\frac{TP}{TP + FN}\n",
    "$$\n"
   ]
  },
  {
   "cell_type": "code",
   "execution_count": 13,
   "metadata": {},
   "outputs": [
    {
     "data": {
      "text/plain": [
       "0.7868852459016393"
      ]
     },
     "execution_count": 13,
     "metadata": {},
     "output_type": "execute_result"
    }
   ],
   "source": [
    "from sklearn.metrics import recall_score\n",
    "\n",
    "recall_score(y_test, y_pred)"
   ]
  },
  {
   "cell_type": "markdown",
   "metadata": {},
   "source": [
    "### f1-score\n",
    "\n",
    "Media armónica de precision y recall, tiene en cuenta ambas métricas, proporciona un balance entre ambas.\n",
    "\n",
    "Es la métrica más confiable cuando tenemos datasets desbalanceados.\n",
    "\n",
    "$$\n",
    "F1 = 2 \\cdot \\frac{\\text{Precision} \\cdot \\text{Recall}}{\\text{Precision} + \\text{Recall}}\n",
    "$$"
   ]
  },
  {
   "cell_type": "code",
   "execution_count": 14,
   "metadata": {},
   "outputs": [
    {
     "data": {
      "text/plain": [
       "0.768"
      ]
     },
     "execution_count": 14,
     "metadata": {},
     "output_type": "execute_result"
    }
   ],
   "source": [
    "from sklearn.metrics import f1_score\n",
    "\n",
    "f1_score(y_test, y_pred)"
   ]
  },
  {
   "cell_type": "markdown",
   "metadata": {},
   "source": [
    "## Especificidad\n",
    "\n",
    "Specificity o Tasa de verdadero negativos\n",
    "\n",
    "Mide qué proporción de los casos negativos reales fueron correctamente identificados. Complementa el recall, centrándose en los **negativos reales**.\n",
    "\n",
    "$$\n",
    "\\text{Specificity} = \\frac{TN}{TN + FP}\n",
    "$$"
   ]
  },
  {
   "cell_type": "code",
   "execution_count": 15,
   "metadata": {},
   "outputs": [
    {
     "data": {
      "text/plain": [
       "np.float64(0.8608695652173913)"
      ]
     },
     "execution_count": 15,
     "metadata": {},
     "output_type": "execute_result"
    }
   ],
   "source": [
    "# cuidado, no viene de scikit learn, se ha sacado de imblearn\n",
    "from imblearn.metrics import specificity_score\n",
    "specificity_score(y_test, y_pred)"
   ]
  },
  {
   "cell_type": "markdown",
   "metadata": {},
   "source": [
    "## Índice de Jaccard\n",
    "\n",
    "Mide la similitud entre las predicciones positivas y los valores positivos reales.\n",
    "\n",
    "$$\n",
    "\\text{Jaccard Index} = \\frac{TP}{TP + FP + FN}\n",
    "$$\n",
    "\n",
    "Compara el tamaño de la intersección (predicciones correctas positivas) con la unión (predicciones positivas totales y reales)."
   ]
  },
  {
   "cell_type": "code",
   "execution_count": 16,
   "metadata": {},
   "outputs": [
    {
     "data": {
      "text/plain": [
       "np.float64(0.6233766233766234)"
      ]
     },
     "execution_count": 16,
     "metadata": {},
     "output_type": "execute_result"
    }
   ],
   "source": [
    "from sklearn.metrics import jaccard_score\n",
    "jaccard_score(y_test, y_pred)"
   ]
  },
  {
   "cell_type": "markdown",
   "metadata": {},
   "source": [
    "## ROC-AUC\n",
    "\n",
    "Curva ilustrar el rendimiento del clasificador en distintos umbrales de decisión:\n",
    "\n",
    "* TPR: True Positive ratio\n",
    "* FPR: False Positive ratio\n",
    "\n",
    "TPR = 1, FPR = 0, lo ideal\n",
    "\n",
    "AUC: Area Under the curve cuantifica el área debajo de la curva ROC\n",
    "\n",
    "* AUC = 1 perfecto\n",
    "* AUC = 0.5 malo, igual que tomar una decisión aleatoria\n",
    "* AUC < 0.5 peor que aleatorio, posible problema en el modelo"
   ]
  },
  {
   "cell_type": "code",
   "execution_count": 17,
   "metadata": {},
   "outputs": [
    {
     "name": "stdout",
     "output_type": "stream",
     "text": [
      "AUC 0.8238774055595153\n"
     ]
    }
   ],
   "source": [
    "from sklearn.metrics import roc_auc_score\n",
    "\n",
    "auc = roc_auc_score(y_test, y_pred)\n",
    "print(f'AUC {auc}')"
   ]
  },
  {
   "cell_type": "code",
   "execution_count": 18,
   "metadata": {},
   "outputs": [
    {
     "data": {
      "text/plain": [
       "<matplotlib.legend.Legend at 0x26474935310>"
      ]
     },
     "execution_count": 18,
     "metadata": {},
     "output_type": "execute_result"
    },
    {
     "data": {
      "image/png": "[encoded data removed]",
      "text/plain": [
       "<Figure size 640x480 with 1 Axes>"
      ]
     },
     "metadata": {},
     "output_type": "display_data"
    }
   ],
   "source": [
    "from sklearn.metrics import RocCurveDisplay\n",
    "\n",
    "# Gráfico que muestra qué tan bien el modelo diferencia entre las clases \n",
    "# Eje x: FPR tasa de falsos positivos\n",
    "# Eje y: TPR tasa de verdaderos positivos\n",
    "# Nos interesa que la diagonalesté en (0,0)\n",
    "# FPR si es 0 es ideal, cuanto mayor FPR peor y más curva se hace la línea\n",
    "# TPR es 1 es ideal\n",
    "# INTERPRETACIÓN cuanto más cerca de la esquina superior izquierda MEJOR\n",
    "RocCurveDisplay.from_estimator(model, X_test, y_test, name='curva ROC')\n",
    "plt.plot([0, 1], [0,1], label='Clasificador aleatorio')\n",
    "plt.legend()"
   ]
  },
  {
   "cell_type": "code",
   "execution_count": 19,
   "metadata": {},
   "outputs": [
    {
     "data": {
      "text/plain": [
       "array([1., 0., 0., 0., 0., 1., 0., 0., 0., 0., 1., 1., 0., 0., 0., 1., 0.,\n",
       "       0., 1., 1., 0., 0., 0., 1., 0., 0., 0., 1., 1., 0., 0., 0., 1., 1.,\n",
       "       0., 1., 0., 0., 0., 0., 1., 0., 0., 0., 1., 0., 0., 1., 0., 0., 1.,\n",
       "       0., 1., 1., 0., 1., 0., 1., 0., 0., 1., 0., 0., 1., 1., 0., 0., 1.,\n",
       "       0., 1., 0., 1., 0., 1., 1., 1., 0., 0., 0., 1., 1., 0., 1., 0., 0.,\n",
       "       1., 0., 1., 1., 0., 0., 0., 0., 0., 0., 1., 0., 0., 0., 0., 0., 1.,\n",
       "       0., 0., 0., 1., 0., 0., 0., 1., 0., 0., 1., 0., 0., 1., 1., 0., 0.,\n",
       "       0., 0., 1., 0., 0., 0., 1., 0., 0., 0., 0., 0., 1., 1., 1., 0., 0.,\n",
       "       0., 0., 1., 1., 1., 0., 0., 0., 0., 1., 0., 0., 1., 0., 1., 1., 0.,\n",
       "       1., 0., 1., 0., 0., 0., 0., 1., 0., 0., 0., 1., 0., 0., 1., 0., 0.,\n",
       "       1., 0., 0., 1., 1., 1.])"
      ]
     },
     "execution_count": 19,
     "metadata": {},
     "output_type": "execute_result"
    }
   ],
   "source": [
    "model.predict(X_test)"
   ]
  },
  {
   "cell_type": "code",
   "execution_count": 20,
   "metadata": {},
   "outputs": [
    {
     "data": {
      "text/plain": [
       "array([[0.30300296, 0.69699704],\n",
       "       [0.8485944 , 0.1514056 ],\n",
       "       [0.6501584 , 0.3498416 ],\n",
       "       [0.87423306, 0.12576694],\n",
       "       [0.81965854, 0.18034146],\n",
       "       [0.10973953, 0.89026047],\n",
       "       [0.83340035, 0.16659965],\n",
       "       [0.57254577, 0.42745423],\n",
       "       [0.89771289, 0.10228711],\n",
       "       [0.57407446, 0.42592554],\n",
       "       [0.4000321 , 0.5999679 ],\n",
       "       [0.40452554, 0.59547446],\n",
       "       [0.75887079, 0.24112921],\n",
       "       [0.57388378, 0.42611622],\n",
       "       [0.78466085, 0.21533915],\n",
       "       [0.42719553, 0.57280447],\n",
       "       [0.54431449, 0.45568551],\n",
       "       [0.5722922 , 0.4277078 ],\n",
       "       [0.31176896, 0.68823104],\n",
       "       [0.14328972, 0.85671028],\n",
       "       [0.83602698, 0.16397302],\n",
       "       [0.8642535 , 0.1357465 ],\n",
       "       [0.80096509, 0.19903491],\n",
       "       [0.34749787, 0.65250213],\n",
       "       [0.91834667, 0.08165333],\n",
       "       [0.89228681, 0.10771319],\n",
       "       [0.85079193, 0.14920807],\n",
       "       [0.38240621, 0.61759379],\n",
       "       [0.4392048 , 0.5607952 ],\n",
       "       [0.86253023, 0.13746977],\n",
       "       [0.53637938, 0.46362062],\n",
       "       [0.8490305 , 0.1509695 ],\n",
       "       [0.05367364, 0.94632636],\n",
       "       [0.05912734, 0.94087266],\n",
       "       [0.84625897, 0.15374103],\n",
       "       [0.31604474, 0.68395526],\n",
       "       [0.94209021, 0.05790979],\n",
       "       [0.78571126, 0.21428874],\n",
       "       [0.90903128, 0.09096872],\n",
       "       [0.66518419, 0.33481581],\n",
       "       [0.49522906, 0.50477094],\n",
       "       [0.60891973, 0.39108027],\n",
       "       [0.80239031, 0.19760969],\n",
       "       [0.59336634, 0.40663366],\n",
       "       [0.3698925 , 0.6301075 ],\n",
       "       [0.57381339, 0.42618661],\n",
       "       [0.97222477, 0.02777523],\n",
       "       [0.10865661, 0.89134339],\n",
       "       [0.73988905, 0.26011095],\n",
       "       [0.89567294, 0.10432706],\n",
       "       [0.11132793, 0.88867207],\n",
       "       [0.93406075, 0.06593925],\n",
       "       [0.06187986, 0.93812014],\n",
       "       [0.39455154, 0.60544846],\n",
       "       [0.84315491, 0.15684509],\n",
       "       [0.33271453, 0.66728547],\n",
       "       [0.65133026, 0.34866974],\n",
       "       [0.43140052, 0.56859948],\n",
       "       [0.55352003, 0.44647997],\n",
       "       [0.82922637, 0.17077363],\n",
       "       [0.29857681, 0.70142319],\n",
       "       [0.82302001, 0.17697999],\n",
       "       [0.67207961, 0.32792039],\n",
       "       [0.06941972, 0.93058028],\n",
       "       [0.03168129, 0.96831871],\n",
       "       [0.7599896 , 0.2400104 ],\n",
       "       [0.6292512 , 0.3707488 ],\n",
       "       [0.05261486, 0.94738514],\n",
       "       [0.93750102, 0.06249898],\n",
       "       [0.37912666, 0.62087334],\n",
       "       [0.9062064 , 0.0937936 ],\n",
       "       [0.13254231, 0.86745769],\n",
       "       [0.57440824, 0.42559176],\n",
       "       [0.08394958, 0.91605042],\n",
       "       [0.07197806, 0.92802194],\n",
       "       [0.02393396, 0.97606604],\n",
       "       [0.67310747, 0.32689253],\n",
       "       [0.80297291, 0.19702709],\n",
       "       [0.99259256, 0.00740744],\n",
       "       [0.27282692, 0.72717308],\n",
       "       [0.19429119, 0.80570881],\n",
       "       [0.93371434, 0.06628566],\n",
       "       [0.40347271, 0.59652729],\n",
       "       [0.64565052, 0.35434948],\n",
       "       [0.94203322, 0.05796678],\n",
       "       [0.04669603, 0.95330397],\n",
       "       [0.57449629, 0.42550371],\n",
       "       [0.15914209, 0.84085791],\n",
       "       [0.28595329, 0.71404671],\n",
       "       [0.82139878, 0.17860122],\n",
       "       [0.80281876, 0.19718124],\n",
       "       [0.8491025 , 0.1508975 ],\n",
       "       [0.93805864, 0.06194136],\n",
       "       [0.84388931, 0.15611069],\n",
       "       [0.84653504, 0.15346496],\n",
       "       [0.2635124 , 0.7364876 ],\n",
       "       [0.70362215, 0.29637785],\n",
       "       [0.68487673, 0.31512327],\n",
       "       [0.87991895, 0.12008105],\n",
       "       [0.8934585 , 0.1065415 ],\n",
       "       [0.7692262 , 0.2307738 ],\n",
       "       [0.24585604, 0.75414396],\n",
       "       [0.6292512 , 0.3707488 ],\n",
       "       [0.9310899 , 0.0689101 ],\n",
       "       [0.87748505, 0.12251495],\n",
       "       [0.38508506, 0.61491494],\n",
       "       [0.83035787, 0.16964213],\n",
       "       [0.90908741, 0.09091259],\n",
       "       [0.83632098, 0.16367902],\n",
       "       [0.07509771, 0.92490229],\n",
       "       [0.88271854, 0.11728146],\n",
       "       [0.93410731, 0.06589269],\n",
       "       [0.19295438, 0.80704562],\n",
       "       [0.85634758, 0.14365242],\n",
       "       [0.93882353, 0.06117647],\n",
       "       [0.18105334, 0.81894666],\n",
       "       [0.03167185, 0.96832815],\n",
       "       [0.8652139 , 0.1347861 ],\n",
       "       [0.86928478, 0.13071522],\n",
       "       [0.82923772, 0.17076228],\n",
       "       [0.8944979 , 0.1055021 ],\n",
       "       [0.10889935, 0.89110065],\n",
       "       [0.93993509, 0.06006491],\n",
       "       [0.90903128, 0.09096872],\n",
       "       [0.82582946, 0.17417054],\n",
       "       [0.36286518, 0.63713482],\n",
       "       [0.89903074, 0.10096926],\n",
       "       [0.76771195, 0.23228805],\n",
       "       [0.84472588, 0.15527412],\n",
       "       [0.95525336, 0.04474664],\n",
       "       [0.8813676 , 0.1186324 ],\n",
       "       [0.38072884, 0.61927116],\n",
       "       [0.06604608, 0.93395392],\n",
       "       [0.03341789, 0.96658211],\n",
       "       [0.8248151 , 0.1751849 ],\n",
       "       [0.50991966, 0.49008034],\n",
       "       [0.68977201, 0.31022799],\n",
       "       [0.85586581, 0.14413419],\n",
       "       [0.4912094 , 0.5087906 ],\n",
       "       [0.23447604, 0.76552396],\n",
       "       [0.16294195, 0.83705805],\n",
       "       [0.94333275, 0.05666725],\n",
       "       [0.90903128, 0.09096872],\n",
       "       [0.925963  , 0.074037  ],\n",
       "       [0.90992951, 0.09007049],\n",
       "       [0.02510209, 0.97489791],\n",
       "       [0.89969226, 0.10030774],\n",
       "       [0.89250591, 0.10749409],\n",
       "       [0.14372079, 0.85627921],\n",
       "       [0.6008256 , 0.3991744 ],\n",
       "       [0.10902996, 0.89097004],\n",
       "       [0.05395623, 0.94604377],\n",
       "       [0.80326806, 0.19673194],\n",
       "       [0.41997067, 0.58002933],\n",
       "       [0.8887593 , 0.1112407 ],\n",
       "       [0.24710423, 0.75289577],\n",
       "       [0.83156387, 0.16843613],\n",
       "       [0.88090199, 0.11909801],\n",
       "       [0.66950592, 0.33049408],\n",
       "       [0.87124225, 0.12875775],\n",
       "       [0.19946661, 0.80053339],\n",
       "       [0.71959762, 0.28040238],\n",
       "       [0.8203987 , 0.1796013 ],\n",
       "       [0.86293077, 0.13706923],\n",
       "       [0.14367521, 0.85632479],\n",
       "       [0.73596941, 0.26403059],\n",
       "       [0.84905593, 0.15094407],\n",
       "       [0.168497  , 0.831503  ],\n",
       "       [0.83939063, 0.16060937],\n",
       "       [0.82981691, 0.17018309],\n",
       "       [0.11576745, 0.88423255],\n",
       "       [0.95280536, 0.04719464],\n",
       "       [0.57217168, 0.42782832],\n",
       "       [0.33432283, 0.66567717],\n",
       "       [0.32373432, 0.67626568],\n",
       "       [0.07564471, 0.92435529]])"
      ]
     },
     "execution_count": 20,
     "metadata": {},
     "output_type": "execute_result"
    }
   ],
   "source": [
    "model.predict_proba(X_test)"
   ]
  },
  {
   "cell_type": "code",
   "execution_count": 21,
   "metadata": {},
   "outputs": [
    {
     "data": {
      "text/plain": [
       "array([0., 1.])"
      ]
     },
     "execution_count": 21,
     "metadata": {},
     "output_type": "execute_result"
    }
   ],
   "source": [
    "model.classes_"
   ]
  },
  {
   "cell_type": "code",
   "execution_count": 22,
   "metadata": {},
   "outputs": [
    {
     "data": {
      "text/html": [
       "<div>\n",
       "<style scoped>\n",
       "    .dataframe tbody tr th:only-of-type {\n",
       "        vertical-align: middle;\n",
       "    }\n",
       "\n",
       "    .dataframe tbody tr th {\n",
       "        vertical-align: top;\n",
       "    }\n",
       "\n",
       "    .dataframe thead th {\n",
       "        text-align: right;\n",
       "    }\n",
       "</style>\n",
       "<table border=\"1\" class=\"dataframe\">\n",
       "  <thead>\n",
       "    <tr style=\"text-align: right;\">\n",
       "      <th></th>\n",
       "      <th>Age</th>\n",
       "      <th>Pclass</th>\n",
       "      <th>Ticket</th>\n",
       "      <th>Sibsp</th>\n",
       "      <th>Parch</th>\n",
       "      <th>Sex_female</th>\n",
       "      <th>Sex_male</th>\n",
       "      <th>Log_Fare</th>\n",
       "      <th>Embark_Town_Cherbourg</th>\n",
       "      <th>Embark_Town_Queenstown</th>\n",
       "      <th>Embark_Town_Southampton</th>\n",
       "    </tr>\n",
       "  </thead>\n",
       "  <tbody>\n",
       "    <tr>\n",
       "      <th>0</th>\n",
       "      <td>22.0</td>\n",
       "      <td>3.0</td>\n",
       "      <td>1.0</td>\n",
       "      <td>1.0</td>\n",
       "      <td>0.0</td>\n",
       "      <td>0.0</td>\n",
       "      <td>1.0</td>\n",
       "      <td>2.110213</td>\n",
       "      <td>1.0</td>\n",
       "      <td>0.0</td>\n",
       "      <td>0.0</td>\n",
       "    </tr>\n",
       "  </tbody>\n",
       "</table>\n",
       "</div>"
      ],
      "text/plain": [
       "    Age  Pclass  Ticket  Sibsp  Parch  Sex_female  Sex_male  Log_Fare  \\\n",
       "0  22.0     3.0     1.0    1.0    0.0         0.0       1.0  2.110213   \n",
       "\n",
       "   Embark_Town_Cherbourg  Embark_Town_Queenstown  Embark_Town_Southampton  \n",
       "0                    1.0                     0.0                      0.0  "
      ]
     },
     "execution_count": 22,
     "metadata": {},
     "output_type": "execute_result"
    }
   ],
   "source": [
    "# una nueva persona, por ejemplo \"Pepe\"\n",
    "X_new = pd.DataFrame([[22.0, 3.0, 1.0, 1.0, 0.0, 0.0, 1.0, 2.110213, 1.0, 0.0, 0.0]], columns=X.columns)\n",
    "X_new"
   ]
  },
  {
   "cell_type": "code",
   "execution_count": 23,
   "metadata": {},
   "outputs": [
    {
     "data": {
      "text/plain": [
       "array([0.])"
      ]
     },
     "execution_count": 23,
     "metadata": {},
     "output_type": "execute_result"
    }
   ],
   "source": [
    "model.predict(X_new) # 0 no sobrevivió"
   ]
  },
  {
   "cell_type": "code",
   "execution_count": 24,
   "metadata": {},
   "outputs": [
    {
     "data": {
      "text/plain": [
       "array([[0.85939409, 0.14060591]])"
      ]
     },
     "execution_count": 24,
     "metadata": {},
     "output_type": "execute_result"
    }
   ],
   "source": [
    "# 87,5 % de probabilidad de que no haya sobrevivido\n",
    "# 12,42 % de probabilidad de que sí haya sobrevivido\n",
    "model.predict_proba(X_new) "
   ]
  },
  {
   "cell_type": "code",
   "execution_count": 25,
   "metadata": {},
   "outputs": [
    {
     "data": {
      "text/plain": [
       "array([3.17225264])"
      ]
     },
     "execution_count": 25,
     "metadata": {},
     "output_type": "execute_result"
    }
   ],
   "source": [
    "model.intercept_"
   ]
  },
  {
   "cell_type": "code",
   "execution_count": 26,
   "metadata": {},
   "outputs": [
    {
     "data": {
      "text/plain": [
       "array([[-0.04794293, -1.01686266, -0.35620544, -0.11075366, -0.00186716,\n",
       "         1.14580793, -1.1421609 ,  0.39581168, -0.10331367,  0.06525725,\n",
       "        -0.11104905]])"
      ]
     },
     "execution_count": 26,
     "metadata": {},
     "output_type": "execute_result"
    }
   ],
   "source": [
    "model.coef_"
   ]
  },
  {
   "cell_type": "markdown",
   "metadata": {},
   "source": [
    "## Comparar modelos clasificación"
   ]
  },
  {
   "cell_type": "code",
   "execution_count": 27,
   "metadata": {},
   "outputs": [],
   "source": [
    "df_resultados = pd.DataFrame(columns=['Modelo', 'accuracy', 'precision', 'recall', 'f1', 'AUC'])\n",
    "\n",
    "def calculate_metrics(name, model):\n",
    "    model.fit(X_train, y_train)\n",
    "    y_pred = model.predict(X_test)\n",
    "    \n",
    "    accuracy = accuracy_score(y_test, y_pred)\n",
    "    precision = precision_score(y_test, y_pred)\n",
    "    recall = recall_score(y_test, y_pred)\n",
    "    f1 = f1_score(y_test, y_pred)\n",
    "    auc = roc_auc_score(y_test, y_pred)\n",
    "    \n",
    "    df_resultados.loc[len(df_resultados)] = [name, accuracy, precision, recall, f1, auc]"
   ]
  },
  {
   "cell_type": "code",
   "execution_count": 28,
   "metadata": {},
   "outputs": [
    {
     "data": {
      "text/html": [
       "<div>\n",
       "<style scoped>\n",
       "    .dataframe tbody tr th:only-of-type {\n",
       "        vertical-align: middle;\n",
       "    }\n",
       "\n",
       "    .dataframe tbody tr th {\n",
       "        vertical-align: top;\n",
       "    }\n",
       "\n",
       "    .dataframe thead th {\n",
       "        text-align: right;\n",
       "    }\n",
       "</style>\n",
       "<table border=\"1\" class=\"dataframe\">\n",
       "  <thead>\n",
       "    <tr style=\"text-align: right;\">\n",
       "      <th></th>\n",
       "      <th>Modelo</th>\n",
       "      <th>accuracy</th>\n",
       "      <th>precision</th>\n",
       "      <th>recall</th>\n",
       "      <th>f1</th>\n",
       "      <th>AUC</th>\n",
       "    </tr>\n",
       "  </thead>\n",
       "  <tbody>\n",
       "    <tr>\n",
       "      <th>0</th>\n",
       "      <td>RLog</td>\n",
       "      <td>0.829545</td>\n",
       "      <td>0.738462</td>\n",
       "      <td>0.786885</td>\n",
       "      <td>0.761905</td>\n",
       "      <td>0.81953</td>\n",
       "    </tr>\n",
       "  </tbody>\n",
       "</table>\n",
       "</div>"
      ],
      "text/plain": [
       "  Modelo  accuracy  precision    recall        f1      AUC\n",
       "0   RLog  0.829545   0.738462  0.786885  0.761905  0.81953"
      ]
     },
     "execution_count": 28,
     "metadata": {},
     "output_type": "execute_result"
    }
   ],
   "source": [
    "model = LogisticRegression(max_iter=1000, C=1)\n",
    "calculate_metrics('RLog', model)\n",
    "df_resultados"
   ]
  },
  {
   "cell_type": "code",
   "execution_count": 29,
   "metadata": {},
   "outputs": [
    {
     "data": {
      "text/html": [
       "<div>\n",
       "<style scoped>\n",
       "    .dataframe tbody tr th:only-of-type {\n",
       "        vertical-align: middle;\n",
       "    }\n",
       "\n",
       "    .dataframe tbody tr th {\n",
       "        vertical-align: top;\n",
       "    }\n",
       "\n",
       "    .dataframe thead th {\n",
       "        text-align: right;\n",
       "    }\n",
       "</style>\n",
       "<table border=\"1\" class=\"dataframe\">\n",
       "  <thead>\n",
       "    <tr style=\"text-align: right;\">\n",
       "      <th></th>\n",
       "      <th>Modelo</th>\n",
       "      <th>accuracy</th>\n",
       "      <th>precision</th>\n",
       "      <th>recall</th>\n",
       "      <th>f1</th>\n",
       "      <th>AUC</th>\n",
       "    </tr>\n",
       "  </thead>\n",
       "  <tbody>\n",
       "    <tr>\n",
       "      <th>0</th>\n",
       "      <td>RLog</td>\n",
       "      <td>0.829545</td>\n",
       "      <td>0.738462</td>\n",
       "      <td>0.786885</td>\n",
       "      <td>0.761905</td>\n",
       "      <td>0.819530</td>\n",
       "    </tr>\n",
       "    <tr>\n",
       "      <th>1</th>\n",
       "      <td>KNN k = 3</td>\n",
       "      <td>0.704545</td>\n",
       "      <td>0.565217</td>\n",
       "      <td>0.639344</td>\n",
       "      <td>0.600000</td>\n",
       "      <td>0.689237</td>\n",
       "    </tr>\n",
       "  </tbody>\n",
       "</table>\n",
       "</div>"
      ],
      "text/plain": [
       "      Modelo  accuracy  precision    recall        f1       AUC\n",
       "0       RLog  0.829545   0.738462  0.786885  0.761905  0.819530\n",
       "1  KNN k = 3  0.704545   0.565217  0.639344  0.600000  0.689237"
      ]
     },
     "execution_count": 29,
     "metadata": {},
     "output_type": "execute_result"
    }
   ],
   "source": [
    "from sklearn.neighbors import KNeighborsClassifier\n",
    "\n",
    "model = KNeighborsClassifier(n_neighbors=3)\n",
    "calculate_metrics('KNN k = 3', model)\n",
    "df_resultados"
   ]
  },
  {
   "cell_type": "code",
   "execution_count": 30,
   "metadata": {},
   "outputs": [
    {
     "data": {
      "text/html": [
       "<div>\n",
       "<style scoped>\n",
       "    .dataframe tbody tr th:only-of-type {\n",
       "        vertical-align: middle;\n",
       "    }\n",
       "\n",
       "    .dataframe tbody tr th {\n",
       "        vertical-align: top;\n",
       "    }\n",
       "\n",
       "    .dataframe thead th {\n",
       "        text-align: right;\n",
       "    }\n",
       "</style>\n",
       "<table border=\"1\" class=\"dataframe\">\n",
       "  <thead>\n",
       "    <tr style=\"text-align: right;\">\n",
       "      <th></th>\n",
       "      <th>Modelo</th>\n",
       "      <th>accuracy</th>\n",
       "      <th>precision</th>\n",
       "      <th>recall</th>\n",
       "      <th>f1</th>\n",
       "      <th>AUC</th>\n",
       "    </tr>\n",
       "  </thead>\n",
       "  <tbody>\n",
       "    <tr>\n",
       "      <th>0</th>\n",
       "      <td>RLog</td>\n",
       "      <td>0.829545</td>\n",
       "      <td>0.738462</td>\n",
       "      <td>0.786885</td>\n",
       "      <td>0.761905</td>\n",
       "      <td>0.819530</td>\n",
       "    </tr>\n",
       "    <tr>\n",
       "      <th>1</th>\n",
       "      <td>KNN k = 3</td>\n",
       "      <td>0.704545</td>\n",
       "      <td>0.565217</td>\n",
       "      <td>0.639344</td>\n",
       "      <td>0.600000</td>\n",
       "      <td>0.689237</td>\n",
       "    </tr>\n",
       "    <tr>\n",
       "      <th>2</th>\n",
       "      <td>KNN k = 5</td>\n",
       "      <td>0.750000</td>\n",
       "      <td>0.634921</td>\n",
       "      <td>0.655738</td>\n",
       "      <td>0.645161</td>\n",
       "      <td>0.727869</td>\n",
       "    </tr>\n",
       "  </tbody>\n",
       "</table>\n",
       "</div>"
      ],
      "text/plain": [
       "      Modelo  accuracy  precision    recall        f1       AUC\n",
       "0       RLog  0.829545   0.738462  0.786885  0.761905  0.819530\n",
       "1  KNN k = 3  0.704545   0.565217  0.639344  0.600000  0.689237\n",
       "2  KNN k = 5  0.750000   0.634921  0.655738  0.645161  0.727869"
      ]
     },
     "execution_count": 30,
     "metadata": {},
     "output_type": "execute_result"
    }
   ],
   "source": [
    "model = KNeighborsClassifier(n_neighbors=5)\n",
    "calculate_metrics('KNN k = 5', model)\n",
    "df_resultados"
   ]
  },
  {
   "cell_type": "code",
   "execution_count": 31,
   "metadata": {},
   "outputs": [
    {
     "data": {
      "text/plain": [
       "Text(0.5, 0, 'k n_neighbors')"
      ]
     },
     "execution_count": 31,
     "metadata": {},
     "output_type": "execute_result"
    },
    {
     "data": {
      "image/png": "[encoded data removed]",
      "text/plain": [
       "<Figure size 640x480 with 1 Axes>"
      ]
     },
     "metadata": {},
     "output_type": "display_data"
    }
   ],
   "source": [
    "# elbow method o el método del codo\n",
    "errors = []\n",
    "for k in range(2, 40):\n",
    "    model = KNeighborsClassifier(n_neighbors=k)\n",
    "    model.fit(X_train, y_train)\n",
    "    y_pred = model.predict(X_test)\n",
    "    accuracy = accuracy_score(y_test, y_pred)\n",
    "    error = 1 - accuracy\n",
    "    errors.append(error)\n",
    "\n",
    "plt.plot(range(2, 40), errors)\n",
    "plt.ylabel('% de fallo')\n",
    "plt.xlabel('k n_neighbors')"
   ]
  },
  {
   "cell_type": "code",
   "execution_count": 32,
   "metadata": {},
   "outputs": [
    {
     "data": {
      "text/html": [
       "<div>\n",
       "<style scoped>\n",
       "    .dataframe tbody tr th:only-of-type {\n",
       "        vertical-align: middle;\n",
       "    }\n",
       "\n",
       "    .dataframe tbody tr th {\n",
       "        vertical-align: top;\n",
       "    }\n",
       "\n",
       "    .dataframe thead th {\n",
       "        text-align: right;\n",
       "    }\n",
       "</style>\n",
       "<table border=\"1\" class=\"dataframe\">\n",
       "  <thead>\n",
       "    <tr style=\"text-align: right;\">\n",
       "      <th></th>\n",
       "      <th>Modelo</th>\n",
       "      <th>accuracy</th>\n",
       "      <th>precision</th>\n",
       "      <th>recall</th>\n",
       "      <th>f1</th>\n",
       "      <th>AUC</th>\n",
       "    </tr>\n",
       "  </thead>\n",
       "  <tbody>\n",
       "    <tr>\n",
       "      <th>0</th>\n",
       "      <td>RLog</td>\n",
       "      <td>0.829545</td>\n",
       "      <td>0.738462</td>\n",
       "      <td>0.786885</td>\n",
       "      <td>0.761905</td>\n",
       "      <td>0.819530</td>\n",
       "    </tr>\n",
       "    <tr>\n",
       "      <th>1</th>\n",
       "      <td>KNN k = 3</td>\n",
       "      <td>0.704545</td>\n",
       "      <td>0.565217</td>\n",
       "      <td>0.639344</td>\n",
       "      <td>0.600000</td>\n",
       "      <td>0.689237</td>\n",
       "    </tr>\n",
       "    <tr>\n",
       "      <th>2</th>\n",
       "      <td>KNN k = 5</td>\n",
       "      <td>0.750000</td>\n",
       "      <td>0.634921</td>\n",
       "      <td>0.655738</td>\n",
       "      <td>0.645161</td>\n",
       "      <td>0.727869</td>\n",
       "    </tr>\n",
       "    <tr>\n",
       "      <th>3</th>\n",
       "      <td>KNN k = 20</td>\n",
       "      <td>0.818182</td>\n",
       "      <td>0.822222</td>\n",
       "      <td>0.606557</td>\n",
       "      <td>0.698113</td>\n",
       "      <td>0.768496</td>\n",
       "    </tr>\n",
       "  </tbody>\n",
       "</table>\n",
       "</div>"
      ],
      "text/plain": [
       "       Modelo  accuracy  precision    recall        f1       AUC\n",
       "0        RLog  0.829545   0.738462  0.786885  0.761905  0.819530\n",
       "1   KNN k = 3  0.704545   0.565217  0.639344  0.600000  0.689237\n",
       "2   KNN k = 5  0.750000   0.634921  0.655738  0.645161  0.727869\n",
       "3  KNN k = 20  0.818182   0.822222  0.606557  0.698113  0.768496"
      ]
     },
     "execution_count": 32,
     "metadata": {},
     "output_type": "execute_result"
    }
   ],
   "source": [
    "# por método del codo, n_neighbors = 20 es el mejor\n",
    "model = KNeighborsClassifier(n_neighbors=20)\n",
    "calculate_metrics('KNN k = 20', model)\n",
    "df_resultados"
   ]
  },
  {
   "cell_type": "markdown",
   "metadata": {},
   "source": [
    "## Árbol de decisión\n",
    "\n",
    "Parámetros:\n",
    "\n",
    "* criterion:\n",
    "    * gini (por defecto)\n",
    "        * Gini = 0 significa que el nodo es completamente puro, contiene datos de una sola clase.\n",
    "        * Gini > 0 indica que hay mezcla de clases. Cuanto mayor sea el valor mayor será la impureza.\n",
    "        * Gini es una medida de impureza o mezcla de clases en un nodo de un árbol. Propósito: evaluar qué tan puras son las divisiones en un nodo.\n",
    "    * entropy: \n",
    "        * Entropy = 0 significa que el nodo es completamente puro, contiene datos de una sola clase.\n",
    "        * Entropy > 0 indica que hay mezcla de clases. Cuanto mayor sea el valor, mayor será la impureza o la incertidumbre.\n",
    "        * Entropy es una medida de incertidumbre o desorden en un nodo de un árbol.\n",
    "        * Más lento, pero puede ser útil cuando las clases están desbalanceadas.\n",
    "* max_depth\n",
    "* min_samples_split: número de muestras que debe haber en un nodo antes de intentar dividirlo. Mínimo de muestras para dividir un nodo\n",
    "* min_samples_split: Mínimo de muestras que debe haber en un nodo hijo\n",
    "* max_features: número máximo de columnas X consideradas en cada división. Ideal si hay muchas columnas y algunas de ellas son irrelevantes.\n",
    "\n",
    "    \n",
    "Atributos:\n",
    "\n",
    "* feature_importances_: importancia de cada columna en la X a la hora de hacer la partición, se calcula usando la impureza. \n",
    "* classes_\n",
    "* tree_\n",
    "* get_depth()"
   ]
  },
  {
   "cell_type": "code",
   "execution_count": 33,
   "metadata": {},
   "outputs": [
    {
     "data": {
      "text/html": [
       "<div>\n",
       "<style scoped>\n",
       "    .dataframe tbody tr th:only-of-type {\n",
       "        vertical-align: middle;\n",
       "    }\n",
       "\n",
       "    .dataframe tbody tr th {\n",
       "        vertical-align: top;\n",
       "    }\n",
       "\n",
       "    .dataframe thead th {\n",
       "        text-align: right;\n",
       "    }\n",
       "</style>\n",
       "<table border=\"1\" class=\"dataframe\">\n",
       "  <thead>\n",
       "    <tr style=\"text-align: right;\">\n",
       "      <th></th>\n",
       "      <th>Modelo</th>\n",
       "      <th>accuracy</th>\n",
       "      <th>precision</th>\n",
       "      <th>recall</th>\n",
       "      <th>f1</th>\n",
       "      <th>AUC</th>\n",
       "    </tr>\n",
       "  </thead>\n",
       "  <tbody>\n",
       "    <tr>\n",
       "      <th>0</th>\n",
       "      <td>RLog</td>\n",
       "      <td>0.829545</td>\n",
       "      <td>0.738462</td>\n",
       "      <td>0.786885</td>\n",
       "      <td>0.761905</td>\n",
       "      <td>0.819530</td>\n",
       "    </tr>\n",
       "    <tr>\n",
       "      <th>1</th>\n",
       "      <td>KNN k = 3</td>\n",
       "      <td>0.704545</td>\n",
       "      <td>0.565217</td>\n",
       "      <td>0.639344</td>\n",
       "      <td>0.600000</td>\n",
       "      <td>0.689237</td>\n",
       "    </tr>\n",
       "    <tr>\n",
       "      <th>2</th>\n",
       "      <td>KNN k = 5</td>\n",
       "      <td>0.750000</td>\n",
       "      <td>0.634921</td>\n",
       "      <td>0.655738</td>\n",
       "      <td>0.645161</td>\n",
       "      <td>0.727869</td>\n",
       "    </tr>\n",
       "    <tr>\n",
       "      <th>3</th>\n",
       "      <td>KNN k = 20</td>\n",
       "      <td>0.818182</td>\n",
       "      <td>0.822222</td>\n",
       "      <td>0.606557</td>\n",
       "      <td>0.698113</td>\n",
       "      <td>0.768496</td>\n",
       "    </tr>\n",
       "    <tr>\n",
       "      <th>4</th>\n",
       "      <td>DT</td>\n",
       "      <td>0.789773</td>\n",
       "      <td>0.671429</td>\n",
       "      <td>0.770492</td>\n",
       "      <td>0.717557</td>\n",
       "      <td>0.785246</td>\n",
       "    </tr>\n",
       "  </tbody>\n",
       "</table>\n",
       "</div>"
      ],
      "text/plain": [
       "       Modelo  accuracy  precision    recall        f1       AUC\n",
       "0        RLog  0.829545   0.738462  0.786885  0.761905  0.819530\n",
       "1   KNN k = 3  0.704545   0.565217  0.639344  0.600000  0.689237\n",
       "2   KNN k = 5  0.750000   0.634921  0.655738  0.645161  0.727869\n",
       "3  KNN k = 20  0.818182   0.822222  0.606557  0.698113  0.768496\n",
       "4          DT  0.789773   0.671429  0.770492  0.717557  0.785246"
      ]
     },
     "execution_count": 33,
     "metadata": {},
     "output_type": "execute_result"
    }
   ],
   "source": [
    "from sklearn.tree import DecisionTreeClassifier\n",
    "\n",
    "model = DecisionTreeClassifier()\n",
    "calculate_metrics('DT', model)\n",
    "df_resultados"
   ]
  },
  {
   "cell_type": "code",
   "execution_count": 34,
   "metadata": {},
   "outputs": [
    {
     "data": {
      "image/png": "[encoded data removed]",
      "text/plain": [
       "<Figure size 2000x2000 with 1 Axes>"
      ]
     },
     "metadata": {},
     "output_type": "display_data"
    }
   ],
   "source": [
    "from sklearn.tree import plot_tree\n",
    "\n",
    "plt.figure(figsize=(20, 20))\n",
    "model = DecisionTreeClassifier(max_depth=3)\n",
    "model.fit(X_train, y_train)\n",
    "plot_tree(model, filled=True, class_names=['Not Survived', 'Survived'], feature_names=X.columns);"
   ]
  },
  {
   "cell_type": "code",
   "execution_count": 35,
   "metadata": {},
   "outputs": [
    {
     "name": "stdout",
     "output_type": "stream",
     "text": [
      "Columna: Age Importancia: 0.06880724888664776\n",
      "Columna: Pclass Importancia: 0.22968529262971887\n",
      "Columna: Ticket Importancia: 0.0\n",
      "Columna: Sibsp Importancia: 0.0\n",
      "Columna: Parch Importancia: 0.0\n",
      "Columna: Sex_female Importancia: 0.0\n",
      "Columna: Sex_male Importancia: 0.6116683545505839\n",
      "Columna: Log_Fare Importancia: 0.08983910393304943\n",
      "Columna: Embark_Town_Cherbourg Importancia: 0.0\n",
      "Columna: Embark_Town_Queenstown Importancia: 0.0\n",
      "Columna: Embark_Town_Southampton Importancia: 0.0\n"
     ]
    }
   ],
   "source": [
    "# un array con una importance por cada columna en X\n",
    "for col, imp in zip(X.columns, model.feature_importances_):\n",
    "    print(f\"Columna: {col} Importancia: {imp}\")"
   ]
  },
  {
   "cell_type": "code",
   "execution_count": 36,
   "metadata": {},
   "outputs": [
    {
     "data": {
      "text/html": [
       "<div>\n",
       "<style scoped>\n",
       "    .dataframe tbody tr th:only-of-type {\n",
       "        vertical-align: middle;\n",
       "    }\n",
       "\n",
       "    .dataframe tbody tr th {\n",
       "        vertical-align: top;\n",
       "    }\n",
       "\n",
       "    .dataframe thead th {\n",
       "        text-align: right;\n",
       "    }\n",
       "</style>\n",
       "<table border=\"1\" class=\"dataframe\">\n",
       "  <thead>\n",
       "    <tr style=\"text-align: right;\">\n",
       "      <th></th>\n",
       "      <th>Modelo</th>\n",
       "      <th>accuracy</th>\n",
       "      <th>precision</th>\n",
       "      <th>recall</th>\n",
       "      <th>f1</th>\n",
       "      <th>AUC</th>\n",
       "    </tr>\n",
       "  </thead>\n",
       "  <tbody>\n",
       "    <tr>\n",
       "      <th>0</th>\n",
       "      <td>RLog</td>\n",
       "      <td>0.829545</td>\n",
       "      <td>0.738462</td>\n",
       "      <td>0.786885</td>\n",
       "      <td>0.761905</td>\n",
       "      <td>0.819530</td>\n",
       "    </tr>\n",
       "    <tr>\n",
       "      <th>1</th>\n",
       "      <td>KNN k = 3</td>\n",
       "      <td>0.704545</td>\n",
       "      <td>0.565217</td>\n",
       "      <td>0.639344</td>\n",
       "      <td>0.600000</td>\n",
       "      <td>0.689237</td>\n",
       "    </tr>\n",
       "    <tr>\n",
       "      <th>2</th>\n",
       "      <td>KNN k = 5</td>\n",
       "      <td>0.750000</td>\n",
       "      <td>0.634921</td>\n",
       "      <td>0.655738</td>\n",
       "      <td>0.645161</td>\n",
       "      <td>0.727869</td>\n",
       "    </tr>\n",
       "    <tr>\n",
       "      <th>3</th>\n",
       "      <td>KNN k = 20</td>\n",
       "      <td>0.818182</td>\n",
       "      <td>0.822222</td>\n",
       "      <td>0.606557</td>\n",
       "      <td>0.698113</td>\n",
       "      <td>0.768496</td>\n",
       "    </tr>\n",
       "    <tr>\n",
       "      <th>4</th>\n",
       "      <td>DT</td>\n",
       "      <td>0.789773</td>\n",
       "      <td>0.671429</td>\n",
       "      <td>0.770492</td>\n",
       "      <td>0.717557</td>\n",
       "      <td>0.785246</td>\n",
       "    </tr>\n",
       "    <tr>\n",
       "      <th>5</th>\n",
       "      <td>DT depth 10</td>\n",
       "      <td>0.835227</td>\n",
       "      <td>0.758065</td>\n",
       "      <td>0.770492</td>\n",
       "      <td>0.764228</td>\n",
       "      <td>0.820029</td>\n",
       "    </tr>\n",
       "  </tbody>\n",
       "</table>\n",
       "</div>"
      ],
      "text/plain": [
       "        Modelo  accuracy  precision    recall        f1       AUC\n",
       "0         RLog  0.829545   0.738462  0.786885  0.761905  0.819530\n",
       "1    KNN k = 3  0.704545   0.565217  0.639344  0.600000  0.689237\n",
       "2    KNN k = 5  0.750000   0.634921  0.655738  0.645161  0.727869\n",
       "3   KNN k = 20  0.818182   0.822222  0.606557  0.698113  0.768496\n",
       "4           DT  0.789773   0.671429  0.770492  0.717557  0.785246\n",
       "5  DT depth 10  0.835227   0.758065  0.770492  0.764228  0.820029"
      ]
     },
     "execution_count": 36,
     "metadata": {},
     "output_type": "execute_result"
    }
   ],
   "source": [
    "model = DecisionTreeClassifier(max_depth=10)\n",
    "calculate_metrics('DT depth 10', model)\n",
    "df_resultados"
   ]
  },
  {
   "cell_type": "code",
   "execution_count": 37,
   "metadata": {},
   "outputs": [
    {
     "data": {
      "text/html": [
       "<div>\n",
       "<style scoped>\n",
       "    .dataframe tbody tr th:only-of-type {\n",
       "        vertical-align: middle;\n",
       "    }\n",
       "\n",
       "    .dataframe tbody tr th {\n",
       "        vertical-align: top;\n",
       "    }\n",
       "\n",
       "    .dataframe thead th {\n",
       "        text-align: right;\n",
       "    }\n",
       "</style>\n",
       "<table border=\"1\" class=\"dataframe\">\n",
       "  <thead>\n",
       "    <tr style=\"text-align: right;\">\n",
       "      <th></th>\n",
       "      <th>Modelo</th>\n",
       "      <th>accuracy</th>\n",
       "      <th>precision</th>\n",
       "      <th>recall</th>\n",
       "      <th>f1</th>\n",
       "      <th>AUC</th>\n",
       "    </tr>\n",
       "  </thead>\n",
       "  <tbody>\n",
       "    <tr>\n",
       "      <th>0</th>\n",
       "      <td>RLog</td>\n",
       "      <td>0.829545</td>\n",
       "      <td>0.738462</td>\n",
       "      <td>0.786885</td>\n",
       "      <td>0.761905</td>\n",
       "      <td>0.819530</td>\n",
       "    </tr>\n",
       "    <tr>\n",
       "      <th>1</th>\n",
       "      <td>KNN k = 3</td>\n",
       "      <td>0.704545</td>\n",
       "      <td>0.565217</td>\n",
       "      <td>0.639344</td>\n",
       "      <td>0.600000</td>\n",
       "      <td>0.689237</td>\n",
       "    </tr>\n",
       "    <tr>\n",
       "      <th>2</th>\n",
       "      <td>KNN k = 5</td>\n",
       "      <td>0.750000</td>\n",
       "      <td>0.634921</td>\n",
       "      <td>0.655738</td>\n",
       "      <td>0.645161</td>\n",
       "      <td>0.727869</td>\n",
       "    </tr>\n",
       "    <tr>\n",
       "      <th>3</th>\n",
       "      <td>KNN k = 20</td>\n",
       "      <td>0.818182</td>\n",
       "      <td>0.822222</td>\n",
       "      <td>0.606557</td>\n",
       "      <td>0.698113</td>\n",
       "      <td>0.768496</td>\n",
       "    </tr>\n",
       "    <tr>\n",
       "      <th>4</th>\n",
       "      <td>DT</td>\n",
       "      <td>0.789773</td>\n",
       "      <td>0.671429</td>\n",
       "      <td>0.770492</td>\n",
       "      <td>0.717557</td>\n",
       "      <td>0.785246</td>\n",
       "    </tr>\n",
       "    <tr>\n",
       "      <th>5</th>\n",
       "      <td>DT depth 10</td>\n",
       "      <td>0.835227</td>\n",
       "      <td>0.758065</td>\n",
       "      <td>0.770492</td>\n",
       "      <td>0.764228</td>\n",
       "      <td>0.820029</td>\n",
       "    </tr>\n",
       "    <tr>\n",
       "      <th>6</th>\n",
       "      <td>RF 200</td>\n",
       "      <td>0.852273</td>\n",
       "      <td>0.807018</td>\n",
       "      <td>0.754098</td>\n",
       "      <td>0.779661</td>\n",
       "      <td>0.829223</td>\n",
       "    </tr>\n",
       "  </tbody>\n",
       "</table>\n",
       "</div>"
      ],
      "text/plain": [
       "        Modelo  accuracy  precision    recall        f1       AUC\n",
       "0         RLog  0.829545   0.738462  0.786885  0.761905  0.819530\n",
       "1    KNN k = 3  0.704545   0.565217  0.639344  0.600000  0.689237\n",
       "2    KNN k = 5  0.750000   0.634921  0.655738  0.645161  0.727869\n",
       "3   KNN k = 20  0.818182   0.822222  0.606557  0.698113  0.768496\n",
       "4           DT  0.789773   0.671429  0.770492  0.717557  0.785246\n",
       "5  DT depth 10  0.835227   0.758065  0.770492  0.764228  0.820029\n",
       "6       RF 200  0.852273   0.807018  0.754098  0.779661  0.829223"
      ]
     },
     "execution_count": 37,
     "metadata": {},
     "output_type": "execute_result"
    }
   ],
   "source": [
    "from sklearn.ensemble import RandomForestClassifier\n",
    "\n",
    "model = RandomForestClassifier(n_estimators=200, min_samples_split=20)\n",
    "calculate_metrics('RF 200', model)\n",
    "df_resultados"
   ]
  },
  {
   "cell_type": "code",
   "execution_count": 38,
   "metadata": {},
   "outputs": [
    {
     "name": "stdout",
     "output_type": "stream",
     "text": [
      "Columna: Age Importancia: 0.1415756355608622\n",
      "Columna: Pclass Importancia: 0.12683342133601772\n",
      "Columna: Ticket Importancia: 0.07440734476620477\n",
      "Columna: Sibsp Importancia: 0.024015269513328136\n",
      "Columna: Parch Importancia: 0.017983885102996592\n",
      "Columna: Sex_female Importancia: 0.22441518792664028\n",
      "Columna: Sex_male Importancia: 0.2138514506771864\n",
      "Columna: Log_Fare Importancia: 0.14967416927170382\n",
      "Columna: Embark_Town_Cherbourg Importancia: 0.00719354817887996\n",
      "Columna: Embark_Town_Queenstown Importancia: 0.009898575027696898\n",
      "Columna: Embark_Town_Southampton Importancia: 0.010151512638483342\n"
     ]
    }
   ],
   "source": [
    "for col, imp in zip(X.columns, model.feature_importances_):\n",
    "    print(f\"Columna: {col} Importancia: {imp}\")"
   ]
  },
  {
   "cell_type": "markdown",
   "metadata": {},
   "source": [
    "## SVC\n",
    "\n",
    "C penalización por errores.\n",
    "\n",
    "C grance penaliza fuertemente errores, lo que implicará un margen más pequeño ya que intenta clasificar todos los puntos correctamente.\n",
    "\n",
    "C pequeño permite clasificaciones incorrectas o puntos dentro del margen para obtener un margen más amplio y que generalice mejor."
   ]
  },
  {
   "cell_type": "code",
   "execution_count": 40,
   "metadata": {},
   "outputs": [
    {
     "data": {
      "text/html": [
       "<div>\n",
       "<style scoped>\n",
       "    .dataframe tbody tr th:only-of-type {\n",
       "        vertical-align: middle;\n",
       "    }\n",
       "\n",
       "    .dataframe tbody tr th {\n",
       "        vertical-align: top;\n",
       "    }\n",
       "\n",
       "    .dataframe thead th {\n",
       "        text-align: right;\n",
       "    }\n",
       "</style>\n",
       "<table border=\"1\" class=\"dataframe\">\n",
       "  <thead>\n",
       "    <tr style=\"text-align: right;\">\n",
       "      <th></th>\n",
       "      <th>Modelo</th>\n",
       "      <th>accuracy</th>\n",
       "      <th>precision</th>\n",
       "      <th>recall</th>\n",
       "      <th>f1</th>\n",
       "      <th>AUC</th>\n",
       "    </tr>\n",
       "  </thead>\n",
       "  <tbody>\n",
       "    <tr>\n",
       "      <th>0</th>\n",
       "      <td>RLog</td>\n",
       "      <td>0.829545</td>\n",
       "      <td>0.738462</td>\n",
       "      <td>0.786885</td>\n",
       "      <td>0.761905</td>\n",
       "      <td>0.819530</td>\n",
       "    </tr>\n",
       "    <tr>\n",
       "      <th>1</th>\n",
       "      <td>KNN k = 3</td>\n",
       "      <td>0.704545</td>\n",
       "      <td>0.565217</td>\n",
       "      <td>0.639344</td>\n",
       "      <td>0.600000</td>\n",
       "      <td>0.689237</td>\n",
       "    </tr>\n",
       "    <tr>\n",
       "      <th>2</th>\n",
       "      <td>KNN k = 5</td>\n",
       "      <td>0.750000</td>\n",
       "      <td>0.634921</td>\n",
       "      <td>0.655738</td>\n",
       "      <td>0.645161</td>\n",
       "      <td>0.727869</td>\n",
       "    </tr>\n",
       "    <tr>\n",
       "      <th>3</th>\n",
       "      <td>KNN k = 20</td>\n",
       "      <td>0.818182</td>\n",
       "      <td>0.822222</td>\n",
       "      <td>0.606557</td>\n",
       "      <td>0.698113</td>\n",
       "      <td>0.768496</td>\n",
       "    </tr>\n",
       "    <tr>\n",
       "      <th>4</th>\n",
       "      <td>DT</td>\n",
       "      <td>0.789773</td>\n",
       "      <td>0.671429</td>\n",
       "      <td>0.770492</td>\n",
       "      <td>0.717557</td>\n",
       "      <td>0.785246</td>\n",
       "    </tr>\n",
       "    <tr>\n",
       "      <th>5</th>\n",
       "      <td>DT depth 10</td>\n",
       "      <td>0.835227</td>\n",
       "      <td>0.758065</td>\n",
       "      <td>0.770492</td>\n",
       "      <td>0.764228</td>\n",
       "      <td>0.820029</td>\n",
       "    </tr>\n",
       "    <tr>\n",
       "      <th>6</th>\n",
       "      <td>RF 200</td>\n",
       "      <td>0.852273</td>\n",
       "      <td>0.807018</td>\n",
       "      <td>0.754098</td>\n",
       "      <td>0.779661</td>\n",
       "      <td>0.829223</td>\n",
       "    </tr>\n",
       "    <tr>\n",
       "      <th>7</th>\n",
       "      <td>SVC 1</td>\n",
       "      <td>0.795455</td>\n",
       "      <td>0.878788</td>\n",
       "      <td>0.475410</td>\n",
       "      <td>0.617021</td>\n",
       "      <td>0.720314</td>\n",
       "    </tr>\n",
       "  </tbody>\n",
       "</table>\n",
       "</div>"
      ],
      "text/plain": [
       "        Modelo  accuracy  precision    recall        f1       AUC\n",
       "0         RLog  0.829545   0.738462  0.786885  0.761905  0.819530\n",
       "1    KNN k = 3  0.704545   0.565217  0.639344  0.600000  0.689237\n",
       "2    KNN k = 5  0.750000   0.634921  0.655738  0.645161  0.727869\n",
       "3   KNN k = 20  0.818182   0.822222  0.606557  0.698113  0.768496\n",
       "4           DT  0.789773   0.671429  0.770492  0.717557  0.785246\n",
       "5  DT depth 10  0.835227   0.758065  0.770492  0.764228  0.820029\n",
       "6       RF 200  0.852273   0.807018  0.754098  0.779661  0.829223\n",
       "7        SVC 1  0.795455   0.878788  0.475410  0.617021  0.720314"
      ]
     },
     "execution_count": 40,
     "metadata": {},
     "output_type": "execute_result"
    }
   ],
   "source": [
    "from sklearn.svm import SVC\n",
    "\n",
    "model = SVC()\n",
    "calculate_metrics('SVC 1', model)\n",
    "df_resultados"
   ]
  },
  {
   "cell_type": "code",
   "execution_count": 44,
   "metadata": {},
   "outputs": [
    {
     "data": {
      "text/html": [
       "<div>\n",
       "<style scoped>\n",
       "    .dataframe tbody tr th:only-of-type {\n",
       "        vertical-align: middle;\n",
       "    }\n",
       "\n",
       "    .dataframe tbody tr th {\n",
       "        vertical-align: top;\n",
       "    }\n",
       "\n",
       "    .dataframe thead th {\n",
       "        text-align: right;\n",
       "    }\n",
       "</style>\n",
       "<table border=\"1\" class=\"dataframe\">\n",
       "  <thead>\n",
       "    <tr style=\"text-align: right;\">\n",
       "      <th></th>\n",
       "      <th>Modelo</th>\n",
       "      <th>accuracy</th>\n",
       "      <th>precision</th>\n",
       "      <th>recall</th>\n",
       "      <th>f1</th>\n",
       "      <th>AUC</th>\n",
       "    </tr>\n",
       "  </thead>\n",
       "  <tbody>\n",
       "    <tr>\n",
       "      <th>0</th>\n",
       "      <td>RLog</td>\n",
       "      <td>0.829545</td>\n",
       "      <td>0.738462</td>\n",
       "      <td>0.786885</td>\n",
       "      <td>0.761905</td>\n",
       "      <td>0.819530</td>\n",
       "    </tr>\n",
       "    <tr>\n",
       "      <th>1</th>\n",
       "      <td>KNN k = 3</td>\n",
       "      <td>0.704545</td>\n",
       "      <td>0.565217</td>\n",
       "      <td>0.639344</td>\n",
       "      <td>0.600000</td>\n",
       "      <td>0.689237</td>\n",
       "    </tr>\n",
       "    <tr>\n",
       "      <th>2</th>\n",
       "      <td>KNN k = 5</td>\n",
       "      <td>0.750000</td>\n",
       "      <td>0.634921</td>\n",
       "      <td>0.655738</td>\n",
       "      <td>0.645161</td>\n",
       "      <td>0.727869</td>\n",
       "    </tr>\n",
       "    <tr>\n",
       "      <th>3</th>\n",
       "      <td>KNN k = 20</td>\n",
       "      <td>0.818182</td>\n",
       "      <td>0.822222</td>\n",
       "      <td>0.606557</td>\n",
       "      <td>0.698113</td>\n",
       "      <td>0.768496</td>\n",
       "    </tr>\n",
       "    <tr>\n",
       "      <th>4</th>\n",
       "      <td>DT</td>\n",
       "      <td>0.789773</td>\n",
       "      <td>0.671429</td>\n",
       "      <td>0.770492</td>\n",
       "      <td>0.717557</td>\n",
       "      <td>0.785246</td>\n",
       "    </tr>\n",
       "    <tr>\n",
       "      <th>5</th>\n",
       "      <td>DT depth 10</td>\n",
       "      <td>0.835227</td>\n",
       "      <td>0.758065</td>\n",
       "      <td>0.770492</td>\n",
       "      <td>0.764228</td>\n",
       "      <td>0.820029</td>\n",
       "    </tr>\n",
       "    <tr>\n",
       "      <th>6</th>\n",
       "      <td>RF 200</td>\n",
       "      <td>0.852273</td>\n",
       "      <td>0.807018</td>\n",
       "      <td>0.754098</td>\n",
       "      <td>0.779661</td>\n",
       "      <td>0.829223</td>\n",
       "    </tr>\n",
       "    <tr>\n",
       "      <th>7</th>\n",
       "      <td>SVC 1</td>\n",
       "      <td>0.795455</td>\n",
       "      <td>0.878788</td>\n",
       "      <td>0.475410</td>\n",
       "      <td>0.617021</td>\n",
       "      <td>0.720314</td>\n",
       "    </tr>\n",
       "    <tr>\n",
       "      <th>8</th>\n",
       "      <td>SVC 0.1</td>\n",
       "      <td>0.653409</td>\n",
       "      <td>0.000000</td>\n",
       "      <td>0.000000</td>\n",
       "      <td>0.000000</td>\n",
       "      <td>0.500000</td>\n",
       "    </tr>\n",
       "    <tr>\n",
       "      <th>9</th>\n",
       "      <td>SVC 100</td>\n",
       "      <td>0.840909</td>\n",
       "      <td>0.770492</td>\n",
       "      <td>0.770492</td>\n",
       "      <td>0.770492</td>\n",
       "      <td>0.824376</td>\n",
       "    </tr>\n",
       "    <tr>\n",
       "      <th>10</th>\n",
       "      <td>SVC 1000</td>\n",
       "      <td>0.835227</td>\n",
       "      <td>0.766667</td>\n",
       "      <td>0.754098</td>\n",
       "      <td>0.760331</td>\n",
       "      <td>0.816180</td>\n",
       "    </tr>\n",
       "    <tr>\n",
       "      <th>11</th>\n",
       "      <td>SVC 8</td>\n",
       "      <td>0.840909</td>\n",
       "      <td>0.770492</td>\n",
       "      <td>0.770492</td>\n",
       "      <td>0.770492</td>\n",
       "      <td>0.824376</td>\n",
       "    </tr>\n",
       "  </tbody>\n",
       "</table>\n",
       "</div>"
      ],
      "text/plain": [
       "         Modelo  accuracy  precision    recall        f1       AUC\n",
       "0          RLog  0.829545   0.738462  0.786885  0.761905  0.819530\n",
       "1     KNN k = 3  0.704545   0.565217  0.639344  0.600000  0.689237\n",
       "2     KNN k = 5  0.750000   0.634921  0.655738  0.645161  0.727869\n",
       "3    KNN k = 20  0.818182   0.822222  0.606557  0.698113  0.768496\n",
       "4            DT  0.789773   0.671429  0.770492  0.717557  0.785246\n",
       "5   DT depth 10  0.835227   0.758065  0.770492  0.764228  0.820029\n",
       "6        RF 200  0.852273   0.807018  0.754098  0.779661  0.829223\n",
       "7         SVC 1  0.795455   0.878788  0.475410  0.617021  0.720314\n",
       "8       SVC 0.1  0.653409   0.000000  0.000000  0.000000  0.500000\n",
       "9       SVC 100  0.840909   0.770492  0.770492  0.770492  0.824376\n",
       "10     SVC 1000  0.835227   0.766667  0.754098  0.760331  0.816180\n",
       "11        SVC 8  0.840909   0.770492  0.770492  0.770492  0.824376"
      ]
     },
     "execution_count": 44,
     "metadata": {},
     "output_type": "execute_result"
    }
   ],
   "source": [
    "model = SVC(C=8)\n",
    "calculate_metrics('SVC 8', model)\n",
    "df_resultados"
   ]
  },
  {
   "cell_type": "markdown",
   "metadata": {},
   "source": [
    "## Exportar el modelo final\n",
    "\n",
    "Viendo los resultados el modelo RandomForest es el mejor"
   ]
  },
  {
   "cell_type": "code",
   "execution_count": 45,
   "metadata": {},
   "outputs": [
    {
     "data": {
      "text/html": [
       "<style>#sk-container-id-1 {\n",
       "  /* Definition of color scheme common for light and dark mode */\n",
       "  --sklearn-color-text: #000;\n",
       "  --sklearn-color-text-muted: #666;\n",
       "  --sklearn-color-line: gray;\n",
       "  /* Definition of color scheme for unfitted estimators */\n",
       "  --sklearn-color-unfitted-level-0: #fff5e6;\n",
       "  --sklearn-color-unfitted-level-1: #f6e4d2;\n",
       "  --sklearn-color-unfitted-level-2: #ffe0b3;\n",
       "  --sklearn-color-unfitted-level-3: chocolate;\n",
       "  /* Definition of color scheme for fitted estimators */\n",
       "  --sklearn-color-fitted-level-0: #f0f8ff;\n",
       "  --sklearn-color-fitted-level-1: #d4ebff;\n",
       "  --sklearn-color-fitted-level-2: #b3dbfd;\n",
       "  --sklearn-color-fitted-level-3: cornflowerblue;\n",
       "\n",
       "  /* Specific color for light theme */\n",
       "  --sklearn-color-text-on-default-background: var(--sg-text-color, var(--theme-code-foreground, var(--jp-content-font-color1, black)));\n",
       "  --sklearn-color-background: var(--sg-background-color, var(--theme-background, var(--jp-layout-color0, white)));\n",
       "  --sklearn-color-border-box: var(--sg-text-color, var(--theme-code-foreground, var(--jp-content-font-color1, black)));\n",
       "  --sklearn-color-icon: #696969;\n",
       "\n",
       "  @media (prefers-color-scheme: dark) {\n",
       "    /* Redefinition of color scheme for dark theme */\n",
       "    --sklearn-color-text-on-default-background: var(--sg-text-color, var(--theme-code-foreground, var(--jp-content-font-color1, white)));\n",
       "    --sklearn-color-background: var(--sg-background-color, var(--theme-background, var(--jp-layout-color0, #111)));\n",
       "    --sklearn-color-border-box: var(--sg-text-color, var(--theme-code-foreground, var(--jp-content-font-color1, white)));\n",
       "    --sklearn-color-icon: #878787;\n",
       "  }\n",
       "}\n",
       "\n",
       "#sk-container-id-1 {\n",
       "  color: var(--sklearn-color-text);\n",
       "}\n",
       "\n",
       "#sk-container-id-1 pre {\n",
       "  padding: 0;\n",
       "}\n",
       "\n",
       "#sk-container-id-1 input.sk-hidden--visually {\n",
       "  border: 0;\n",
       "  clip: rect(1px 1px 1px 1px);\n",
       "  clip: rect(1px, 1px, 1px, 1px);\n",
       "  height: 1px;\n",
       "  margin: -1px;\n",
       "  overflow: hidden;\n",
       "  padding: 0;\n",
       "  position: absolute;\n",
       "  width: 1px;\n",
       "}\n",
       "\n",
       "#sk-container-id-1 div.sk-dashed-wrapped {\n",
       "  border: 1px dashed var(--sklearn-color-line);\n",
       "  margin: 0 0.4em 0.5em 0.4em;\n",
       "  box-sizing: border-box;\n",
       "  padding-bottom: 0.4em;\n",
       "  background-color: var(--sklearn-color-background);\n",
       "}\n",
       "\n",
       "#sk-container-id-1 div.sk-container {\n",
       "  /* jupyter's `normalize.less` sets `[hidden] { display: none; }`\n",
       "     but bootstrap.min.css set `[hidden] { display: none !important; }`\n",
       "     so we also need the `!important` here to be able to override the\n",
       "     default hidden behavior on the sphinx rendered scikit-learn.org.\n",
       "     See: https://github.com/scikit-learn/scikit-learn/issues/21755 */\n",
       "  display: inline-block !important;\n",
       "  position: relative;\n",
       "}\n",
       "\n",
       "#sk-container-id-1 div.sk-text-repr-fallback {\n",
       "  display: none;\n",
       "}\n",
       "\n",
       "div.sk-parallel-item,\n",
       "div.sk-serial,\n",
       "div.sk-item {\n",
       "  /* draw centered vertical line to link estimators */\n",
       "  background-image: linear-gradient(var(--sklearn-color-text-on-default-background), var(--sklearn-color-text-on-default-background));\n",
       "  background-size: 2px 100%;\n",
       "  background-repeat: no-repeat;\n",
       "  background-position: center center;\n",
       "}\n",
       "\n",
       "/* Parallel-specific style estimator block */\n",
       "\n",
       "#sk-container-id-1 div.sk-parallel-item::after {\n",
       "  content: \"\";\n",
       "  width: 100%;\n",
       "  border-bottom: 2px solid var(--sklearn-color-text-on-default-background);\n",
       "  flex-grow: 1;\n",
       "}\n",
       "\n",
       "#sk-container-id-1 div.sk-parallel {\n",
       "  display: flex;\n",
       "  align-items: stretch;\n",
       "  justify-content: center;\n",
       "  background-color: var(--sklearn-color-background);\n",
       "  position: relative;\n",
       "}\n",
       "\n",
       "#sk-container-id-1 div.sk-parallel-item {\n",
       "  display: flex;\n",
       "  flex-direction: column;\n",
       "}\n",
       "\n",
       "#sk-container-id-1 div.sk-parallel-item:first-child::after {\n",
       "  align-self: flex-end;\n",
       "  width: 50%;\n",
       "}\n",
       "\n",
       "#sk-container-id-1 div.sk-parallel-item:last-child::after {\n",
       "  align-self: flex-start;\n",
       "  width: 50%;\n",
       "}\n",
       "\n",
       "#sk-container-id-1 div.sk-parallel-item:only-child::after {\n",
       "  width: 0;\n",
       "}\n",
       "\n",
       "/* Serial-specific style estimator block */\n",
       "\n",
       "#sk-container-id-1 div.sk-serial {\n",
       "  display: flex;\n",
       "  flex-direction: column;\n",
       "  align-items: center;\n",
       "  background-color: var(--sklearn-color-background);\n",
       "  padding-right: 1em;\n",
       "  padding-left: 1em;\n",
       "}\n",
       "\n",
       "\n",
       "/* Toggleable style: style used for estimator/Pipeline/ColumnTransformer box that is\n",
       "clickable and can be expanded/collapsed.\n",
       "- Pipeline and ColumnTransformer use this feature and define the default style\n",
       "- Estimators will overwrite some part of the style using the `sk-estimator` class\n",
       "*/\n",
       "\n",
       "/* Pipeline and ColumnTransformer style (default) */\n",
       "\n",
       "#sk-container-id-1 div.sk-toggleable {\n",
       "  /* Default theme specific background. It is overwritten whether we have a\n",
       "  specific estimator or a Pipeline/ColumnTransformer */\n",
       "  background-color: var(--sklearn-color-background);\n",
       "}\n",
       "\n",
       "/* Toggleable label */\n",
       "#sk-container-id-1 label.sk-toggleable__label {\n",
       "  cursor: pointer;\n",
       "  display: flex;\n",
       "  width: 100%;\n",
       "  margin-bottom: 0;\n",
       "  padding: 0.5em;\n",
       "  box-sizing: border-box;\n",
       "  text-align: center;\n",
       "  align-items: start;\n",
       "  justify-content: space-between;\n",
       "  gap: 0.5em;\n",
       "}\n",
       "\n",
       "#sk-container-id-1 label.sk-toggleable__label .caption {\n",
       "  font-size: 0.6rem;\n",
       "  font-weight: lighter;\n",
       "  color: var(--sklearn-color-text-muted);\n",
       "}\n",
       "\n",
       "#sk-container-id-1 label.sk-toggleable__label-arrow:before {\n",
       "  /* Arrow on the left of the label */\n",
       "  content: \"▸\";\n",
       "  float: left;\n",
       "  margin-right: 0.25em;\n",
       "  color: var(--sklearn-color-icon);\n",
       "}\n",
       "\n",
       "#sk-container-id-1 label.sk-toggleable__label-arrow:hover:before {\n",
       "  color: var(--sklearn-color-text);\n",
       "}\n",
       "\n",
       "/* Toggleable content - dropdown */\n",
       "\n",
       "#sk-container-id-1 div.sk-toggleable__content {\n",
       "  max-height: 0;\n",
       "  max-width: 0;\n",
       "  overflow: hidden;\n",
       "  text-align: left;\n",
       "  /* unfitted */\n",
       "  background-color: var(--sklearn-color-unfitted-level-0);\n",
       "}\n",
       "\n",
       "#sk-container-id-1 div.sk-toggleable__content.fitted {\n",
       "  /* fitted */\n",
       "  background-color: var(--sklearn-color-fitted-level-0);\n",
       "}\n",
       "\n",
       "#sk-container-id-1 div.sk-toggleable__content pre {\n",
       "  margin: 0.2em;\n",
       "  border-radius: 0.25em;\n",
       "  color: var(--sklearn-color-text);\n",
       "  /* unfitted */\n",
       "  background-color: var(--sklearn-color-unfitted-level-0);\n",
       "}\n",
       "\n",
       "#sk-container-id-1 div.sk-toggleable__content.fitted pre {\n",
       "  /* unfitted */\n",
       "  background-color: var(--sklearn-color-fitted-level-0);\n",
       "}\n",
       "\n",
       "#sk-container-id-1 input.sk-toggleable__control:checked~div.sk-toggleable__content {\n",
       "  /* Expand drop-down */\n",
       "  max-height: 200px;\n",
       "  max-width: 100%;\n",
       "  overflow: auto;\n",
       "}\n",
       "\n",
       "#sk-container-id-1 input.sk-toggleable__control:checked~label.sk-toggleable__label-arrow:before {\n",
       "  content: \"▾\";\n",
       "}\n",
       "\n",
       "/* Pipeline/ColumnTransformer-specific style */\n",
       "\n",
       "#sk-container-id-1 div.sk-label input.sk-toggleable__control:checked~label.sk-toggleable__label {\n",
       "  color: var(--sklearn-color-text);\n",
       "  background-color: var(--sklearn-color-unfitted-level-2);\n",
       "}\n",
       "\n",
       "#sk-container-id-1 div.sk-label.fitted input.sk-toggleable__control:checked~label.sk-toggleable__label {\n",
       "  background-color: var(--sklearn-color-fitted-level-2);\n",
       "}\n",
       "\n",
       "/* Estimator-specific style */\n",
       "\n",
       "/* Colorize estimator box */\n",
       "#sk-container-id-1 div.sk-estimator input.sk-toggleable__control:checked~label.sk-toggleable__label {\n",
       "  /* unfitted */\n",
       "  background-color: var(--sklearn-color-unfitted-level-2);\n",
       "}\n",
       "\n",
       "#sk-container-id-1 div.sk-estimator.fitted input.sk-toggleable__control:checked~label.sk-toggleable__label {\n",
       "  /* fitted */\n",
       "  background-color: var(--sklearn-color-fitted-level-2);\n",
       "}\n",
       "\n",
       "#sk-container-id-1 div.sk-label label.sk-toggleable__label,\n",
       "#sk-container-id-1 div.sk-label label {\n",
       "  /* The background is the default theme color */\n",
       "  color: var(--sklearn-color-text-on-default-background);\n",
       "}\n",
       "\n",
       "/* On hover, darken the color of the background */\n",
       "#sk-container-id-1 div.sk-label:hover label.sk-toggleable__label {\n",
       "  color: var(--sklearn-color-text);\n",
       "  background-color: var(--sklearn-color-unfitted-level-2);\n",
       "}\n",
       "\n",
       "/* Label box, darken color on hover, fitted */\n",
       "#sk-container-id-1 div.sk-label.fitted:hover label.sk-toggleable__label.fitted {\n",
       "  color: var(--sklearn-color-text);\n",
       "  background-color: var(--sklearn-color-fitted-level-2);\n",
       "}\n",
       "\n",
       "/* Estimator label */\n",
       "\n",
       "#sk-container-id-1 div.sk-label label {\n",
       "  font-family: monospace;\n",
       "  font-weight: bold;\n",
       "  display: inline-block;\n",
       "  line-height: 1.2em;\n",
       "}\n",
       "\n",
       "#sk-container-id-1 div.sk-label-container {\n",
       "  text-align: center;\n",
       "}\n",
       "\n",
       "/* Estimator-specific */\n",
       "#sk-container-id-1 div.sk-estimator {\n",
       "  font-family: monospace;\n",
       "  border: 1px dotted var(--sklearn-color-border-box);\n",
       "  border-radius: 0.25em;\n",
       "  box-sizing: border-box;\n",
       "  margin-bottom: 0.5em;\n",
       "  /* unfitted */\n",
       "  background-color: var(--sklearn-color-unfitted-level-0);\n",
       "}\n",
       "\n",
       "#sk-container-id-1 div.sk-estimator.fitted {\n",
       "  /* fitted */\n",
       "  background-color: var(--sklearn-color-fitted-level-0);\n",
       "}\n",
       "\n",
       "/* on hover */\n",
       "#sk-container-id-1 div.sk-estimator:hover {\n",
       "  /* unfitted */\n",
       "  background-color: var(--sklearn-color-unfitted-level-2);\n",
       "}\n",
       "\n",
       "#sk-container-id-1 div.sk-estimator.fitted:hover {\n",
       "  /* fitted */\n",
       "  background-color: var(--sklearn-color-fitted-level-2);\n",
       "}\n",
       "\n",
       "/* Specification for estimator info (e.g. \"i\" and \"?\") */\n",
       "\n",
       "/* Common style for \"i\" and \"?\" */\n",
       "\n",
       ".sk-estimator-doc-link,\n",
       "a:link.sk-estimator-doc-link,\n",
       "a:visited.sk-estimator-doc-link {\n",
       "  float: right;\n",
       "  font-size: smaller;\n",
       "  line-height: 1em;\n",
       "  font-family: monospace;\n",
       "  background-color: var(--sklearn-color-background);\n",
       "  border-radius: 1em;\n",
       "  height: 1em;\n",
       "  width: 1em;\n",
       "  text-decoration: none !important;\n",
       "  margin-left: 0.5em;\n",
       "  text-align: center;\n",
       "  /* unfitted */\n",
       "  border: var(--sklearn-color-unfitted-level-1) 1pt solid;\n",
       "  color: var(--sklearn-color-unfitted-level-1);\n",
       "}\n",
       "\n",
       ".sk-estimator-doc-link.fitted,\n",
       "a:link.sk-estimator-doc-link.fitted,\n",
       "a:visited.sk-estimator-doc-link.fitted {\n",
       "  /* fitted */\n",
       "  border: var(--sklearn-color-fitted-level-1) 1pt solid;\n",
       "  color: var(--sklearn-color-fitted-level-1);\n",
       "}\n",
       "\n",
       "/* On hover */\n",
       "div.sk-estimator:hover .sk-estimator-doc-link:hover,\n",
       ".sk-estimator-doc-link:hover,\n",
       "div.sk-label-container:hover .sk-estimator-doc-link:hover,\n",
       ".sk-estimator-doc-link:hover {\n",
       "  /* unfitted */\n",
       "  background-color: var(--sklearn-color-unfitted-level-3);\n",
       "  color: var(--sklearn-color-background);\n",
       "  text-decoration: none;\n",
       "}\n",
       "\n",
       "div.sk-estimator.fitted:hover .sk-estimator-doc-link.fitted:hover,\n",
       ".sk-estimator-doc-link.fitted:hover,\n",
       "div.sk-label-container:hover .sk-estimator-doc-link.fitted:hover,\n",
       ".sk-estimator-doc-link.fitted:hover {\n",
       "  /* fitted */\n",
       "  background-color: var(--sklearn-color-fitted-level-3);\n",
       "  color: var(--sklearn-color-background);\n",
       "  text-decoration: none;\n",
       "}\n",
       "\n",
       "/* Span, style for the box shown on hovering the info icon */\n",
       ".sk-estimator-doc-link span {\n",
       "  display: none;\n",
       "  z-index: 9999;\n",
       "  position: relative;\n",
       "  font-weight: normal;\n",
       "  right: .2ex;\n",
       "  padding: .5ex;\n",
       "  margin: .5ex;\n",
       "  width: min-content;\n",
       "  min-width: 20ex;\n",
       "  max-width: 50ex;\n",
       "  color: var(--sklearn-color-text);\n",
       "  box-shadow: 2pt 2pt 4pt #999;\n",
       "  /* unfitted */\n",
       "  background: var(--sklearn-color-unfitted-level-0);\n",
       "  border: .5pt solid var(--sklearn-color-unfitted-level-3);\n",
       "}\n",
       "\n",
       ".sk-estimator-doc-link.fitted span {\n",
       "  /* fitted */\n",
       "  background: var(--sklearn-color-fitted-level-0);\n",
       "  border: var(--sklearn-color-fitted-level-3);\n",
       "}\n",
       "\n",
       ".sk-estimator-doc-link:hover span {\n",
       "  display: block;\n",
       "}\n",
       "\n",
       "/* \"?\"-specific style due to the `<a>` HTML tag */\n",
       "\n",
       "#sk-container-id-1 a.estimator_doc_link {\n",
       "  float: right;\n",
       "  font-size: 1rem;\n",
       "  line-height: 1em;\n",
       "  font-family: monospace;\n",
       "  background-color: var(--sklearn-color-background);\n",
       "  border-radius: 1rem;\n",
       "  height: 1rem;\n",
       "  width: 1rem;\n",
       "  text-decoration: none;\n",
       "  /* unfitted */\n",
       "  color: var(--sklearn-color-unfitted-level-1);\n",
       "  border: var(--sklearn-color-unfitted-level-1) 1pt solid;\n",
       "}\n",
       "\n",
       "#sk-container-id-1 a.estimator_doc_link.fitted {\n",
       "  /* fitted */\n",
       "  border: var(--sklearn-color-fitted-level-1) 1pt solid;\n",
       "  color: var(--sklearn-color-fitted-level-1);\n",
       "}\n",
       "\n",
       "/* On hover */\n",
       "#sk-container-id-1 a.estimator_doc_link:hover {\n",
       "  /* unfitted */\n",
       "  background-color: var(--sklearn-color-unfitted-level-3);\n",
       "  color: var(--sklearn-color-background);\n",
       "  text-decoration: none;\n",
       "}\n",
       "\n",
       "#sk-container-id-1 a.estimator_doc_link.fitted:hover {\n",
       "  /* fitted */\n",
       "  background-color: var(--sklearn-color-fitted-level-3);\n",
       "}\n",
       "</style><div id=\"sk-container-id-1\" class=\"sk-top-container\"><div class=\"sk-text-repr-fallback\"><pre>RandomForestClassifier(min_samples_split=20, n_estimators=200)</pre><b>In a Jupyter environment, please rerun this cell to show the HTML representation or trust the notebook. <br />On GitHub, the HTML representation is unable to render, please try loading this page with nbviewer.org.</b></div><div class=\"sk-container\" hidden><div class=\"sk-item\"><div class=\"sk-estimator fitted sk-toggleable\"><input class=\"sk-toggleable__control sk-hidden--visually\" id=\"sk-estimator-id-1\" type=\"checkbox\" checked><label for=\"sk-estimator-id-1\" class=\"sk-toggleable__label fitted sk-toggleable__label-arrow\"><div><div>RandomForestClassifier</div></div><div><a class=\"sk-estimator-doc-link fitted\" rel=\"noreferrer\" target=\"_blank\" href=\"https://scikit-learn.org/1.6/modules/generated/sklearn.ensemble.RandomForestClassifier.html\">?<span>Documentation for RandomForestClassifier</span></a><span class=\"sk-estimator-doc-link fitted\">i<span>Fitted</span></span></div></label><div class=\"sk-toggleable__content fitted\"><pre>RandomForestClassifier(min_samples_split=20, n_estimators=200)</pre></div> </div></div></div></div>"
      ],
      "text/plain": [
       "RandomForestClassifier(min_samples_split=20, n_estimators=200)"
      ]
     },
     "execution_count": 45,
     "metadata": {},
     "output_type": "execute_result"
    }
   ],
   "source": [
    "from joblib import dump, load\n",
    "\n",
    "model = RandomForestClassifier(n_estimators=200, min_samples_split=20)\n",
    "model.fit(X, y)"
   ]
  },
  {
   "cell_type": "code",
   "execution_count": 46,
   "metadata": {},
   "outputs": [
    {
     "data": {
      "text/plain": [
       "['clasificador_titanic_rf.joblib']"
      ]
     },
     "execution_count": 46,
     "metadata": {},
     "output_type": "execute_result"
    }
   ],
   "source": [
    "# exportar el modelo\n",
    "dump(model, 'clasificador_titanic_rf.joblib')"
   ]
  },
  {
   "cell_type": "code",
   "execution_count": 48,
   "metadata": {},
   "outputs": [],
   "source": [
    "# importar el modelo\n",
    "# este load lo haríamos en una aplicación web con Python para desplegar en un servidor\n",
    "model = load('clasificador_titanic_rf.joblib')"
   ]
  },
  {
   "cell_type": "code",
   "execution_count": 49,
   "metadata": {},
   "outputs": [
    {
     "data": {
      "text/plain": [
       "array([0.])"
      ]
     },
     "execution_count": 49,
     "metadata": {},
     "output_type": "execute_result"
    }
   ],
   "source": [
    "# prediccion\n",
    "X_new = pd.DataFrame([[22.0, 3.0, 1.0, 1.0, 0.0, 0.0, 1.0, 2.110213, 1.0, 0.0, 0.0]], columns=X.columns)\n",
    "model.predict(X_new)"
   ]
  },
  {
   "cell_type": "markdown",
   "metadata": {},
   "source": [
    "Librerías para exportar y cargar modelos:\n",
    "\n",
    "* joblib: específica para serializar grandes objetos Python como modelos ML.\n",
    "* pickle: genérico, no solo para modelos ML, también para datos numéricos, integrado en Python. Más lento que Joblib para arrays grandes de Numpy y no comprime datos por defecto.\n",
    "* hdf5 es un formato que genera archivos .h5 más ideal para modelos de TensorFlow/Keras para modelos de Deep Learning como redes neuronales."
   ]
  }
 ],
 "metadata": {
  "kernelspec": {
   "display_name": ".venv",
   "language": "python",
   "name": "python3"
  },
  "language_info": {
   "codemirror_mode": {
    "name": "ipython",
    "version": 3
   },
   "file_extension": ".py",
   "mimetype": "text/x-python",
   "name": "python",
   "nbconvert_exporter": "python",
   "pygments_lexer": "ipython3",
   "version": "3.12.6"
  }
 },
 "nbformat": 4,
 "nbformat_minor": 2
}
