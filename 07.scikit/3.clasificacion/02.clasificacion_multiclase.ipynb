{
 "cells": [
  {
   "cell_type": "markdown",
   "metadata": {},
   "source": [
    "## Clasificación multiclase\n",
    "\n",
    "Cuando tenemos un dataset con más de 2 clases se trata de un problema multiclase.\n",
    "\n",
    "Por ejemplo:\n",
    "\n",
    "* Predecir la especie de una flor en iris: 3 posibilidades\n",
    "* Predecir la especie de un penguin: 3 posibilidades\n",
    "* Predecir qué número hay en una imagen de 0 a 9: 10 posibilidades\n",
    "\n",
    "En la **versión multinomial o multiclase**, en lugar de una sola salida entre 0 y 1, necesitamos una **probabilidad** para cada clase (por ejemplo, 3 clases → 3 probabilidades que sumen 1). Para ello, se usa la **función softmax**.\n",
    "\n",
    "Para cada clase $k$ calculamos un valor $z_k$ (una combinación lineal de tus variables con un vector de pesos para cada clase). Por ejemplo, si tienes 3 clases (A, B, C), tendrás:\n",
    "\n",
    "$$\n",
    "z_A = w_{A0} + w_{A1}x_1 + w_{A2}x_2 + \\dots\n",
    "$$\n",
    "$$\n",
    "z_B = w_{B0} + w_{B1}x_1 + w_{B2}x_2 + \\dots\n",
    "$$\n",
    "$$\n",
    "z_C = w_{C0} + w_{C1}x_1 + w_{C2}x_2 + \\dots\n",
    "$$\n",
    "\n",
    "La **función softmax** convierte $(z_A, z_B, z_C)$ en probabilidades $(P_A, P_B, P_C)$ que suman 1:\n",
    "\n",
    "$$\n",
    "P_A = \\frac{e^{z_A}}{e^{z_A} + e^{z_B} + e^{z_C}}, \\quad\n",
    "P_B = \\frac{e^{z_B}}{e^{z_A} + e^{z_B} + e^{z_C}}, \\quad\n",
    "P_C = \\frac{e^{z_C}}{e^{z_A} + e^{z_B} + e^{z_C}}\n",
    "$$\n",
    "\n",
    "En general, para $K$ clases:\n",
    "$$\n",
    "P_k = \\frac{e^{z_k}}{\\sum_{j=1}^{K} e^{z_j}}\n",
    "$$\n",
    "\n",
    "Cada $P_k$ es la probabilidad de pertenecer a la clase $k$, y **todas** las $P_k$ juntas suman 1.\n",
    "\n",
    "Parámetro para metrics como f1, precision, recall\n",
    "\n",
    "* macro: cuando el dataset está balanceado o todas las clases tienen igual importancia\n",
    "    * das el mismo peso a cada división 'primera', 'segunda', 'tercera', 'no asciende'\n",
    "* micro: desempeño global general, problemas desbalanceados donde el tamaño total importa\n",
    "    * si no importa las divisiones en sí, e importa a nivel de todas las precciones independientemente de las clases\n",
    "* weighted: cuando está desbalanceado y queremos tener en cuenta el tamaño de cada clase.\n",
    "    * cuando hay divisiones más grandes que otras queremos reflejar el desbalance real del torneo\n",
    "\n",
    "https://es.besoccer.com/partido/alaves/celta/20256522/clasificacion\n",
    "\n",
    "Ver balanceo:\n",
    "* sns.countplot()\n",
    "\n",
    "* X: los datos tienen que ser numéricos\n",
    "* y: suele ser habitual convertir a numéricos usando .map o LabelEncoder, pero se pueden mantener así"
   ]
  },
  {
   "cell_type": "code",
   "execution_count": 57,
   "metadata": {},
   "outputs": [],
   "source": [
    "import pandas as pd\n",
    "import matplotlib.pyplot as plt\n",
    "import seaborn as sns\n",
    "from sklearn.linear_model import LogisticRegression"
   ]
  },
  {
   "cell_type": "code",
   "execution_count": 58,
   "metadata": {},
   "outputs": [
    {
     "data": {
      "text/html": [
       "<div>\n",
       "<style scoped>\n",
       "    .dataframe tbody tr th:only-of-type {\n",
       "        vertical-align: middle;\n",
       "    }\n",
       "\n",
       "    .dataframe tbody tr th {\n",
       "        vertical-align: top;\n",
       "    }\n",
       "\n",
       "    .dataframe thead th {\n",
       "        text-align: right;\n",
       "    }\n",
       "</style>\n",
       "<table border=\"1\" class=\"dataframe\">\n",
       "  <thead>\n",
       "    <tr style=\"text-align: right;\">\n",
       "      <th></th>\n",
       "      <th>sepal_length</th>\n",
       "      <th>sepal_width</th>\n",
       "      <th>petal_length</th>\n",
       "      <th>petal_width</th>\n",
       "      <th>species</th>\n",
       "    </tr>\n",
       "  </thead>\n",
       "  <tbody>\n",
       "    <tr>\n",
       "      <th>0</th>\n",
       "      <td>5.1</td>\n",
       "      <td>3.5</td>\n",
       "      <td>1.4</td>\n",
       "      <td>0.2</td>\n",
       "      <td>setosa</td>\n",
       "    </tr>\n",
       "    <tr>\n",
       "      <th>1</th>\n",
       "      <td>4.9</td>\n",
       "      <td>3.0</td>\n",
       "      <td>1.4</td>\n",
       "      <td>0.2</td>\n",
       "      <td>setosa</td>\n",
       "    </tr>\n",
       "    <tr>\n",
       "      <th>2</th>\n",
       "      <td>4.7</td>\n",
       "      <td>3.2</td>\n",
       "      <td>1.3</td>\n",
       "      <td>0.2</td>\n",
       "      <td>setosa</td>\n",
       "    </tr>\n",
       "    <tr>\n",
       "      <th>3</th>\n",
       "      <td>4.6</td>\n",
       "      <td>3.1</td>\n",
       "      <td>1.5</td>\n",
       "      <td>0.2</td>\n",
       "      <td>setosa</td>\n",
       "    </tr>\n",
       "    <tr>\n",
       "      <th>4</th>\n",
       "      <td>5.0</td>\n",
       "      <td>3.6</td>\n",
       "      <td>1.4</td>\n",
       "      <td>0.2</td>\n",
       "      <td>setosa</td>\n",
       "    </tr>\n",
       "  </tbody>\n",
       "</table>\n",
       "</div>"
      ],
      "text/plain": [
       "   sepal_length  sepal_width  petal_length  petal_width species\n",
       "0           5.1          3.5           1.4          0.2  setosa\n",
       "1           4.9          3.0           1.4          0.2  setosa\n",
       "2           4.7          3.2           1.3          0.2  setosa\n",
       "3           4.6          3.1           1.5          0.2  setosa\n",
       "4           5.0          3.6           1.4          0.2  setosa"
      ]
     },
     "execution_count": 58,
     "metadata": {},
     "output_type": "execute_result"
    }
   ],
   "source": [
    "df = sns.load_dataset('iris')\n",
    "df.head()"
   ]
  },
  {
   "cell_type": "code",
   "execution_count": 59,
   "metadata": {},
   "outputs": [
    {
     "data": {
      "text/plain": [
       "<Axes: xlabel='species', ylabel='count'>"
      ]
     },
     "execution_count": 59,
     "metadata": {},
     "output_type": "execute_result"
    },
    {
     "data": {
      "image/png": "[encoded data removed]",
      "text/plain": [
       "<Figure size 640x480 with 1 Axes>"
      ]
     },
     "metadata": {},
     "output_type": "display_data"
    }
   ],
   "source": [
    "# Clases balanceadas, mismo número de registros de cada especie\n",
    "sns.countplot(df, x='species')"
   ]
  },
  {
   "cell_type": "code",
   "execution_count": 60,
   "metadata": {},
   "outputs": [
    {
     "name": "stdout",
     "output_type": "stream",
     "text": [
      "species\n",
      "versicolor    41\n",
      "setosa        40\n",
      "virginica     39\n",
      "Name: count, dtype: int64\n",
      "species\n",
      "virginica     11\n",
      "setosa        10\n",
      "versicolor     9\n",
      "Name: count, dtype: int64\n"
     ]
    }
   ],
   "source": [
    "from sklearn.model_selection import train_test_split\n",
    "\n",
    "X = df.drop('species', axis=1)\n",
    "y = df['species'].map({'setosa': 0, 'versicolor': 1, 'virginica': 2})\n",
    "# y = df['species']\n",
    "\n",
    "# Particionamiento normal: vemos que puede tomar distinto número de registros de cada clase, generando un ligero \"desbalanceo\"\n",
    "X_train, X_test, y_train, y_test = train_test_split(X, y, test_size=0.20, random_state=42)\n",
    "print(y_train.value_counts())\n",
    "print(y_test.value_counts())"
   ]
  },
  {
   "cell_type": "markdown",
   "metadata": {},
   "source": [
    "## stratify:\n",
    "\n",
    "asegura que la división sea proporcionar en función del a variable objetivo (species). SE tiene mantener esa proporción tanto en entrenamiento como en test.\n",
    "\n",
    "* Si no usamos stratify la división es aleatorio. \n",
    "* Si usamos stratify se sasegura de que la proporción de clases en el conjunto de datos original se refleje en los conjuntos de train y test.\n",
    "\n",
    "Ideal para problemas de clasificación, en regresión se puede tener en cuenta si hay columnas categóricas."
   ]
  },
  {
   "cell_type": "code",
   "execution_count": 61,
   "metadata": {},
   "outputs": [
    {
     "name": "stdout",
     "output_type": "stream",
     "text": [
      "species\n",
      "setosa        40\n",
      "virginica     40\n",
      "versicolor    40\n",
      "Name: count, dtype: int64\n",
      "species\n",
      "setosa        10\n",
      "virginica     10\n",
      "versicolor    10\n",
      "Name: count, dtype: int64\n"
     ]
    }
   ],
   "source": [
    "# Particionamiento con stratify: le pasamos la columna y en stratify para asegurar el mismo número de registro de cada clase \n",
    "X_train, X_test, y_train, y_test = train_test_split(X, y, test_size=0.20, random_state=42, stratify=y)\n",
    "print(y_train.value_counts()) # 40 registros de cada specie equivale al 80 % de 50 registros\n",
    "print(y_test.value_counts()) # 10 registros de cada specie equivale al 20 % de 50 registros"
   ]
  },
  {
   "cell_type": "code",
   "execution_count": 62,
   "metadata": {},
   "outputs": [],
   "source": [
    "from sklearn.metrics import accuracy_score, f1_score, precision_score, recall_score, roc_auc_score\n",
    "\n",
    "df_resultados = pd.DataFrame(columns=['Modelo', 'accuracy', 'precision', 'recall', 'f1', 'AUC'])\n",
    "\n",
    "def calculate_metrics(name, model):\n",
    "    model.fit(X_train, y_train)\n",
    "    y_pred = model.predict(X_test)\n",
    "    y_pred_proba = model.predict_proba(X_test)\n",
    "    \n",
    "    accuracy = accuracy_score(y_test, y_pred)\n",
    "    precision = precision_score(y_test, y_pred, average='macro')\n",
    "    recall = recall_score(y_test, y_pred, average='macro')\n",
    "    f1 = f1_score(y_test, y_pred, average='macro')\n",
    "    # OVR: One vs Rest calcula AUC para cada clase de manera individual, considerando cada clase como positiva y las demás como negativas\n",
    "    # OVO: One vs One calcula el AUC para cada par de clases, combina resultados calculando promedio según métrica average\n",
    "    auc = roc_auc_score(y_test, y_pred_proba, multi_class='ovr')\n",
    "    \n",
    "    df_resultados.loc[len(df_resultados)] = [name, accuracy, precision, recall, f1, auc]"
   ]
  },
  {
   "cell_type": "markdown",
   "metadata": {},
   "source": [
    "## Regresión logística\n",
    "\n",
    "En vez de usar la función sigmoide que se usa para clasificación binaria, en problemas de clasificación multiclase se usa una función softmax, genera una probabilidad para cada clase de modo que todas sumen 1."
   ]
  },
  {
   "cell_type": "code",
   "execution_count": 63,
   "metadata": {},
   "outputs": [
    {
     "data": {
      "text/html": [
       "<div>\n",
       "<style scoped>\n",
       "    .dataframe tbody tr th:only-of-type {\n",
       "        vertical-align: middle;\n",
       "    }\n",
       "\n",
       "    .dataframe tbody tr th {\n",
       "        vertical-align: top;\n",
       "    }\n",
       "\n",
       "    .dataframe thead th {\n",
       "        text-align: right;\n",
       "    }\n",
       "</style>\n",
       "<table border=\"1\" class=\"dataframe\">\n",
       "  <thead>\n",
       "    <tr style=\"text-align: right;\">\n",
       "      <th></th>\n",
       "      <th>Modelo</th>\n",
       "      <th>accuracy</th>\n",
       "      <th>precision</th>\n",
       "      <th>recall</th>\n",
       "      <th>f1</th>\n",
       "      <th>AUC</th>\n",
       "    </tr>\n",
       "  </thead>\n",
       "  <tbody>\n",
       "    <tr>\n",
       "      <th>0</th>\n",
       "      <td>Rlog</td>\n",
       "      <td>0.966667</td>\n",
       "      <td>0.969697</td>\n",
       "      <td>0.966667</td>\n",
       "      <td>0.966583</td>\n",
       "      <td>1.0</td>\n",
       "    </tr>\n",
       "  </tbody>\n",
       "</table>\n",
       "</div>"
      ],
      "text/plain": [
       "  Modelo  accuracy  precision    recall        f1  AUC\n",
       "0   Rlog  0.966667   0.969697  0.966667  0.966583  1.0"
      ]
     },
     "execution_count": 63,
     "metadata": {},
     "output_type": "execute_result"
    }
   ],
   "source": [
    "model = LogisticRegression(max_iter=500)\n",
    "calculate_metrics('Rlog', model)\n",
    "df_resultados"
   ]
  },
  {
   "cell_type": "code",
   "execution_count": 64,
   "metadata": {},
   "outputs": [
    {
     "data": {
      "text/html": [
       "<div>\n",
       "<style scoped>\n",
       "    .dataframe tbody tr th:only-of-type {\n",
       "        vertical-align: middle;\n",
       "    }\n",
       "\n",
       "    .dataframe tbody tr th {\n",
       "        vertical-align: top;\n",
       "    }\n",
       "\n",
       "    .dataframe thead th {\n",
       "        text-align: right;\n",
       "    }\n",
       "</style>\n",
       "<table border=\"1\" class=\"dataframe\">\n",
       "  <thead>\n",
       "    <tr style=\"text-align: right;\">\n",
       "      <th></th>\n",
       "      <th>Modelo</th>\n",
       "      <th>accuracy</th>\n",
       "      <th>precision</th>\n",
       "      <th>recall</th>\n",
       "      <th>f1</th>\n",
       "      <th>AUC</th>\n",
       "    </tr>\n",
       "  </thead>\n",
       "  <tbody>\n",
       "    <tr>\n",
       "      <th>0</th>\n",
       "      <td>Rlog</td>\n",
       "      <td>0.966667</td>\n",
       "      <td>0.969697</td>\n",
       "      <td>0.966667</td>\n",
       "      <td>0.966583</td>\n",
       "      <td>1.0</td>\n",
       "    </tr>\n",
       "    <tr>\n",
       "      <th>1</th>\n",
       "      <td>KNN 5</td>\n",
       "      <td>1.000000</td>\n",
       "      <td>1.000000</td>\n",
       "      <td>1.000000</td>\n",
       "      <td>1.000000</td>\n",
       "      <td>1.0</td>\n",
       "    </tr>\n",
       "  </tbody>\n",
       "</table>\n",
       "</div>"
      ],
      "text/plain": [
       "  Modelo  accuracy  precision    recall        f1  AUC\n",
       "0   Rlog  0.966667   0.969697  0.966667  0.966583  1.0\n",
       "1  KNN 5  1.000000   1.000000  1.000000  1.000000  1.0"
      ]
     },
     "execution_count": 64,
     "metadata": {},
     "output_type": "execute_result"
    }
   ],
   "source": [
    "# KNN \n",
    "from sklearn.neighbors import KNeighborsClassifier\n",
    "\n",
    "model = KNeighborsClassifier()\n",
    "calculate_metrics('KNN 5', model)\n",
    "df_resultados"
   ]
  },
  {
   "cell_type": "code",
   "execution_count": 65,
   "metadata": {},
   "outputs": [
    {
     "data": {
      "text/html": [
       "<div>\n",
       "<style scoped>\n",
       "    .dataframe tbody tr th:only-of-type {\n",
       "        vertical-align: middle;\n",
       "    }\n",
       "\n",
       "    .dataframe tbody tr th {\n",
       "        vertical-align: top;\n",
       "    }\n",
       "\n",
       "    .dataframe thead th {\n",
       "        text-align: right;\n",
       "    }\n",
       "</style>\n",
       "<table border=\"1\" class=\"dataframe\">\n",
       "  <thead>\n",
       "    <tr style=\"text-align: right;\">\n",
       "      <th></th>\n",
       "      <th>Modelo</th>\n",
       "      <th>accuracy</th>\n",
       "      <th>precision</th>\n",
       "      <th>recall</th>\n",
       "      <th>f1</th>\n",
       "      <th>AUC</th>\n",
       "    </tr>\n",
       "  </thead>\n",
       "  <tbody>\n",
       "    <tr>\n",
       "      <th>0</th>\n",
       "      <td>Rlog</td>\n",
       "      <td>0.966667</td>\n",
       "      <td>0.969697</td>\n",
       "      <td>0.966667</td>\n",
       "      <td>0.966583</td>\n",
       "      <td>1.000</td>\n",
       "    </tr>\n",
       "    <tr>\n",
       "      <th>1</th>\n",
       "      <td>KNN 5</td>\n",
       "      <td>1.000000</td>\n",
       "      <td>1.000000</td>\n",
       "      <td>1.000000</td>\n",
       "      <td>1.000000</td>\n",
       "      <td>1.000</td>\n",
       "    </tr>\n",
       "    <tr>\n",
       "      <th>2</th>\n",
       "      <td>DT</td>\n",
       "      <td>0.966667</td>\n",
       "      <td>0.969697</td>\n",
       "      <td>0.966667</td>\n",
       "      <td>0.966583</td>\n",
       "      <td>0.975</td>\n",
       "    </tr>\n",
       "  </tbody>\n",
       "</table>\n",
       "</div>"
      ],
      "text/plain": [
       "  Modelo  accuracy  precision    recall        f1    AUC\n",
       "0   Rlog  0.966667   0.969697  0.966667  0.966583  1.000\n",
       "1  KNN 5  1.000000   1.000000  1.000000  1.000000  1.000\n",
       "2     DT  0.966667   0.969697  0.966667  0.966583  0.975"
      ]
     },
     "execution_count": 65,
     "metadata": {},
     "output_type": "execute_result"
    }
   ],
   "source": [
    "from sklearn.tree import DecisionTreeClassifier\n",
    "\n",
    "model = DecisionTreeClassifier()\n",
    "calculate_metrics('DT', model)\n",
    "df_resultados"
   ]
  },
  {
   "cell_type": "code",
   "execution_count": 66,
   "metadata": {},
   "outputs": [
    {
     "data": {
      "text/html": [
       "<div>\n",
       "<style scoped>\n",
       "    .dataframe tbody tr th:only-of-type {\n",
       "        vertical-align: middle;\n",
       "    }\n",
       "\n",
       "    .dataframe tbody tr th {\n",
       "        vertical-align: top;\n",
       "    }\n",
       "\n",
       "    .dataframe thead th {\n",
       "        text-align: right;\n",
       "    }\n",
       "</style>\n",
       "<table border=\"1\" class=\"dataframe\">\n",
       "  <thead>\n",
       "    <tr style=\"text-align: right;\">\n",
       "      <th></th>\n",
       "      <th>Modelo</th>\n",
       "      <th>accuracy</th>\n",
       "      <th>precision</th>\n",
       "      <th>recall</th>\n",
       "      <th>f1</th>\n",
       "      <th>AUC</th>\n",
       "    </tr>\n",
       "  </thead>\n",
       "  <tbody>\n",
       "    <tr>\n",
       "      <th>0</th>\n",
       "      <td>Rlog</td>\n",
       "      <td>0.966667</td>\n",
       "      <td>0.969697</td>\n",
       "      <td>0.966667</td>\n",
       "      <td>0.966583</td>\n",
       "      <td>1.000000</td>\n",
       "    </tr>\n",
       "    <tr>\n",
       "      <th>1</th>\n",
       "      <td>KNN 5</td>\n",
       "      <td>1.000000</td>\n",
       "      <td>1.000000</td>\n",
       "      <td>1.000000</td>\n",
       "      <td>1.000000</td>\n",
       "      <td>1.000000</td>\n",
       "    </tr>\n",
       "    <tr>\n",
       "      <th>2</th>\n",
       "      <td>DT</td>\n",
       "      <td>0.966667</td>\n",
       "      <td>0.969697</td>\n",
       "      <td>0.966667</td>\n",
       "      <td>0.966583</td>\n",
       "      <td>0.975000</td>\n",
       "    </tr>\n",
       "    <tr>\n",
       "      <th>3</th>\n",
       "      <td>RF</td>\n",
       "      <td>0.933333</td>\n",
       "      <td>0.933333</td>\n",
       "      <td>0.933333</td>\n",
       "      <td>0.933333</td>\n",
       "      <td>0.986667</td>\n",
       "    </tr>\n",
       "  </tbody>\n",
       "</table>\n",
       "</div>"
      ],
      "text/plain": [
       "  Modelo  accuracy  precision    recall        f1       AUC\n",
       "0   Rlog  0.966667   0.969697  0.966667  0.966583  1.000000\n",
       "1  KNN 5  1.000000   1.000000  1.000000  1.000000  1.000000\n",
       "2     DT  0.966667   0.969697  0.966667  0.966583  0.975000\n",
       "3     RF  0.933333   0.933333  0.933333  0.933333  0.986667"
      ]
     },
     "execution_count": 66,
     "metadata": {},
     "output_type": "execute_result"
    }
   ],
   "source": [
    "from sklearn.ensemble import RandomForestClassifier\n",
    "\n",
    "model = RandomForestClassifier()\n",
    "calculate_metrics('RF', model)\n",
    "df_resultados"
   ]
  },
  {
   "cell_type": "code",
   "execution_count": 75,
   "metadata": {},
   "outputs": [
    {
     "data": {
      "text/html": [
       "<div>\n",
       "<style scoped>\n",
       "    .dataframe tbody tr th:only-of-type {\n",
       "        vertical-align: middle;\n",
       "    }\n",
       "\n",
       "    .dataframe tbody tr th {\n",
       "        vertical-align: top;\n",
       "    }\n",
       "\n",
       "    .dataframe thead th {\n",
       "        text-align: right;\n",
       "    }\n",
       "</style>\n",
       "<table border=\"1\" class=\"dataframe\">\n",
       "  <thead>\n",
       "    <tr style=\"text-align: right;\">\n",
       "      <th></th>\n",
       "      <th>Modelo</th>\n",
       "      <th>accuracy</th>\n",
       "      <th>precision</th>\n",
       "      <th>recall</th>\n",
       "      <th>f1</th>\n",
       "      <th>AUC</th>\n",
       "    </tr>\n",
       "  </thead>\n",
       "  <tbody>\n",
       "    <tr>\n",
       "      <th>0</th>\n",
       "      <td>Rlog</td>\n",
       "      <td>0.966667</td>\n",
       "      <td>0.969697</td>\n",
       "      <td>0.966667</td>\n",
       "      <td>0.966583</td>\n",
       "      <td>1.000000</td>\n",
       "    </tr>\n",
       "    <tr>\n",
       "      <th>1</th>\n",
       "      <td>KNN 5</td>\n",
       "      <td>1.000000</td>\n",
       "      <td>1.000000</td>\n",
       "      <td>1.000000</td>\n",
       "      <td>1.000000</td>\n",
       "      <td>1.000000</td>\n",
       "    </tr>\n",
       "    <tr>\n",
       "      <th>2</th>\n",
       "      <td>DT</td>\n",
       "      <td>0.966667</td>\n",
       "      <td>0.969697</td>\n",
       "      <td>0.966667</td>\n",
       "      <td>0.966583</td>\n",
       "      <td>0.975000</td>\n",
       "    </tr>\n",
       "    <tr>\n",
       "      <th>3</th>\n",
       "      <td>RF</td>\n",
       "      <td>0.933333</td>\n",
       "      <td>0.933333</td>\n",
       "      <td>0.933333</td>\n",
       "      <td>0.933333</td>\n",
       "      <td>0.986667</td>\n",
       "    </tr>\n",
       "    <tr>\n",
       "      <th>4</th>\n",
       "      <td>SVC</td>\n",
       "      <td>0.966667</td>\n",
       "      <td>0.969697</td>\n",
       "      <td>0.966667</td>\n",
       "      <td>0.966583</td>\n",
       "      <td>0.996667</td>\n",
       "    </tr>\n",
       "  </tbody>\n",
       "</table>\n",
       "</div>"
      ],
      "text/plain": [
       "  Modelo  accuracy  precision    recall        f1       AUC\n",
       "0   Rlog  0.966667   0.969697  0.966667  0.966583  1.000000\n",
       "1  KNN 5  1.000000   1.000000  1.000000  1.000000  1.000000\n",
       "2     DT  0.966667   0.969697  0.966667  0.966583  0.975000\n",
       "3     RF  0.933333   0.933333  0.933333  0.933333  0.986667\n",
       "4    SVC  0.966667   0.969697  0.966667  0.966583  0.996667"
      ]
     },
     "execution_count": 75,
     "metadata": {},
     "output_type": "execute_result"
    }
   ],
   "source": [
    "from sklearn.svm import SVC\n",
    "\n",
    "# probability = True para poder usar predict_proba y calcular AUC\n",
    "model = SVC(probability=True)\n",
    "calculate_metrics('SVC', model)\n",
    "df_resultados"
   ]
  },
  {
   "cell_type": "code",
   "execution_count": 74,
   "metadata": {},
   "outputs": [
    {
     "data": {
      "text/plain": [
       "np.float64(0.9933333333333333)"
      ]
     },
     "execution_count": 74,
     "metadata": {},
     "output_type": "execute_result"
    }
   ],
   "source": [
    "# Alternativa sin probability = True, se usa decision_function en lugar de predict_proba, más rápido\n",
    "model = SVC()\n",
    "model.fit(X_train, y_train)\n",
    "y_pred = model.decision_function(X_test)\n",
    "roc_auc_score(pd.get_dummies(y_test), y_pred, multi_class='ovr')"
   ]
  },
  {
   "cell_type": "code",
   "execution_count": null,
   "metadata": {},
   "outputs": [],
   "source": [
    "# probar penguins, clasificación multiclase columna specie o island"
   ]
  }
 ],
 "metadata": {
  "kernelspec": {
   "display_name": ".venv",
   "language": "python",
   "name": "python3"
  },
  "language_info": {
   "codemirror_mode": {
    "name": "ipython",
    "version": 3
   },
   "file_extension": ".py",
   "mimetype": "text/x-python",
   "name": "python",
   "nbconvert_exporter": "python",
   "pygments_lexer": "ipython3",
   "version": "3.12.6"
  }
 },
 "nbformat": 4,
 "nbformat_minor": 2
}
