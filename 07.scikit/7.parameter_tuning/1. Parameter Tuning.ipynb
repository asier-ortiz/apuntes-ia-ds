{
 "cells": [
  {
   "cell_type": "code",
   "execution_count": 32,
   "metadata": {
    "collapsed": true,
    "pycharm": {
     "name": "#%%\n"
    }
   },
   "outputs": [],
   "source": [
    "import matplotlib.pyplot as plt\n",
    "import pandas as pd\n",
    "import seaborn as sns\n",
    "from sklearn.ensemble import RandomForestClassifier, AdaBoostClassifier\n",
    "from sklearn.neighbors import KNeighborsClassifier\n",
    "from sklearn.tree import DecisionTreeClassifier\n",
    "%matplotlib inline\n",
    "from sklearn.model_selection import train_test_split\n",
    "from sklearn.metrics import accuracy_score, mean_squared_error\n",
    "from sklearn.metrics import precision_score, recall_score, f1_score, roc_auc_score\n",
    "from sklearn.metrics import classification_report\n",
    "from sklearn.model_selection import GridSearchCV\n",
    "from sklearn.linear_model import LogisticRegression, LinearRegression, ElasticNet\n",
    "from sklearn.metrics import r2_score, mean_absolute_error\n",
    "import numpy as np\n",
    "from sklearn.model_selection import train_test_split\n",
    "from sklearn.metrics import accuracy_score, mean_squared_error\n",
    "from sklearn.metrics import precision_score, recall_score, f1_score, roc_auc_score\n",
    "from sklearn.metrics import classification_report\n",
    "from sklearn.model_selection import GridSearchCV\n",
    "from sklearn.linear_model import LogisticRegression, LinearRegression, ElasticNet\n",
    "from sklearn.metrics import r2_score, mean_absolute_error\n",
    "import numpy as np\n",
    "from sklearn import datasets\n",
    "from sklearn.ensemble import AdaBoostRegressor, GradientBoostingRegressor\n",
    "from sklearn.tree import DecisionTreeRegressor\n",
    "from sklearn.svm import SVR\n",
    "from sklearn.linear_model import Lasso, Ridge\n",
    "from sklearn.neighbors import KNeighborsRegressor\n",
    "from sklearn.linear_model import Lasso\n",
    "from sklearn.ensemble import RandomForestRegressor\n",
    "from sklearn.metrics import make_scorer\n",
    "from sklearn.model_selection import RandomizedSearchCV\n",
    "from sklearn.ensemble import GradientBoostingClassifier\n",
    "from sklearn.svm import SVC\n",
    "from sklearn.pipeline import Pipeline\n",
    "sns.set()"
   ]
  },
  {
   "cell_type": "markdown",
   "source": [
    "# Regresión"
   ],
   "metadata": {
    "collapsed": false,
    "pycharm": {
     "name": "#%% md\n"
    }
   }
  },
  {
   "cell_type": "code",
   "execution_count": 33,
   "outputs": [
    {
     "name": "stdout",
     "output_type": "stream",
     "text": [
      ".. _diabetes_dataset:\n",
      "\n",
      "Diabetes dataset\n",
      "----------------\n",
      "\n",
      "Ten baseline variables, age, sex, body mass index, average blood\n",
      "pressure, and six blood serum measurements were obtained for each of n =\n",
      "442 diabetes patients, as well as the response of interest, a\n",
      "quantitative measure of disease progression one year after baseline.\n",
      "\n",
      "**Data Set Characteristics:**\n",
      "\n",
      "  :Number of Instances: 442\n",
      "\n",
      "  :Number of Attributes: First 10 columns are numeric predictive values\n",
      "\n",
      "  :Target: Column 11 is a quantitative measure of disease progression one year after baseline\n",
      "\n",
      "  :Attribute Information:\n",
      "      - age     age in years\n",
      "      - sex\n",
      "      - bmi     body mass index\n",
      "      - bp      average blood pressure\n",
      "      - s1      tc, total serum cholesterol\n",
      "      - s2      ldl, low-density lipoproteins\n",
      "      - s3      hdl, high-density lipoproteins\n",
      "      - s4      tch, total cholesterol / HDL\n",
      "      - s5      ltg, possibly log of serum triglycerides level\n",
      "      - s6      glu, blood sugar level\n",
      "\n",
      "Note: Each of these 10 feature variables have been mean centered and scaled by the standard deviation times `n_samples` (i.e. the sum of squares of each column totals 1).\n",
      "\n",
      "Source URL:\n",
      "https://www4.stat.ncsu.edu/~boos/var.select/diabetes.html\n",
      "\n",
      "For more information see:\n",
      "Bradley Efron, Trevor Hastie, Iain Johnstone and Robert Tibshirani (2004) \"Least Angle Regression,\" Annals of Statistics (with discussion), 407-499.\n",
      "(https://web.stanford.edu/~hastie/Papers/LARS/LeastAngle_2002.pdf)\n"
     ]
    }
   ],
   "source": [
    "dataset = datasets.load_diabetes()\n",
    "print(dataset.DESCR)"
   ],
   "metadata": {
    "collapsed": false,
    "pycharm": {
     "name": "#%%\n"
    }
   }
  },
  {
   "cell_type": "code",
   "execution_count": 34,
   "outputs": [
    {
     "data": {
      "text/plain": "        age       sex       bmi        bp        s1        s2        s3  \\\n0  0.038076  0.050680  0.061696  0.021872 -0.044223 -0.034821 -0.043401   \n1 -0.001882 -0.044642 -0.051474 -0.026328 -0.008449 -0.019163  0.074412   \n2  0.085299  0.050680  0.044451 -0.005671 -0.045599 -0.034194 -0.032356   \n3 -0.089063 -0.044642 -0.011595 -0.036656  0.012191  0.024991 -0.036038   \n4  0.005383 -0.044642 -0.036385  0.021872  0.003935  0.015596  0.008142   \n\n         s4        s5        s6  target  \n0 -0.002592  0.019908 -0.017646   151.0  \n1 -0.039493 -0.068330 -0.092204    75.0  \n2 -0.002592  0.002864 -0.025930   141.0  \n3  0.034309  0.022692 -0.009362   206.0  \n4 -0.002592 -0.031991 -0.046641   135.0  ",
      "text/html": "<div>\n<style scoped>\n    .dataframe tbody tr th:only-of-type {\n        vertical-align: middle;\n    }\n\n    .dataframe tbody tr th {\n        vertical-align: top;\n    }\n\n    .dataframe thead th {\n        text-align: right;\n    }\n</style>\n<table border=\"1\" class=\"dataframe\">\n  <thead>\n    <tr style=\"text-align: right;\">\n      <th></th>\n      <th>age</th>\n      <th>sex</th>\n      <th>bmi</th>\n      <th>bp</th>\n      <th>s1</th>\n      <th>s2</th>\n      <th>s3</th>\n      <th>s4</th>\n      <th>s5</th>\n      <th>s6</th>\n      <th>target</th>\n    </tr>\n  </thead>\n  <tbody>\n    <tr>\n      <th>0</th>\n      <td>0.038076</td>\n      <td>0.050680</td>\n      <td>0.061696</td>\n      <td>0.021872</td>\n      <td>-0.044223</td>\n      <td>-0.034821</td>\n      <td>-0.043401</td>\n      <td>-0.002592</td>\n      <td>0.019908</td>\n      <td>-0.017646</td>\n      <td>151.0</td>\n    </tr>\n    <tr>\n      <th>1</th>\n      <td>-0.001882</td>\n      <td>-0.044642</td>\n      <td>-0.051474</td>\n      <td>-0.026328</td>\n      <td>-0.008449</td>\n      <td>-0.019163</td>\n      <td>0.074412</td>\n      <td>-0.039493</td>\n      <td>-0.068330</td>\n      <td>-0.092204</td>\n      <td>75.0</td>\n    </tr>\n    <tr>\n      <th>2</th>\n      <td>0.085299</td>\n      <td>0.050680</td>\n      <td>0.044451</td>\n      <td>-0.005671</td>\n      <td>-0.045599</td>\n      <td>-0.034194</td>\n      <td>-0.032356</td>\n      <td>-0.002592</td>\n      <td>0.002864</td>\n      <td>-0.025930</td>\n      <td>141.0</td>\n    </tr>\n    <tr>\n      <th>3</th>\n      <td>-0.089063</td>\n      <td>-0.044642</td>\n      <td>-0.011595</td>\n      <td>-0.036656</td>\n      <td>0.012191</td>\n      <td>0.024991</td>\n      <td>-0.036038</td>\n      <td>0.034309</td>\n      <td>0.022692</td>\n      <td>-0.009362</td>\n      <td>206.0</td>\n    </tr>\n    <tr>\n      <th>4</th>\n      <td>0.005383</td>\n      <td>-0.044642</td>\n      <td>-0.036385</td>\n      <td>0.021872</td>\n      <td>0.003935</td>\n      <td>0.015596</td>\n      <td>0.008142</td>\n      <td>-0.002592</td>\n      <td>-0.031991</td>\n      <td>-0.046641</td>\n      <td>135.0</td>\n    </tr>\n  </tbody>\n</table>\n</div>"
     },
     "execution_count": 34,
     "metadata": {},
     "output_type": "execute_result"
    }
   ],
   "source": [
    "df = pd.DataFrame(dataset.data, columns=dataset.feature_names)\n",
    "df['target'] = dataset.target\n",
    "df.head()"
   ],
   "metadata": {
    "collapsed": false,
    "pycharm": {
     "name": "#%%\n"
    }
   }
  },
  {
   "cell_type": "code",
   "execution_count": 35,
   "outputs": [
    {
     "data": {
      "text/plain": "(442, 11)"
     },
     "execution_count": 35,
     "metadata": {},
     "output_type": "execute_result"
    }
   ],
   "source": [
    "df.shape"
   ],
   "metadata": {
    "collapsed": false,
    "pycharm": {
     "name": "#%%\n"
    }
   }
  },
  {
   "cell_type": "code",
   "execution_count": 36,
   "outputs": [],
   "source": [
    "X = df.drop('target', axis=1)\n",
    "y = df['target']\n",
    "X_train, X_test, y_train, y_test = train_test_split(X, y, test_size=0.30, random_state=42)"
   ],
   "metadata": {
    "collapsed": false,
    "pycharm": {
     "name": "#%%\n"
    }
   }
  },
  {
   "cell_type": "code",
   "execution_count": 37,
   "outputs": [],
   "source": [
    "# modelos por defecto de regressión\n",
    "model_lir = LinearRegression()\n",
    "model_las = Lasso()\n",
    "model_rid = Ridge()\n",
    "model_net = ElasticNet()\n",
    "model_knn = KNeighborsRegressor()\n",
    "model_svr = SVR()\n",
    "model_cart = DecisionTreeRegressor()\n",
    "model_rf = RandomForestRegressor()\n",
    "model_ada = AdaBoostRegressor()\n",
    "model_gbm = GradientBoostingRegressor()"
   ],
   "metadata": {
    "collapsed": false,
    "pycharm": {
     "name": "#%%\n"
    }
   }
  },
  {
   "cell_type": "code",
   "execution_count": 38,
   "outputs": [],
   "source": [
    "# parámetros de cada modelo\n",
    "# estos parámetros y valores podríamos recogerlos de un csv o una base de datos\n",
    "model_lir_params = {\n",
    "    'regressor__fit_intercept': [False, True],\n",
    "    'regressor': [model_lir]\n",
    "}\n",
    "\n",
    "model_las_params = {\n",
    "    'regressor__alpha': [0.1, 0.5, 1, 2],\n",
    "    'regressor__max_iter': [1000, 10000],\n",
    "    'regressor': [model_las]\n",
    "}\n",
    "\n",
    "model_rid_params = {\n",
    "    'regressor__alpha': [0.1, 0.5, 1, 2],\n",
    "    'regressor__max_iter': [1000, 10000],\n",
    "    'regressor': [model_rid]\n",
    "}\n",
    "\n",
    "model_net_params = {\n",
    "    'regressor__alpha': [0.1, 0.5, 1, 2],\n",
    "    'regressor__max_iter': [1000, 10000],\n",
    "    'regressor__l1_ratio': [0.1, 0.4, 0.5, 0.6, 1],\n",
    "    'regressor': [model_net]\n",
    "}\n",
    "\n",
    "model_knn_params = {\n",
    "    'regressor__n_neighbors': [2, 5, 10, 25, 50],\n",
    "    'regressor__metric': ['manhattan', 'chebyshev', 'minkowski'],\n",
    "    'regressor__weights': ['uniform', 'distance'],\n",
    "    'regressor': [model_knn]\n",
    "}\n",
    "\n",
    "model_svr_params = {\n",
    "    'regressor__C': [10**-2, 10**-1, 10**0, 10**1, 10**2],\n",
    "    'regressor__kernel': ['poly', 'rbf', 'linear'],\n",
    "    'regressor__epsilon': [0.1, 0.2, 0.5, 1],\n",
    "    'regressor': [model_svr]\n",
    "}\n",
    "\n",
    "model_cart_params = {\n",
    "    'regressor__criterion': ['squared_error', 'friedman_mse', 'absolute_error', 'poisson'],\n",
    "    'regressor__max_depth': [5, 10, 15, 25, 50],\n",
    "    'regressor__min_samples_split': [2, 5, 10],\n",
    "    'regressor': [model_cart]\n",
    "}\n",
    "\n",
    "model_rf_params = {\n",
    "    'regressor__criterion': ['squared_error', 'friedman_mse', 'absolute_error', 'poisson'],\n",
    "    'regressor__n_estimators': [10, 50, 100, 250],\n",
    "    'regressor__max_depth': [5, 10, 15, 25, 50],\n",
    "    'regressor__min_samples_split': [2, 5, 10],\n",
    "    'regressor': [model_rf]\n",
    "}\n",
    "\n",
    "model_ada_params = {\n",
    "    'regressor__n_estimators': [10, 50, 100, 250],\n",
    "    'regressor': [model_ada]\n",
    "}\n",
    "\n",
    "model_gbm_params = {\n",
    "    'regressor__n_estimators': [10, 50, 100, 250],\n",
    "    'regressor__max_depth': [5, 10, 15, 25, 50],\n",
    "    'regressor__min_samples_split': [2, 5, 10],\n",
    "    'regressor': [model_gbm]\n",
    "}\n",
    "\n",
    "params = [\n",
    "    model_lir_params,\n",
    "    model_las_params,\n",
    "    model_rid_params,\n",
    "    model_net_params,\n",
    "    model_knn_params,\n",
    "    model_svr_params,\n",
    "    model_cart_params,\n",
    "    model_rf_params,\n",
    "    model_ada_params,\n",
    "    model_gbm_params\n",
    "]"
   ],
   "metadata": {
    "collapsed": false,
    "pycharm": {
     "name": "#%%\n"
    }
   }
  },
  {
   "cell_type": "code",
   "execution_count": 39,
   "outputs": [],
   "source": [
    "pipeline = Pipeline([\n",
    "    ('regressor', model_lir)\n",
    "])"
   ],
   "metadata": {
    "collapsed": false,
    "pycharm": {
     "name": "#%%\n"
    }
   }
  },
  {
   "cell_type": "markdown",
   "source": [
    "## GridSearchCV"
   ],
   "metadata": {
    "collapsed": false,
    "pycharm": {
     "name": "#%% md\n"
    }
   }
  },
  {
   "cell_type": "code",
   "execution_count": 40,
   "outputs": [
    {
     "name": "stdout",
     "output_type": "stream",
     "text": [
      "Wall time: 1min 1s\n"
     ]
    }
   ],
   "source": [
    "%%time\n",
    "scorer_mae = make_scorer(mean_absolute_error, greater_is_better=False)\n",
    "grid_model = GridSearchCV(pipeline, params, cv=3, n_jobs=4, scoring='r2').fit(X_train, y_train)\n",
    "\n",
    "# scorers\n",
    "# grid_model = GridSearchCV(pipeline, params, cv=3, n_jobs=4, scoring=scorer_mae).fit(X_train, y_train)\n",
    "# grid_model = GridSearchCV(pipeline, params, cv=3, n_jobs=4, refit=scorer_mae, scoring=['r2', scorer_mae]).fit(X_train, y_train)"
   ],
   "metadata": {
    "collapsed": false,
    "pycharm": {
     "name": "#%%\n"
    }
   }
  },
  {
   "cell_type": "code",
   "execution_count": 41,
   "outputs": [
    {
     "data": {
      "text/plain": "{'regressor': Ridge(alpha=0.1, max_iter=1000),\n 'regressor__alpha': 0.1,\n 'regressor__max_iter': 1000}"
     },
     "execution_count": 41,
     "metadata": {},
     "output_type": "execute_result"
    }
   ],
   "source": [
    "grid_model.best_params_"
   ],
   "metadata": {
    "collapsed": false,
    "pycharm": {
     "name": "#%%\n"
    }
   }
  },
  {
   "cell_type": "code",
   "execution_count": 42,
   "outputs": [
    {
     "data": {
      "text/plain": "0.46558926007525997"
     },
     "execution_count": 42,
     "metadata": {},
     "output_type": "execute_result"
    }
   ],
   "source": [
    "grid_model.best_score_"
   ],
   "metadata": {
    "collapsed": false,
    "pycharm": {
     "name": "#%%\n"
    }
   }
  },
  {
   "cell_type": "code",
   "execution_count": 43,
   "outputs": [
    {
     "name": "stdout",
     "output_type": "stream",
     "text": [
      "Test R2: 0.480319765084846\n",
      "Test MAE: 41.85099192545727\n",
      "Test MSE: 2805.393845841173\n",
      "Test RMSE: 52.96596875203146\n"
     ]
    }
   ],
   "source": [
    "y_pred = grid_model.predict(X_test)\n",
    "print(\"Test R2:\", r2_score(y_test, y_pred))\n",
    "print(\"Test MAE:\", mean_absolute_error(y_test, y_pred))\n",
    "print(\"Test MSE:\", mean_squared_error(y_test, y_pred))\n",
    "print(\"Test RMSE:\", mean_squared_error(y_test, y_pred, squared=False))"
   ],
   "metadata": {
    "collapsed": false,
    "pycharm": {
     "name": "#%%\n"
    }
   }
  },
  {
   "cell_type": "markdown",
   "source": [
    "## RandomizedSearchCV"
   ],
   "metadata": {
    "collapsed": false,
    "pycharm": {
     "name": "#%% md\n"
    }
   }
  },
  {
   "cell_type": "code",
   "execution_count": 44,
   "outputs": [
    {
     "name": "stdout",
     "output_type": "stream",
     "text": [
      "Wall time: 636 ms\n"
     ]
    }
   ],
   "source": [
    "%%time\n",
    "grid_model = RandomizedSearchCV(pipeline, params, cv=3, n_jobs=4, scoring='r2').fit(X_train, y_train)"
   ],
   "metadata": {
    "collapsed": false,
    "pycharm": {
     "name": "#%%\n"
    }
   }
  },
  {
   "cell_type": "code",
   "execution_count": 45,
   "outputs": [
    {
     "data": {
      "text/plain": "{'regressor__n_estimators': 50,\n 'regressor__min_samples_split': 5,\n 'regressor__max_depth': 15,\n 'regressor__criterion': 'friedman_mse',\n 'regressor': RandomForestRegressor(criterion='friedman_mse', max_depth=15,\n                       min_samples_split=5, n_estimators=50)}"
     },
     "execution_count": 45,
     "metadata": {},
     "output_type": "execute_result"
    }
   ],
   "source": [
    "grid_model.best_params_"
   ],
   "metadata": {
    "collapsed": false,
    "pycharm": {
     "name": "#%%\n"
    }
   }
  },
  {
   "cell_type": "code",
   "execution_count": 46,
   "outputs": [
    {
     "data": {
      "text/plain": "0.4043861751000876"
     },
     "execution_count": 46,
     "metadata": {},
     "output_type": "execute_result"
    }
   ],
   "source": [
    "grid_model.best_score_"
   ],
   "metadata": {
    "collapsed": false,
    "pycharm": {
     "name": "#%%\n"
    }
   }
  },
  {
   "cell_type": "code",
   "execution_count": 47,
   "outputs": [
    {
     "name": "stdout",
     "output_type": "stream",
     "text": [
      "Test R2: 0.5029498760062272\n",
      "Test MAE: 41.39870697306036\n",
      "Test MSE: 2683.2295424019417\n",
      "Test RMSE: 51.79989905783545\n"
     ]
    }
   ],
   "source": [
    "y_pred = grid_model.predict(X_test)\n",
    "print(\"Test R2:\", r2_score(y_test, y_pred))\n",
    "print(\"Test MAE:\", mean_absolute_error(y_test, y_pred))\n",
    "print(\"Test MSE:\", mean_squared_error(y_test, y_pred))\n",
    "print(\"Test RMSE:\", mean_squared_error(y_test, y_pred, squared=False))"
   ],
   "metadata": {
    "collapsed": false,
    "pycharm": {
     "name": "#%%\n"
    }
   }
  },
  {
   "cell_type": "markdown",
   "source": [
    "# Clasificación"
   ],
   "metadata": {
    "collapsed": false,
    "pycharm": {
     "name": "#%% md\n"
    }
   }
  },
  {
   "cell_type": "code",
   "execution_count": 48,
   "outputs": [
    {
     "data": {
      "text/plain": "   bill_length_mm  bill_depth_mm  flipper_length_mm  body_mass_g  \\\n0            39.1           18.7              181.0       3750.0   \n1            39.5           17.4              186.0       3800.0   \n2            40.3           18.0              195.0       3250.0   \n4            36.7           19.3              193.0       3450.0   \n5            39.3           20.6              190.0       3650.0   \n\n   island_Dream  island_Torgersen  sex_Male  \n0             0                 1         1  \n1             0                 1         0  \n2             0                 1         0  \n4             0                 1         0  \n5             0                 1         1  ",
      "text/html": "<div>\n<style scoped>\n    .dataframe tbody tr th:only-of-type {\n        vertical-align: middle;\n    }\n\n    .dataframe tbody tr th {\n        vertical-align: top;\n    }\n\n    .dataframe thead th {\n        text-align: right;\n    }\n</style>\n<table border=\"1\" class=\"dataframe\">\n  <thead>\n    <tr style=\"text-align: right;\">\n      <th></th>\n      <th>bill_length_mm</th>\n      <th>bill_depth_mm</th>\n      <th>flipper_length_mm</th>\n      <th>body_mass_g</th>\n      <th>island_Dream</th>\n      <th>island_Torgersen</th>\n      <th>sex_Male</th>\n    </tr>\n  </thead>\n  <tbody>\n    <tr>\n      <th>0</th>\n      <td>39.1</td>\n      <td>18.7</td>\n      <td>181.0</td>\n      <td>3750.0</td>\n      <td>0</td>\n      <td>1</td>\n      <td>1</td>\n    </tr>\n    <tr>\n      <th>1</th>\n      <td>39.5</td>\n      <td>17.4</td>\n      <td>186.0</td>\n      <td>3800.0</td>\n      <td>0</td>\n      <td>1</td>\n      <td>0</td>\n    </tr>\n    <tr>\n      <th>2</th>\n      <td>40.3</td>\n      <td>18.0</td>\n      <td>195.0</td>\n      <td>3250.0</td>\n      <td>0</td>\n      <td>1</td>\n      <td>0</td>\n    </tr>\n    <tr>\n      <th>4</th>\n      <td>36.7</td>\n      <td>19.3</td>\n      <td>193.0</td>\n      <td>3450.0</td>\n      <td>0</td>\n      <td>1</td>\n      <td>0</td>\n    </tr>\n    <tr>\n      <th>5</th>\n      <td>39.3</td>\n      <td>20.6</td>\n      <td>190.0</td>\n      <td>3650.0</td>\n      <td>0</td>\n      <td>1</td>\n      <td>1</td>\n    </tr>\n  </tbody>\n</table>\n</div>"
     },
     "execution_count": 48,
     "metadata": {},
     "output_type": "execute_result"
    }
   ],
   "source": [
    "df = sns.load_dataset('penguins')\n",
    "df.dropna(inplace=True)\n",
    "X = df.drop('species', axis=1)\n",
    "y = df['species']\n",
    "\n",
    "X = pd.get_dummies(data=X, drop_first=True)\n",
    "X.head()"
   ],
   "metadata": {
    "collapsed": false,
    "pycharm": {
     "name": "#%%\n"
    }
   }
  },
  {
   "cell_type": "code",
   "execution_count": 49,
   "outputs": [],
   "source": [
    "X_train, X_test, y_train, y_test = train_test_split(X, y, test_size=0.30, random_state=42)"
   ],
   "metadata": {
    "collapsed": false,
    "pycharm": {
     "name": "#%%\n"
    }
   }
  },
  {
   "cell_type": "code",
   "execution_count": 50,
   "outputs": [],
   "source": [
    "# modelos sin parametros\n",
    "model_lor = LogisticRegression()\n",
    "model_knn = KNeighborsClassifier()\n",
    "model_svc = SVC()\n",
    "model_cart = DecisionTreeClassifier()\n",
    "model_rf = RandomForestClassifier()\n",
    "model_ada = AdaBoostClassifier()\n",
    "model_gbm = GradientBoostingClassifier()"
   ],
   "metadata": {
    "collapsed": false,
    "pycharm": {
     "name": "#%%\n"
    }
   }
  },
  {
   "cell_type": "code",
   "execution_count": 51,
   "outputs": [],
   "source": [
    "model_lor_params = {\n",
    "    'classifier__C': [10**-2, 10**-1, 10**0, 10**1, 10**2],\n",
    "    'classifier__penalty': ['l1', 'l2', 'elasticnet'],\n",
    "    'classifier__class_weight': [None, 'balanced', {0:1, 1:5, 2:1}],\n",
    "    'classifier': [model_lor]\n",
    "}\n",
    "\n",
    "model_knn_params = {\n",
    "    'classifier__n_neighbors': [2, 5, 10, 25, 50],\n",
    "    'classifier__metric': ['manhattan', 'chebyshev', 'minkowski'],\n",
    "    'classifier__weights': ['uniform', 'distance'],\n",
    "    'classifier': [model_knn]\n",
    "}\n",
    "\n",
    "model_svc_params = {\n",
    "    'classifier__C': [10**-2, 10**-1, 10**0, 10**1, 10**2],\n",
    "    'classifier__class_weight': [None, 'balanced', {0:1, 1:5, 2:1}],\n",
    "    'classifier': [model_svc]\n",
    "}\n",
    "\n",
    "model_cart_params = {\n",
    "    'classifier__criterion': ['gini', 'entropy'],\n",
    "    'classifier__max_depth': [5, 10, 15, 25, 50],\n",
    "    'classifier__min_samples_split': [2, 5, 10],\n",
    "    'classifier': [model_cart]\n",
    "}\n",
    "\n",
    "model_rf_params = {\n",
    "    'classifier__criterion': ['gini', 'entropy'],\n",
    "    'classifier__n_estimators': [10, 50, 100, 250],\n",
    "    'classifier__max_depth': [5, 10, 15, 25, 50],\n",
    "    'classifier': [model_rf]\n",
    "}\n",
    "\n",
    "model_ada_params = {\n",
    "    'classifier__n_estimators': [10, 50, 100, 250],\n",
    "    'classifier': [model_ada]\n",
    "}\n",
    "\n",
    "model_gbm_params = {\n",
    "    'classifier__n_estimators': [10, 50, 100, 250],\n",
    "    'classifier__max_depth': [5, 10, 15, 25, 50],\n",
    "    'classifier__min_samples_split': [2, 5, 10],\n",
    "    'classifier': [model_gbm]\n",
    "}\n",
    "\n",
    "pipeline = Pipeline([\n",
    "    ('classifier', model_lor)\n",
    "])\n",
    "\n",
    "params = [\n",
    "    model_lor_params,\n",
    "    model_knn_params,\n",
    "    model_svc_params,\n",
    "    model_cart_params,\n",
    "    model_rf_params,\n",
    "    model_ada_params,\n",
    "    model_gbm_params\n",
    "]"
   ],
   "metadata": {
    "collapsed": false,
    "pycharm": {
     "name": "#%%\n"
    }
   }
  },
  {
   "cell_type": "markdown",
   "source": [
    "## GridSearchCV"
   ],
   "metadata": {
    "collapsed": false,
    "pycharm": {
     "name": "#%% md\n"
    }
   }
  },
  {
   "cell_type": "code",
   "execution_count": 52,
   "outputs": [
    {
     "name": "stderr",
     "output_type": "stream",
     "text": [
      "C:\\Users\\alanj\\anaconda3\\lib\\site-packages\\sklearn\\model_selection\\_validation.py:372: FitFailedWarning: \n",
      "30 fits failed out of a total of 582.\n",
      "The score on these train-test partitions for these parameters will be set to nan.\n",
      "If these failures are not expected, you can try to debug them by setting error_score='raise'.\n",
      "\n",
      "Below are more details about the failures:\n",
      "--------------------------------------------------------------------------------\n",
      "15 fits failed with the following error:\n",
      "Traceback (most recent call last):\n",
      "  File \"C:\\Users\\alanj\\anaconda3\\lib\\site-packages\\numpy\\core\\fromnumeric.py\", line 58, in _wrapfunc\n",
      "    return bound(*args, **kwds)\n",
      "TypeError: '<' not supported between instances of 'str' and 'int'\n",
      "\n",
      "During handling of the above exception, another exception occurred:\n",
      "\n",
      "Traceback (most recent call last):\n",
      "  File \"C:\\Users\\alanj\\anaconda3\\lib\\site-packages\\sklearn\\model_selection\\_validation.py\", line 680, in _fit_and_score\n",
      "    estimator.fit(X_train, y_train, **fit_params)\n",
      "  File \"C:\\Users\\alanj\\anaconda3\\lib\\site-packages\\sklearn\\pipeline.py\", line 394, in fit\n",
      "    self._final_estimator.fit(Xt, y, **fit_params_last_step)\n",
      "  File \"C:\\Users\\alanj\\anaconda3\\lib\\site-packages\\sklearn\\linear_model\\_logistic.py\", line 1589, in fit\n",
      "    fold_coefs_ = Parallel(\n",
      "  File \"C:\\Users\\alanj\\anaconda3\\lib\\site-packages\\joblib\\parallel.py\", line 1043, in __call__\n",
      "    if self.dispatch_one_batch(iterator):\n",
      "  File \"C:\\Users\\alanj\\anaconda3\\lib\\site-packages\\joblib\\parallel.py\", line 861, in dispatch_one_batch\n",
      "    self._dispatch(tasks)\n",
      "  File \"C:\\Users\\alanj\\anaconda3\\lib\\site-packages\\joblib\\parallel.py\", line 779, in _dispatch\n",
      "    job = self._backend.apply_async(batch, callback=cb)\n",
      "  File \"C:\\Users\\alanj\\anaconda3\\lib\\site-packages\\joblib\\_parallel_backends.py\", line 208, in apply_async\n",
      "    result = ImmediateResult(func)\n",
      "  File \"C:\\Users\\alanj\\anaconda3\\lib\\site-packages\\joblib\\_parallel_backends.py\", line 572, in __init__\n",
      "    self.results = batch()\n",
      "  File \"C:\\Users\\alanj\\anaconda3\\lib\\site-packages\\joblib\\parallel.py\", line 262, in __call__\n",
      "    return [func(*args, **kwargs)\n",
      "  File \"C:\\Users\\alanj\\anaconda3\\lib\\site-packages\\joblib\\parallel.py\", line 262, in <listcomp>\n",
      "    return [func(*args, **kwargs)\n",
      "  File \"C:\\Users\\alanj\\anaconda3\\lib\\site-packages\\sklearn\\utils\\fixes.py\", line 216, in __call__\n",
      "    return self.function(*args, **kwargs)\n",
      "  File \"C:\\Users\\alanj\\anaconda3\\lib\\site-packages\\sklearn\\linear_model\\_logistic.py\", line 692, in _logistic_regression_path\n",
      "    class_weight_ = compute_class_weight(class_weight, classes=classes, y=y)\n",
      "  File \"C:\\Users\\alanj\\anaconda3\\lib\\site-packages\\sklearn\\utils\\class_weight.py\", line 62, in compute_class_weight\n",
      "    i = np.searchsorted(classes, c)\n",
      "  File \"<__array_function__ internals>\", line 5, in searchsorted\n",
      "  File \"C:\\Users\\alanj\\anaconda3\\lib\\site-packages\\numpy\\core\\fromnumeric.py\", line 1348, in searchsorted\n",
      "    return _wrapfunc(a, 'searchsorted', v, side=side, sorter=sorter)\n",
      "  File \"C:\\Users\\alanj\\anaconda3\\lib\\site-packages\\numpy\\core\\fromnumeric.py\", line 67, in _wrapfunc\n",
      "    return _wrapit(obj, method, *args, **kwds)\n",
      "  File \"C:\\Users\\alanj\\anaconda3\\lib\\site-packages\\numpy\\core\\fromnumeric.py\", line 44, in _wrapit\n",
      "    result = getattr(asarray(obj), method)(*args, **kwds)\n",
      "TypeError: '<' not supported between instances of 'str' and 'int'\n",
      "\n",
      "--------------------------------------------------------------------------------\n",
      "15 fits failed with the following error:\n",
      "Traceback (most recent call last):\n",
      "  File \"C:\\Users\\alanj\\anaconda3\\lib\\site-packages\\numpy\\core\\fromnumeric.py\", line 58, in _wrapfunc\n",
      "    return bound(*args, **kwds)\n",
      "TypeError: '<' not supported between instances of 'str' and 'int'\n",
      "\n",
      "During handling of the above exception, another exception occurred:\n",
      "\n",
      "Traceback (most recent call last):\n",
      "  File \"C:\\Users\\alanj\\anaconda3\\lib\\site-packages\\sklearn\\model_selection\\_validation.py\", line 680, in _fit_and_score\n",
      "    estimator.fit(X_train, y_train, **fit_params)\n",
      "  File \"C:\\Users\\alanj\\anaconda3\\lib\\site-packages\\sklearn\\pipeline.py\", line 394, in fit\n",
      "    self._final_estimator.fit(Xt, y, **fit_params_last_step)\n",
      "  File \"C:\\Users\\alanj\\anaconda3\\lib\\site-packages\\sklearn\\svm\\_base.py\", line 199, in fit\n",
      "    y = self._validate_targets(y)\n",
      "  File \"C:\\Users\\alanj\\anaconda3\\lib\\site-packages\\sklearn\\svm\\_base.py\", line 718, in _validate_targets\n",
      "    self.class_weight_ = compute_class_weight(self.class_weight, classes=cls, y=y_)\n",
      "  File \"C:\\Users\\alanj\\anaconda3\\lib\\site-packages\\sklearn\\utils\\class_weight.py\", line 62, in compute_class_weight\n",
      "    i = np.searchsorted(classes, c)\n",
      "  File \"<__array_function__ internals>\", line 5, in searchsorted\n",
      "  File \"C:\\Users\\alanj\\anaconda3\\lib\\site-packages\\numpy\\core\\fromnumeric.py\", line 1348, in searchsorted\n",
      "    return _wrapfunc(a, 'searchsorted', v, side=side, sorter=sorter)\n",
      "  File \"C:\\Users\\alanj\\anaconda3\\lib\\site-packages\\numpy\\core\\fromnumeric.py\", line 67, in _wrapfunc\n",
      "    return _wrapit(obj, method, *args, **kwds)\n",
      "  File \"C:\\Users\\alanj\\anaconda3\\lib\\site-packages\\numpy\\core\\fromnumeric.py\", line 44, in _wrapit\n",
      "    result = getattr(asarray(obj), method)(*args, **kwds)\n",
      "TypeError: '<' not supported between instances of 'str' and 'int'\n",
      "\n",
      "  warnings.warn(some_fits_failed_message, FitFailedWarning)\n",
      "C:\\Users\\alanj\\anaconda3\\lib\\site-packages\\sklearn\\model_selection\\_search.py:969: UserWarning: One or more of the test scores are non-finite: [nan nan nan nan nan nan nan nan nan nan nan nan nan nan nan nan nan nan\n",
      " nan nan nan nan nan nan nan nan nan nan nan nan nan nan nan nan nan nan\n",
      " nan nan nan nan nan nan nan nan nan nan nan nan nan nan nan nan nan nan\n",
      " nan nan nan nan nan nan nan nan nan nan nan nan nan nan nan nan nan nan\n",
      " nan nan nan nan nan nan nan nan nan nan nan nan nan nan nan nan nan nan\n",
      " nan nan nan nan nan nan nan nan nan nan nan nan nan nan nan nan nan nan\n",
      " nan nan nan nan nan nan nan nan nan nan nan nan nan nan nan nan nan nan\n",
      " nan nan nan nan nan nan nan nan nan nan nan nan nan nan nan nan nan nan\n",
      " nan nan nan nan nan nan nan nan nan nan nan nan nan nan nan nan nan nan\n",
      " nan nan nan nan nan nan nan nan nan nan nan nan nan nan nan nan nan nan\n",
      " nan nan nan nan nan nan nan nan nan nan nan nan nan nan]\n",
      "  warnings.warn(\n",
      "C:\\Users\\alanj\\anaconda3\\lib\\site-packages\\sklearn\\linear_model\\_logistic.py:814: ConvergenceWarning: lbfgs failed to converge (status=1):\n",
      "STOP: TOTAL NO. of ITERATIONS REACHED LIMIT.\n",
      "\n",
      "Increase the number of iterations (max_iter) or scale the data as shown in:\n",
      "    https://scikit-learn.org/stable/modules/preprocessing.html\n",
      "Please also refer to the documentation for alternative solver options:\n",
      "    https://scikit-learn.org/stable/modules/linear_model.html#logistic-regression\n",
      "  n_iter_i = _check_optimize_result(\n"
     ]
    }
   ],
   "source": [
    "%%time\n",
    "grid_model = GridSearchCV(pipeline, params, cv=3, n_jobs=4, scoring='roc_auc').fit(X_train, y_train)"
   ],
   "metadata": {
    "collapsed": false,
    "pycharm": {
     "name": "#%%\n"
    }
   }
  },
  {
   "cell_type": "code",
   "execution_count": 53,
   "outputs": [
    {
     "data": {
      "text/plain": "{'classifier': LogisticRegression(C=0.01),\n 'classifier__C': 0.01,\n 'classifier__class_weight': None}"
     },
     "execution_count": 53,
     "metadata": {},
     "output_type": "execute_result"
    }
   ],
   "source": [
    "grid_model.best_params_"
   ],
   "metadata": {
    "collapsed": false,
    "pycharm": {
     "name": "#%%\n"
    }
   }
  },
  {
   "cell_type": "code",
   "execution_count": 54,
   "outputs": [
    {
     "data": {
      "text/plain": "nan"
     },
     "execution_count": 54,
     "metadata": {},
     "output_type": "execute_result"
    }
   ],
   "source": [
    "grid_model.best_score_"
   ],
   "metadata": {
    "collapsed": false,
    "pycharm": {
     "name": "#%%\n"
    }
   }
  },
  {
   "cell_type": "code",
   "execution_count": 55,
   "outputs": [
    {
     "name": "stdout",
     "output_type": "stream",
     "text": [
      "accuracy:  0.97\n",
      "precision:  0.97\n",
      "recall (Sensitivity):  0.97\n",
      "F1-score:  0.97\n",
      "AUC:  0.9992170479302832\n"
     ]
    }
   ],
   "source": [
    "y_pred = grid_model.predict(X_test)\n",
    "print(\"accuracy: \", accuracy_score(y_test, y_pred))\n",
    "print(\"precision: \", precision_score(y_test, y_pred, average='micro'))\n",
    "print(\"recall (Sensitivity): \", recall_score(y_test, y_pred, average='micro'))\n",
    "print(\"F1-score: \", f1_score(y_test, y_pred, average='micro'))\n",
    "print(\"AUC: \", roc_auc_score(y_test, grid_model.predict_proba(X_test), multi_class='ovo'))"
   ],
   "metadata": {
    "collapsed": false,
    "pycharm": {
     "name": "#%%\n"
    }
   }
  },
  {
   "cell_type": "markdown",
   "source": [
    "## RandomizedSearchCV"
   ],
   "metadata": {
    "collapsed": false,
    "pycharm": {
     "name": "#%% md\n"
    }
   }
  },
  {
   "cell_type": "code",
   "execution_count": 56,
   "outputs": [
    {
     "name": "stdout",
     "output_type": "stream",
     "text": [
      "Wall time: 849 ms\n"
     ]
    },
    {
     "name": "stderr",
     "output_type": "stream",
     "text": [
      "C:\\Users\\alanj\\anaconda3\\lib\\site-packages\\sklearn\\model_selection\\_search.py:969: UserWarning: One or more of the test scores are non-finite: [nan nan nan nan nan nan nan nan nan nan]\n",
      "  warnings.warn(\n"
     ]
    }
   ],
   "source": [
    "%%time\n",
    "grid_model = RandomizedSearchCV(pipeline, params, cv=3, n_jobs=4, scoring='f1').fit(X_train, y_train)"
   ],
   "metadata": {
    "collapsed": false,
    "pycharm": {
     "name": "#%%\n"
    }
   }
  },
  {
   "cell_type": "code",
   "execution_count": 57,
   "outputs": [
    {
     "data": {
      "text/plain": "{'classifier__class_weight': None,\n 'classifier__C': 0.01,\n 'classifier': SVC(C=0.01)}"
     },
     "execution_count": 57,
     "metadata": {},
     "output_type": "execute_result"
    }
   ],
   "source": [
    "grid_model.best_params_"
   ],
   "metadata": {
    "collapsed": false,
    "pycharm": {
     "name": "#%%\n"
    }
   }
  },
  {
   "cell_type": "code",
   "execution_count": 58,
   "outputs": [
    {
     "data": {
      "text/plain": "nan"
     },
     "execution_count": 58,
     "metadata": {},
     "output_type": "execute_result"
    }
   ],
   "source": [
    "grid_model.best_score_"
   ],
   "metadata": {
    "collapsed": false,
    "pycharm": {
     "name": "#%%\n"
    }
   }
  },
  {
   "cell_type": "code",
   "execution_count": 65,
   "outputs": [
    {
     "name": "stdout",
     "output_type": "stream",
     "text": [
      "accuracy:  0.48\n",
      "precision:  0.48\n",
      "recall (Sensitivity):  0.48\n",
      "F1-score:  0.48\n"
     ]
    }
   ],
   "source": [
    "y_pred = grid_model.predict(X_test)\n",
    "print(\"accuracy: \", accuracy_score(y_test, y_pred))\n",
    "print(\"precision: \", precision_score(y_test, y_pred, average='micro'))\n",
    "print(\"recall (Sensitivity): \", recall_score(y_test, y_pred, average='micro'))\n",
    "print(\"F1-score: \", f1_score(y_test, y_pred, average='micro'))"
   ],
   "metadata": {
    "collapsed": false,
    "pycharm": {
     "name": "#%%\n"
    }
   }
  },
  {
   "cell_type": "markdown",
   "source": [
    "# Otras opciones\n",
    "\n",
    "Librerías especializadas en la búsqueda de parámetros:\n",
    "\n",
    "https://sklearn-genetic-opt.readthedocs.io/en/stable/notebooks/sklearn_comparison.html"
   ],
   "metadata": {
    "collapsed": false,
    "pycharm": {
     "name": "#%% md\n"
    }
   }
  }
 ],
 "metadata": {
  "kernelspec": {
   "display_name": "Python 3",
   "language": "python",
   "name": "python3"
  },
  "language_info": {
   "codemirror_mode": {
    "name": "ipython",
    "version": 2
   },
   "file_extension": ".py",
   "mimetype": "text/x-python",
   "name": "python",
   "nbconvert_exporter": "python",
   "pygments_lexer": "ipython2",
   "version": "2.7.6"
  }
 },
 "nbformat": 4,
 "nbformat_minor": 0
}