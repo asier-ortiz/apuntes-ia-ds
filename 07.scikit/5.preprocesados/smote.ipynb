{
 "cells": [
  {
   "cell_type": "markdown",
   "metadata": {},
   "source": [
    "# imblearn para desbalanceo de clases: SMOTE\n",
    "\n",
    "En muchos problemas de _machine learning_, especialmente en clasificación, nos encontramos con conjuntos de datos en los que una clase (llamada **minoritaria**) tiene un número mucho menor de muestras comparada con la otra u otras clases (llamadas **mayoritarias**). Por ejemplo, un escenario clásico es la detección de fraude en tarjetas de crédito: la gran mayoría de las transacciones son legítimas (clase mayoritaria), mientras que las transacciones fraudulentas (clase minoritaria) constituyen un porcentaje muy pequeño.\n",
    "\n",
    "Cuando los modelos de clasificación se entrenan con datos desbalanceados, pueden inclinarse en exceso a predecir siempre la clase mayoritaria, ya que estadísticamente \"aciertan\" la mayoría de las veces. Esto puede reducir de forma drástica la capacidad para detectar adecuadamente la clase de interés (a menudo la minoritaria), que en muchos casos es la más importante (p. ej., detectar fraudes, enfermedades, etc.).\n",
    "\n",
    "**SMOTE** son las siglas de **Synthetic Minority Over-sampling TEchnique**. \n",
    "\n",
    "Se trata de una técnica de **_oversampling_** que genera nuevas muestras sintéticas de la clase minoritaria para aumentar su frecuencia en el dataset, con el objetivo de balancear mejor las clases.\n",
    "\n",
    "**Cómo funciona**:\n",
    "\n",
    "- Identifica cada muestra de la clase minoritaria y localiza a sus vecinos más cercanos (según una métrica de distancia, típicamente la euclidiana).\n",
    "- Selecciona de forma aleatoria algunos de estos vecinos y, a partir de ellos, genera nuevos ejemplos **interpolando** entre la muestra original y el vecino.  \n",
    "    > Esto significa que las características de las nuevas muestras se calculan como un punto situado en la línea que une la muestra original y su vecino.\n",
    "\n",
    "- De esta manera, no se duplican simplemente las muestras minoritarias (como haría un _Random Oversampling_) sino que se generan ejemplos intermedios (sintéticos), lo que en muchos casos mejora la diversidad de la clase minoritaria y ayuda al modelo a generalizar mejor.\n",
    "\n",
    "Ejemplos:\n",
    "\n",
    "* from iblearn.over_sampling import SMOTE\n",
    "* from iblearn.under_sampling import RandomUnderSampler"
   ]
  },
  {
   "cell_type": "code",
   "execution_count": 81,
   "metadata": {},
   "outputs": [],
   "source": [
    "# pip install imbalanced-learn"
   ]
  },
  {
   "cell_type": "markdown",
   "metadata": {},
   "source": [
    "## SMOTE sobre datos demo make_classification"
   ]
  },
  {
   "cell_type": "code",
   "execution_count": 82,
   "metadata": {},
   "outputs": [],
   "source": [
    "import numpy as np\n",
    "import matplotlib.pyplot as plt\n",
    "\n",
    "from sklearn.datasets import make_classification\n",
    "from sklearn.model_selection import train_test_split\n",
    "from sklearn.linear_model import LogisticRegression\n",
    "from sklearn.metrics import classification_report, ConfusionMatrixDisplay\n",
    "from imblearn.over_sampling import SMOTE"
   ]
  },
  {
   "cell_type": "code",
   "execution_count": 83,
   "metadata": {},
   "outputs": [
    {
     "name": "stdout",
     "output_type": "stream",
     "text": [
      "[[ 0.73324554 -1.43100684]\n",
      " [ 1.14555473 -0.82480677]\n",
      " [ 0.53798312 -2.05654971]\n",
      " [ 1.39457591 -0.18326309]\n",
      " [ 0.72012412  0.97723685]]\n",
      "[0 0 0 0 1]\n",
      "[285  15]\n"
     ]
    }
   ],
   "source": [
    "# crear datos desbalanceados para probar SMOTE:\n",
    "\n",
    "X, y = make_classification(\n",
    "    n_samples=300, # número total de filas\n",
    "    n_features=2, # múmero de columnas en la X\n",
    "    n_redundant=0, # número de columnas redundantes\n",
    "    n_clusters_per_class=1,\n",
    "    n_informative=2,\n",
    "    weights=[0.95, 0.05], # datos desbalanceados\n",
    "    class_sep=1,\n",
    "    random_state=42\n",
    ")\n",
    "\n",
    "print(X[:5])\n",
    "print(y[:5])\n",
    "print(np.bincount(y)) # cuenta cuántos 0 y 1 hay"
   ]
  },
  {
   "cell_type": "code",
   "execution_count": 84,
   "metadata": {},
   "outputs": [
    {
     "name": "stdout",
     "output_type": "stream",
     "text": [
      "Tamaño X_train (180, 2)\n",
      "Distribución clases train: [171   9]\n",
      "Tamaño X_test (120, 2)\n",
      "Distribución clases test: [114   6]\n"
     ]
    }
   ],
   "source": [
    "X_train, X_test, y_train, y_test = train_test_split(X, y, test_size=0.40, random_state=42, stratify=y)\n",
    "print('Tamaño X_train', X_train.shape)\n",
    "print('Distribución clases train:', np.bincount(y_train))\n",
    "print('Tamaño X_test', X_test.shape)\n",
    "print('Distribución clases test:', np.bincount(y_test))"
   ]
  },
  {
   "cell_type": "code",
   "execution_count": 85,
   "metadata": {},
   "outputs": [
    {
     "data": {
      "text/plain": [
       "<matplotlib.legend.Legend at 0x1db573da7e0>"
      ]
     },
     "execution_count": 85,
     "metadata": {},
     "output_type": "execute_result"
    },
    {
     "data": {
      "image/png": "[encoded data removed]",
      "text/plain": [
       "<Figure size 640x480 with 1 Axes>"
      ]
     },
     "metadata": {},
     "output_type": "display_data"
    }
   ],
   "source": [
    "# Mostrar los puntos para la clase 0\n",
    "plt.scatter(X_train[y_train == 0, 0], X_train[y_train == 0, 1], label='Clase mayoritaria 0')\n",
    "\n",
    "# Mostrar los puntos para la clase 1\n",
    "plt.scatter(X_train[y_train == 1, 0], X_train[y_train == 1, 1], label='Clase minoritaria 1')\n",
    "plt.title('Datos train desbalanceados')\n",
    "plt.legend()"
   ]
  },
  {
   "cell_type": "code",
   "execution_count": 86,
   "metadata": {},
   "outputs": [
    {
     "name": "stdout",
     "output_type": "stream",
     "text": [
      "              precision    recall  f1-score   support\n",
      "\n",
      "           0       0.98      1.00      0.99       114\n",
      "           1       1.00      0.67      0.80         6\n",
      "\n",
      "    accuracy                           0.98       120\n",
      "   macro avg       0.99      0.83      0.90       120\n",
      "weighted avg       0.98      0.98      0.98       120\n",
      "\n"
     ]
    }
   ],
   "source": [
    "model = LogisticRegression(max_iter=1000)\n",
    "model.fit(X_train, y_train)\n",
    "y_pred = model.predict(X_test)\n",
    "\n",
    "print(classification_report(y_test, y_pred))\n",
    "#ConfusionMatrixDisplay.from_estimator(model, X_test, y_test);"
   ]
  },
  {
   "cell_type": "code",
   "execution_count": 87,
   "metadata": {},
   "outputs": [
    {
     "name": "stdout",
     "output_type": "stream",
     "text": [
      "Tamaño X_train (180, 2)\n",
      "Distribución clases y_train: [171   9]\n",
      "\n",
      "Tamaño X_train_resampled (342, 2)\n",
      "Distribución clases y_train_resampled: [171 171]\n"
     ]
    }
   ],
   "source": [
    "# Con SMOTE\n",
    "smote = SMOTE(random_state=42)\n",
    "X_train_resampled, y_train_resampled = smote.fit_resample(X_train, y_train)\n",
    "\n",
    "print('Tamaño X_train', X_train.shape)\n",
    "print('Distribución clases y_train:', np.bincount(y_train))\n",
    "\n",
    "print('\\nTamaño X_train_resampled', X_train_resampled.shape)\n",
    "print('Distribución clases y_train_resampled:', np.bincount(y_train_resampled))"
   ]
  },
  {
   "cell_type": "code",
   "execution_count": 88,
   "metadata": {},
   "outputs": [
    {
     "data": {
      "image/png": "[encoded data removed]",
      "text/plain": [
       "<Figure size 640x480 with 1 Axes>"
      ]
     },
     "metadata": {},
     "output_type": "display_data"
    }
   ],
   "source": [
    "# Mostrar los puntos para la clase 0\n",
    "plt.scatter(X_train_resampled[y_train_resampled == 0, 0], X_train_resampled[y_train_resampled == 0, 1], label='Clase mayoritaria 0')\n",
    "\n",
    "# Mostrar los puntos para la clase 1\n",
    "plt.scatter(X_train_resampled[y_train_resampled == 1, 0], X_train_resampled[y_train_resampled == 1, 1], label='Clase minoritaria 1')\n",
    "plt.title('Datos train balanceados SMOTE')\n",
    "plt.legend();"
   ]
  },
  {
   "cell_type": "code",
   "execution_count": 89,
   "metadata": {},
   "outputs": [
    {
     "name": "stdout",
     "output_type": "stream",
     "text": [
      "              precision    recall  f1-score   support\n",
      "\n",
      "           0       0.99      0.99      0.99       114\n",
      "           1       0.83      0.83      0.83         6\n",
      "\n",
      "    accuracy                           0.98       120\n",
      "   macro avg       0.91      0.91      0.91       120\n",
      "weighted avg       0.98      0.98      0.98       120\n",
      "\n"
     ]
    },
    {
     "data": {
      "image/png": "[encoded data removed]",
      "text/plain": [
       "<Figure size 640x480 with 2 Axes>"
      ]
     },
     "metadata": {},
     "output_type": "display_data"
    }
   ],
   "source": [
    "model = LogisticRegression(max_iter=1000)\n",
    "model.fit(X_train_resampled, y_train_resampled) # Entrena con datos balanceados por SMOTE\n",
    "y_pred = model.predict(X_test)\n",
    "\n",
    "print(classification_report(y_test, y_pred))\n",
    "ConfusionMatrixDisplay.from_estimator(model, X_test, y_test);"
   ]
  },
  {
   "cell_type": "code",
   "execution_count": 120,
   "metadata": {},
   "outputs": [
    {
     "data": {
      "text/html": [
       "<div>\n",
       "<style scoped>\n",
       "    .dataframe tbody tr th:only-of-type {\n",
       "        vertical-align: middle;\n",
       "    }\n",
       "\n",
       "    .dataframe tbody tr th {\n",
       "        vertical-align: top;\n",
       "    }\n",
       "\n",
       "    .dataframe thead th {\n",
       "        text-align: right;\n",
       "    }\n",
       "</style>\n",
       "<table border=\"1\" class=\"dataframe\">\n",
       "  <thead>\n",
       "    <tr style=\"text-align: right;\">\n",
       "      <th></th>\n",
       "      <th>species</th>\n",
       "      <th>island</th>\n",
       "      <th>bill_length_mm</th>\n",
       "      <th>bill_depth_mm</th>\n",
       "      <th>flipper_length_mm</th>\n",
       "      <th>body_mass_g</th>\n",
       "      <th>sex</th>\n",
       "    </tr>\n",
       "  </thead>\n",
       "  <tbody>\n",
       "    <tr>\n",
       "      <th>0</th>\n",
       "      <td>Adelie</td>\n",
       "      <td>Torgersen</td>\n",
       "      <td>39.1</td>\n",
       "      <td>18.7</td>\n",
       "      <td>181.0</td>\n",
       "      <td>3750.0</td>\n",
       "      <td>Male</td>\n",
       "    </tr>\n",
       "  </tbody>\n",
       "</table>\n",
       "</div>"
      ],
      "text/plain": [
       "  species     island  bill_length_mm  bill_depth_mm  flipper_length_mm  \\\n",
       "0  Adelie  Torgersen            39.1           18.7              181.0   \n",
       "\n",
       "   body_mass_g   sex  \n",
       "0       3750.0  Male  "
      ]
     },
     "execution_count": 120,
     "metadata": {},
     "output_type": "execute_result"
    }
   ],
   "source": [
    "# penguins\n",
    "df = sns.load_dataset('penguins').dropna()\n",
    "df.head(1)"
   ]
  },
  {
   "cell_type": "code",
   "execution_count": 118,
   "metadata": {},
   "outputs": [
    {
     "name": "stdout",
     "output_type": "stream",
     "text": [
      "island\n",
      "Biscoe       163\n",
      "Dream        123\n",
      "Torgersen     47\n",
      "Name: count, dtype: int64\n",
      "species\n",
      "Adelie       146\n",
      "Gentoo       119\n",
      "Chinstrap     68\n",
      "Name: count, dtype: int64\n"
     ]
    }
   ],
   "source": [
    "print(df['island'].value_counts()) # island tiene más desbalanceo\n",
    "print(df['species'].value_counts())"
   ]
  },
  {
   "cell_type": "code",
   "execution_count": 122,
   "metadata": {},
   "outputs": [],
   "source": [
    "X = df.drop('island', axis=1)\n",
    "X = pd.get_dummies(X)\n",
    "y = df['island'].map({'Biscoe': 0, 'Dream': 1, 'Torgersen': 2})\n",
    "\n",
    "X_train, X_test, y_train, y_test = train_test_split(X, y, test_size=0.30, random_state=42, stratify=y)"
   ]
  },
  {
   "cell_type": "code",
   "execution_count": 124,
   "metadata": {},
   "outputs": [
    {
     "name": "stdout",
     "output_type": "stream",
     "text": [
      "              precision    recall  f1-score   support\n",
      "\n",
      "           0       0.80      0.84      0.82        49\n",
      "           1       0.70      0.84      0.77        37\n",
      "           2       0.40      0.14      0.21        14\n",
      "\n",
      "    accuracy                           0.74       100\n",
      "   macro avg       0.64      0.61      0.60       100\n",
      "weighted avg       0.71      0.74      0.71       100\n",
      "\n"
     ]
    },
    {
     "name": "stderr",
     "output_type": "stream",
     "text": [
      "c:\\dev\\mod5-machine-learning-y-deep-learning\\.venv\\Lib\\site-packages\\sklearn\\linear_model\\_logistic.py:465: ConvergenceWarning: lbfgs failed to converge (status=1):\n",
      "STOP: TOTAL NO. OF ITERATIONS REACHED LIMIT.\n",
      "\n",
      "Increase the number of iterations (max_iter) or scale the data as shown in:\n",
      "    https://scikit-learn.org/stable/modules/preprocessing.html\n",
      "Please also refer to the documentation for alternative solver options:\n",
      "    https://scikit-learn.org/stable/modules/linear_model.html#logistic-regression\n",
      "  n_iter_i = _check_optimize_result(\n"
     ]
    }
   ],
   "source": [
    "# Sin SMOTE\n",
    "model = LogisticRegression(max_iter=5000)\n",
    "model.fit(X_train, y_train)\n",
    "y_pred = model.predict(X_test)\n",
    "print(classification_report(y_test, y_pred))"
   ]
  },
  {
   "cell_type": "code",
   "execution_count": 130,
   "metadata": {},
   "outputs": [
    {
     "name": "stdout",
     "output_type": "stream",
     "text": [
      "              precision    recall  f1-score   support\n",
      "\n",
      "           0       0.91      0.84      0.87        49\n",
      "           1       1.00      0.65      0.79        37\n",
      "           2       0.35      0.79      0.49        14\n",
      "\n",
      "    accuracy                           0.76       100\n",
      "   macro avg       0.76      0.76      0.72       100\n",
      "weighted avg       0.87      0.76      0.79       100\n",
      "\n"
     ]
    },
    {
     "name": "stderr",
     "output_type": "stream",
     "text": [
      "c:\\dev\\mod5-machine-learning-y-deep-learning\\.venv\\Lib\\site-packages\\sklearn\\linear_model\\_logistic.py:465: ConvergenceWarning: lbfgs failed to converge (status=1):\n",
      "STOP: TOTAL NO. OF ITERATIONS REACHED LIMIT.\n",
      "\n",
      "Increase the number of iterations (max_iter) or scale the data as shown in:\n",
      "    https://scikit-learn.org/stable/modules/preprocessing.html\n",
      "Please also refer to the documentation for alternative solver options:\n",
      "    https://scikit-learn.org/stable/modules/linear_model.html#logistic-regression\n",
      "  n_iter_i = _check_optimize_result(\n"
     ]
    }
   ],
   "source": [
    "# con SMOTE\n",
    "smote = SMOTE(k_neighbors=9)\n",
    "X_train_resampled, y_train_resampled = smote.fit_resample(X_train, y_train)\n",
    "model = LogisticRegression(max_iter=5000)\n",
    "model.fit(X_train_resampled, y_train_resampled)\n",
    "y_pred = model.predict(X_test)\n",
    "print(classification_report(y_test, y_pred)) # Se observa mejora en todas las métricas"
   ]
  },
  {
   "cell_type": "markdown",
   "metadata": {},
   "source": [
    "## SMOTE con Pipelines\n",
    "\n",
    "Usa pipelines de **imblearn** en lugar de sklearn ya que permiten modificar tanto la \"X\" como la \"y\" y pasarlas a la siguiente fase, en cambio scikit solo modifica la \"X\" de una fase a otra."
   ]
  },
  {
   "cell_type": "code",
   "execution_count": 135,
   "metadata": {},
   "outputs": [
    {
     "name": "stdout",
     "output_type": "stream",
     "text": [
      "              precision    recall  f1-score   support\n",
      "\n",
      "           0       0.80      0.84      0.82        49\n",
      "           1       0.70      0.84      0.77        37\n",
      "           2       0.40      0.14      0.21        14\n",
      "\n",
      "    accuracy                           0.74       100\n",
      "   macro avg       0.64      0.61      0.60       100\n",
      "weighted avg       0.71      0.74      0.71       100\n",
      "\n"
     ]
    },
    {
     "name": "stderr",
     "output_type": "stream",
     "text": [
      "c:\\dev\\mod5-machine-learning-y-deep-learning\\.venv\\Lib\\site-packages\\sklearn\\linear_model\\_logistic.py:465: ConvergenceWarning: lbfgs failed to converge (status=1):\n",
      "STOP: TOTAL NO. OF ITERATIONS REACHED LIMIT.\n",
      "\n",
      "Increase the number of iterations (max_iter) or scale the data as shown in:\n",
      "    https://scikit-learn.org/stable/modules/preprocessing.html\n",
      "Please also refer to the documentation for alternative solver options:\n",
      "    https://scikit-learn.org/stable/modules/linear_model.html#logistic-regression\n",
      "  n_iter_i = _check_optimize_result(\n"
     ]
    }
   ],
   "source": [
    "# Con pipeline\n",
    "# IMPORTANTE, usa imblearn.pipeline no sklearn.pipeline\n",
    "from imblearn.pipeline import Pipeline, make_pipeline\n",
    "\n",
    "pipeline = make_pipeline(\n",
    "    LogisticRegression(max_iter=5000)\n",
    ")\n",
    "pipeline.fit(X_train, y_train)\n",
    "y_pred = pipeline.predict(X_test)\n",
    "print(classification_report(y_test, y_pred)) "
   ]
  },
  {
   "cell_type": "code",
   "execution_count": 139,
   "metadata": {},
   "outputs": [
    {
     "name": "stdout",
     "output_type": "stream",
     "text": [
      "              precision    recall  f1-score   support\n",
      "\n",
      "           0       0.89      0.84      0.86        49\n",
      "           1       1.00      0.68      0.81        37\n",
      "           2       0.34      0.71      0.47        14\n",
      "\n",
      "    accuracy                           0.76       100\n",
      "   macro avg       0.75      0.74      0.71       100\n",
      "weighted avg       0.86      0.76      0.79       100\n",
      "\n"
     ]
    },
    {
     "name": "stderr",
     "output_type": "stream",
     "text": [
      "c:\\dev\\mod5-machine-learning-y-deep-learning\\.venv\\Lib\\site-packages\\sklearn\\linear_model\\_logistic.py:465: ConvergenceWarning: lbfgs failed to converge (status=1):\n",
      "STOP: TOTAL NO. OF ITERATIONS REACHED LIMIT.\n",
      "\n",
      "Increase the number of iterations (max_iter) or scale the data as shown in:\n",
      "    https://scikit-learn.org/stable/modules/preprocessing.html\n",
      "Please also refer to the documentation for alternative solver options:\n",
      "    https://scikit-learn.org/stable/modules/linear_model.html#logistic-regression\n",
      "  n_iter_i = _check_optimize_result(\n"
     ]
    }
   ],
   "source": [
    "pipeline = make_pipeline(\n",
    "    SMOTE(k_neighbors=9),\n",
    "    LogisticRegression(max_iter=5000)\n",
    ")\n",
    "pipeline.fit(X_train, y_train)\n",
    "y_pred = pipeline.predict(X_test)\n",
    "print(classification_report(y_test, y_pred)) "
   ]
  },
  {
   "cell_type": "code",
   "execution_count": 140,
   "metadata": {},
   "outputs": [
    {
     "name": "stdout",
     "output_type": "stream",
     "text": [
      "              precision    recall  f1-score   support\n",
      "\n",
      "           0       0.95      0.82      0.88        49\n",
      "           1       0.83      0.65      0.73        37\n",
      "           2       0.34      0.71      0.47        14\n",
      "\n",
      "    accuracy                           0.74       100\n",
      "   macro avg       0.71      0.73      0.69       100\n",
      "weighted avg       0.82      0.74      0.76       100\n",
      "\n"
     ]
    }
   ],
   "source": [
    "from sklearn.preprocessing import StandardScaler\n",
    "\n",
    "pipeline = make_pipeline(\n",
    "    StandardScaler(),\n",
    "    SMOTE(k_neighbors=9),\n",
    "    LogisticRegression(max_iter=5000)\n",
    ")\n",
    "pipeline.fit(X_train, y_train)\n",
    "y_pred = pipeline.predict(X_test)\n",
    "print(classification_report(y_test, y_pred)) "
   ]
  },
  {
   "cell_type": "markdown",
   "metadata": {},
   "source": [
    "## dataset wine\n",
    "\n",
    "probar más ejemplos para practicar"
   ]
  },
  {
   "cell_type": "code",
   "execution_count": 97,
   "metadata": {},
   "outputs": [
    {
     "data": {
      "text/html": [
       "<div>\n",
       "<style scoped>\n",
       "    .dataframe tbody tr th:only-of-type {\n",
       "        vertical-align: middle;\n",
       "    }\n",
       "\n",
       "    .dataframe tbody tr th {\n",
       "        vertical-align: top;\n",
       "    }\n",
       "\n",
       "    .dataframe thead th {\n",
       "        text-align: right;\n",
       "    }\n",
       "</style>\n",
       "<table border=\"1\" class=\"dataframe\">\n",
       "  <thead>\n",
       "    <tr style=\"text-align: right;\">\n",
       "      <th></th>\n",
       "      <th>alcohol</th>\n",
       "      <th>malic_acid</th>\n",
       "      <th>ash</th>\n",
       "      <th>alcalinity_of_ash</th>\n",
       "      <th>magnesium</th>\n",
       "      <th>total_phenols</th>\n",
       "      <th>flavanoids</th>\n",
       "      <th>nonflavanoid_phenols</th>\n",
       "      <th>proanthocyanins</th>\n",
       "      <th>color_intensity</th>\n",
       "      <th>hue</th>\n",
       "      <th>od280/od315_of_diluted_wines</th>\n",
       "      <th>proline</th>\n",
       "      <th>target</th>\n",
       "    </tr>\n",
       "  </thead>\n",
       "  <tbody>\n",
       "    <tr>\n",
       "      <th>0</th>\n",
       "      <td>14.23</td>\n",
       "      <td>1.71</td>\n",
       "      <td>2.43</td>\n",
       "      <td>15.6</td>\n",
       "      <td>127.0</td>\n",
       "      <td>2.8</td>\n",
       "      <td>3.06</td>\n",
       "      <td>0.28</td>\n",
       "      <td>2.29</td>\n",
       "      <td>5.64</td>\n",
       "      <td>1.04</td>\n",
       "      <td>3.92</td>\n",
       "      <td>1065.0</td>\n",
       "      <td>0</td>\n",
       "    </tr>\n",
       "  </tbody>\n",
       "</table>\n",
       "</div>"
      ],
      "text/plain": [
       "   alcohol  malic_acid   ash  alcalinity_of_ash  magnesium  total_phenols  \\\n",
       "0    14.23        1.71  2.43               15.6      127.0            2.8   \n",
       "\n",
       "   flavanoids  nonflavanoid_phenols  proanthocyanins  color_intensity   hue  \\\n",
       "0        3.06                  0.28             2.29             5.64  1.04   \n",
       "\n",
       "   od280/od315_of_diluted_wines  proline  target  \n",
       "0                          3.92   1065.0       0  "
      ]
     },
     "execution_count": 97,
     "metadata": {},
     "output_type": "execute_result"
    }
   ],
   "source": [
    "# wine: https://archive.ics.uci.edu/dataset/109/wine\n",
    "import pandas as pd\n",
    "from sklearn.datasets import load_wine\n",
    "import seaborn as sns\n",
    "wine = load_wine()\n",
    "df = pd.DataFrame(wine.data, columns=wine.feature_names)\n",
    "df['target'] = wine.target\n",
    "df.head(1)"
   ]
  },
  {
   "cell_type": "code",
   "execution_count": 98,
   "metadata": {},
   "outputs": [
    {
     "data": {
      "text/plain": [
       "<Axes: xlabel='target', ylabel='count'>"
      ]
     },
     "execution_count": 98,
     "metadata": {},
     "output_type": "execute_result"
    },
    {
     "data": {
      "image/png": "[encoded data removed]",
      "text/plain": [
       "<Figure size 640x480 with 1 Axes>"
      ]
     },
     "metadata": {},
     "output_type": "display_data"
    }
   ],
   "source": [
    "sns.countplot(df, x='target')"
   ]
  }
 ],
 "metadata": {
  "kernelspec": {
   "display_name": ".venv",
   "language": "python",
   "name": "python3"
  },
  "language_info": {
   "codemirror_mode": {
    "name": "ipython",
    "version": 3
   },
   "file_extension": ".py",
   "mimetype": "text/x-python",
   "name": "python",
   "nbconvert_exporter": "python",
   "pygments_lexer": "ipython3",
   "version": "3.12.6"
  }
 },
 "nbformat": 4,
 "nbformat_minor": 2
}
