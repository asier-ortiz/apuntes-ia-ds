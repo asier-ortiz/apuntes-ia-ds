{
 "cells": [
  {
   "cell_type": "code",
   "execution_count": 1,
   "metadata": {},
   "outputs": [],
   "source": [
    "edad = 18\n",
    "nombre = 'Mike'"
   ]
  },
  {
   "cell_type": "code",
   "execution_count": 2,
   "metadata": {},
   "outputs": [
    {
     "name": "stdout",
     "output_type": "stream",
     "text": [
      "Welcome to app\n"
     ]
    }
   ],
   "source": [
    "if edad >= 18 and nombre.startswith('M'):\n",
    "    print('Welcome to app')\n",
    "else:\n",
    "    print('Unauthorized')"
   ]
  },
  {
   "cell_type": "code",
   "execution_count": 1,
   "metadata": {},
   "outputs": [
    {
     "name": "stdout",
     "output_type": "stream",
     "text": [
      "18\n"
     ]
    }
   ],
   "source": [
    "edad = 18\n",
    "print(edad)"
   ]
  },
  {
   "cell_type": "code",
   "execution_count": 2,
   "metadata": {},
   "outputs": [
    {
     "name": "stdout",
     "output_type": "stream",
     "text": [
      "['Alba', 'Antoni', 'Aroa', 'Dani']\n",
      "<class 'list'>\n",
      "=======================\n",
      "Alba\n",
      "Antoni\n",
      "Aroa\n",
      "Dani\n",
      "=======================\n",
      "Alba\n",
      "Antoni\n",
      "Aroa\n",
      "Dani\n",
      "************************\n",
      "Alba\n",
      "Antoni\n",
      "Aroa\n",
      "Dani\n"
     ]
    }
   ],
   "source": [
    "nominados = [\"Alba\", \"Antoni\", \"Aroa\", \"Dani\"]\n",
    "print(nominados)\n",
    "print(type(nominados))\n",
    "print(\"=======================\")\n",
    "for nominado in nominados:  # for each\n",
    "    print(nominado)\n",
    "print(\"=======================\")\n",
    "print(nominados[0])\n",
    "print(nominados[1])\n",
    "print(nominados[2])\n",
    "print(nominados[3])\n",
    "print(\"************************\")\n",
    "for i in range(len(nominados)):  # for clásico\n",
    "    print(nominados[i])\n"
   ]
  },
  {
   "cell_type": "code",
   "execution_count": 3,
   "metadata": {},
   "outputs": [
    {
     "name": "stdout",
     "output_type": "stream",
     "text": [
      "HOLA\n"
     ]
    }
   ],
   "source": [
    "def hola():\n",
    "    print('HOLA')\n",
    "\n",
    "hola()"
   ]
  },
  {
   "cell_type": "code",
   "execution_count": 4,
   "metadata": {},
   "outputs": [
    {
     "name": "stdout",
     "output_type": "stream",
     "text": [
      "alan\n"
     ]
    }
   ],
   "source": [
    "hola = lambda text: print(text)\n",
    "\n",
    "hola('alan')"
   ]
  }
 ],
 "metadata": {
  "kernelspec": {
   "display_name": ".curso-2025-01-ia",
   "language": "python",
   "name": "python3"
  },
  "language_info": {
   "codemirror_mode": {
    "name": "ipython",
    "version": 3
   },
   "file_extension": ".py",
   "mimetype": "text/x-python",
   "name": "python",
   "nbconvert_exporter": "python",
   "pygments_lexer": "ipython3",
   "version": "3.13.0"
  }
 },
 "nbformat": 4,
 "nbformat_minor": 2
}
